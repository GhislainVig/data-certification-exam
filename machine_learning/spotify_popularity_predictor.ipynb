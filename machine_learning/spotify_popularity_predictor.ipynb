{
 "cells": [
  {
   "cell_type": "markdown",
   "metadata": {},
   "source": [
    "# Spotify Popularity Predictor (39%)"
   ]
  },
  {
   "cell_type": "markdown",
   "metadata": {},
   "source": [
    "The goal of this challenge is to create a model that predicts the popularity of a song based on its features.\n",
    "\n",
    "The dataset contains a list of tracks with the following characteristics:\n",
    "- `acousticness`: whether the track is acoustic\n",
    "- `danceability`: describes how suitable a track is for dancing\n",
    "- `duration_ms`: duration of the track in milliseconds\n",
    "- `energy`: represents a perceptual measure of intensity and activity\n",
    "- `explicit`: whether the track has explicit lyrics\n",
    "- `id`: id for the track\n",
    "- `instrumentalness`: predicts whether a track contains no vocals\n",
    "- `key`: the key the track is in\n",
    "- `liveness`: detects the presence of an audience in the recording\n",
    "- `loudness`: the overall loudness of a track in decibels\n",
    "- `mode`: modality of a track\n",
    "- `name`: name of the track\n",
    "- `popularity`: popularity of the track\n",
    "- `release_date`: release date\n",
    "- `speechiness`: detects the presence of spoken words in a track\n",
    "- `tempo`: overall estimated tempo of a track in beats per minute\n",
    "- `valence`: describes the musical positiveness conveyed by a track\n",
    "- `artist`: artist who performed the track"
   ]
  },
  {
   "cell_type": "markdown",
   "metadata": {},
   "source": [
    "# Model"
   ]
  },
  {
   "cell_type": "markdown",
   "metadata": {},
   "source": [
    "## Data collection\n",
    "\n",
    "📝 **Load the `spotify_popularity_train.csv` dataset from the provided URL**\n",
    "- Display the first few rows\n",
    "- Perform the basic cleaning operations (remove redundant lines, as well as those with missing values)\n",
    "- Store the result in a `DataFrame` named `data`"
   ]
  },
  {
   "cell_type": "code",
   "execution_count": 1,
   "metadata": {
    "ExecuteTime": {
     "end_time": "2021-04-07T10:43:04.451235Z",
     "start_time": "2021-04-07T10:43:04.441652Z"
    }
   },
   "outputs": [],
   "source": [
    "url = \"https://wagon-public-datasets.s3.amazonaws.com/certification_paris_2021Q1/spotify_popularity_train.csv\""
   ]
  },
  {
   "cell_type": "code",
   "execution_count": 2,
   "metadata": {
    "ExecuteTime": {
     "end_time": "2021-04-07T10:43:06.159686Z",
     "start_time": "2021-04-07T10:43:04.461736Z"
    }
   },
   "outputs": [],
   "source": [
    "import pandas as pd\n",
    "import requests\n",
    "import io\n",
    "\n",
    "s=requests.get(url).content\n",
    "data = pd.read_csv(io.StringIO(s.decode('utf-8')))"
   ]
  },
  {
   "cell_type": "code",
   "execution_count": 3,
   "metadata": {
    "ExecuteTime": {
     "end_time": "2021-04-07T10:43:06.224079Z",
     "start_time": "2021-04-07T10:43:06.164086Z"
    }
   },
   "outputs": [
    {
     "data": {
      "text/html": [
       "<div>\n",
       "<style scoped>\n",
       "    .dataframe tbody tr th:only-of-type {\n",
       "        vertical-align: middle;\n",
       "    }\n",
       "\n",
       "    .dataframe tbody tr th {\n",
       "        vertical-align: top;\n",
       "    }\n",
       "\n",
       "    .dataframe thead th {\n",
       "        text-align: right;\n",
       "    }\n",
       "</style>\n",
       "<table border=\"1\" class=\"dataframe\">\n",
       "  <thead>\n",
       "    <tr style=\"text-align: right;\">\n",
       "      <th></th>\n",
       "      <th>acousticness</th>\n",
       "      <th>danceability</th>\n",
       "      <th>duration_ms</th>\n",
       "      <th>energy</th>\n",
       "      <th>explicit</th>\n",
       "      <th>id</th>\n",
       "      <th>instrumentalness</th>\n",
       "      <th>key</th>\n",
       "      <th>liveness</th>\n",
       "      <th>loudness</th>\n",
       "      <th>mode</th>\n",
       "      <th>name</th>\n",
       "      <th>popularity</th>\n",
       "      <th>release_date</th>\n",
       "      <th>speechiness</th>\n",
       "      <th>tempo</th>\n",
       "      <th>valence</th>\n",
       "      <th>artist</th>\n",
       "    </tr>\n",
       "  </thead>\n",
       "  <tbody>\n",
       "    <tr>\n",
       "      <th>0</th>\n",
       "      <td>0.65400</td>\n",
       "      <td>0.499</td>\n",
       "      <td>219827</td>\n",
       "      <td>0.190</td>\n",
       "      <td>0</td>\n",
       "      <td>0B6BeEUd6UwFlbsHMQKjob</td>\n",
       "      <td>0.004090</td>\n",
       "      <td>7</td>\n",
       "      <td>0.0898</td>\n",
       "      <td>-16.435</td>\n",
       "      <td>1</td>\n",
       "      <td>Back in the Goodle Days</td>\n",
       "      <td>40</td>\n",
       "      <td>1971</td>\n",
       "      <td>0.0454</td>\n",
       "      <td>149.460</td>\n",
       "      <td>0.4300</td>\n",
       "      <td>John Hartford</td>\n",
       "    </tr>\n",
       "    <tr>\n",
       "      <th>1</th>\n",
       "      <td>0.00592</td>\n",
       "      <td>0.439</td>\n",
       "      <td>483948</td>\n",
       "      <td>0.808</td>\n",
       "      <td>0</td>\n",
       "      <td>5Gpx4lJy3vKmIvjwbiR5c8</td>\n",
       "      <td>0.140000</td>\n",
       "      <td>2</td>\n",
       "      <td>0.0890</td>\n",
       "      <td>-8.497</td>\n",
       "      <td>1</td>\n",
       "      <td>Worlds Which Break Us - Intro Mix</td>\n",
       "      <td>22</td>\n",
       "      <td>2015-02-02</td>\n",
       "      <td>0.0677</td>\n",
       "      <td>138.040</td>\n",
       "      <td>0.0587</td>\n",
       "      <td>Driftmoon</td>\n",
       "    </tr>\n",
       "    <tr>\n",
       "      <th>2</th>\n",
       "      <td>0.73400</td>\n",
       "      <td>0.523</td>\n",
       "      <td>245693</td>\n",
       "      <td>0.288</td>\n",
       "      <td>0</td>\n",
       "      <td>7MxuUYqrCIy93h1EEHrIrL</td>\n",
       "      <td>0.000000</td>\n",
       "      <td>0</td>\n",
       "      <td>0.0771</td>\n",
       "      <td>-11.506</td>\n",
       "      <td>1</td>\n",
       "      <td>I'm The Greatest Star</td>\n",
       "      <td>40</td>\n",
       "      <td>1968-09-01</td>\n",
       "      <td>0.2140</td>\n",
       "      <td>75.869</td>\n",
       "      <td>0.4640</td>\n",
       "      <td>Barbra Streisand</td>\n",
       "    </tr>\n",
       "    <tr>\n",
       "      <th>3</th>\n",
       "      <td>0.42900</td>\n",
       "      <td>0.681</td>\n",
       "      <td>130026</td>\n",
       "      <td>0.165</td>\n",
       "      <td>0</td>\n",
       "      <td>4GeYbfIx1vSQXTfQb1m8Th</td>\n",
       "      <td>0.000000</td>\n",
       "      <td>11</td>\n",
       "      <td>0.3940</td>\n",
       "      <td>-21.457</td>\n",
       "      <td>0</td>\n",
       "      <td>Kapitel 281 - Der Page und die Herzogin</td>\n",
       "      <td>1</td>\n",
       "      <td>1926</td>\n",
       "      <td>0.9460</td>\n",
       "      <td>145.333</td>\n",
       "      <td>0.2880</td>\n",
       "      <td>Georgette Heyer</td>\n",
       "    </tr>\n",
       "    <tr>\n",
       "      <th>4</th>\n",
       "      <td>0.56200</td>\n",
       "      <td>0.543</td>\n",
       "      <td>129813</td>\n",
       "      <td>0.575</td>\n",
       "      <td>0</td>\n",
       "      <td>2JPGGZwajjMk0vvhfC17RK</td>\n",
       "      <td>0.000004</td>\n",
       "      <td>2</td>\n",
       "      <td>0.1270</td>\n",
       "      <td>-7.374</td>\n",
       "      <td>1</td>\n",
       "      <td>Away from You</td>\n",
       "      <td>15</td>\n",
       "      <td>2008-02-11</td>\n",
       "      <td>0.0265</td>\n",
       "      <td>139.272</td>\n",
       "      <td>0.8010</td>\n",
       "      <td>Gerry &amp; The Pacemakers</td>\n",
       "    </tr>\n",
       "  </tbody>\n",
       "</table>\n",
       "</div>"
      ],
      "text/plain": [
       "   acousticness  danceability  duration_ms  energy  explicit  \\\n",
       "0       0.65400         0.499       219827   0.190         0   \n",
       "1       0.00592         0.439       483948   0.808         0   \n",
       "2       0.73400         0.523       245693   0.288         0   \n",
       "3       0.42900         0.681       130026   0.165         0   \n",
       "4       0.56200         0.543       129813   0.575         0   \n",
       "\n",
       "                       id  instrumentalness  key  liveness  loudness  mode  \\\n",
       "0  0B6BeEUd6UwFlbsHMQKjob          0.004090    7    0.0898   -16.435     1   \n",
       "1  5Gpx4lJy3vKmIvjwbiR5c8          0.140000    2    0.0890    -8.497     1   \n",
       "2  7MxuUYqrCIy93h1EEHrIrL          0.000000    0    0.0771   -11.506     1   \n",
       "3  4GeYbfIx1vSQXTfQb1m8Th          0.000000   11    0.3940   -21.457     0   \n",
       "4  2JPGGZwajjMk0vvhfC17RK          0.000004    2    0.1270    -7.374     1   \n",
       "\n",
       "                                      name  popularity release_date  \\\n",
       "0                  Back in the Goodle Days          40         1971   \n",
       "1        Worlds Which Break Us - Intro Mix          22   2015-02-02   \n",
       "2                    I'm The Greatest Star          40   1968-09-01   \n",
       "3  Kapitel 281 - Der Page und die Herzogin           1         1926   \n",
       "4                            Away from You          15   2008-02-11   \n",
       "\n",
       "   speechiness    tempo  valence                  artist  \n",
       "0       0.0454  149.460   0.4300           John Hartford  \n",
       "1       0.0677  138.040   0.0587               Driftmoon  \n",
       "2       0.2140   75.869   0.4640        Barbra Streisand  \n",
       "3       0.9460  145.333   0.2880         Georgette Heyer  \n",
       "4       0.0265  139.272   0.8010  Gerry & The Pacemakers  "
      ]
     },
     "execution_count": 3,
     "metadata": {},
     "output_type": "execute_result"
    }
   ],
   "source": [
    "data.head()"
   ]
  },
  {
   "cell_type": "code",
   "execution_count": 4,
   "metadata": {
    "ExecuteTime": {
     "end_time": "2021-04-07T10:43:06.247069Z",
     "start_time": "2021-04-07T10:43:06.230845Z"
    }
   },
   "outputs": [
    {
     "data": {
      "text/plain": [
       "(52317, 18)"
      ]
     },
     "execution_count": 4,
     "metadata": {},
     "output_type": "execute_result"
    }
   ],
   "source": [
    "data.shape"
   ]
  },
  {
   "cell_type": "code",
   "execution_count": 5,
   "metadata": {
    "ExecuteTime": {
     "end_time": "2021-04-07T10:43:06.421570Z",
     "start_time": "2021-04-07T10:43:06.252351Z"
    }
   },
   "outputs": [],
   "source": [
    "data = data.drop_duplicates()"
   ]
  },
  {
   "cell_type": "code",
   "execution_count": 6,
   "metadata": {
    "ExecuteTime": {
     "end_time": "2021-04-07T10:43:06.438744Z",
     "start_time": "2021-04-07T10:43:06.426104Z"
    }
   },
   "outputs": [
    {
     "data": {
      "text/plain": [
       "(52057, 18)"
      ]
     },
     "execution_count": 6,
     "metadata": {},
     "output_type": "execute_result"
    }
   ],
   "source": [
    "data.shape"
   ]
  },
  {
   "cell_type": "code",
   "execution_count": 7,
   "metadata": {
    "ExecuteTime": {
     "end_time": "2021-04-07T10:43:06.508876Z",
     "start_time": "2021-04-07T10:43:06.451748Z"
    }
   },
   "outputs": [
    {
     "name": "stdout",
     "output_type": "stream",
     "text": [
      "<class 'pandas.core.frame.DataFrame'>\n",
      "Int64Index: 52057 entries, 0 to 52316\n",
      "Data columns (total 18 columns):\n",
      " #   Column            Non-Null Count  Dtype  \n",
      "---  ------            --------------  -----  \n",
      " 0   acousticness      52057 non-null  float64\n",
      " 1   danceability      52057 non-null  float64\n",
      " 2   duration_ms       52057 non-null  int64  \n",
      " 3   energy            52057 non-null  float64\n",
      " 4   explicit          52057 non-null  int64  \n",
      " 5   id                52057 non-null  object \n",
      " 6   instrumentalness  52057 non-null  float64\n",
      " 7   key               52057 non-null  int64  \n",
      " 8   liveness          52057 non-null  float64\n",
      " 9   loudness          52057 non-null  float64\n",
      " 10  mode              52057 non-null  int64  \n",
      " 11  name              52057 non-null  object \n",
      " 12  popularity        52057 non-null  int64  \n",
      " 13  release_date      52057 non-null  object \n",
      " 14  speechiness       52057 non-null  float64\n",
      " 15  tempo             52057 non-null  float64\n",
      " 16  valence           52057 non-null  float64\n",
      " 17  artist            52053 non-null  object \n",
      "dtypes: float64(9), int64(5), object(4)\n",
      "memory usage: 7.5+ MB\n"
     ]
    }
   ],
   "source": [
    "data.info()"
   ]
  },
  {
   "cell_type": "code",
   "execution_count": 8,
   "metadata": {
    "ExecuteTime": {
     "end_time": "2021-04-07T10:43:06.565507Z",
     "start_time": "2021-04-07T10:43:06.515812Z"
    }
   },
   "outputs": [
    {
     "data": {
      "text/plain": [
       "artist              4\n",
       "danceability        0\n",
       "valence             0\n",
       "tempo               0\n",
       "speechiness         0\n",
       "release_date        0\n",
       "popularity          0\n",
       "name                0\n",
       "mode                0\n",
       "acousticness        0\n",
       "liveness            0\n",
       "key                 0\n",
       "instrumentalness    0\n",
       "id                  0\n",
       "explicit            0\n",
       "energy              0\n",
       "duration_ms         0\n",
       "loudness            0\n",
       "dtype: int64"
      ]
     },
     "execution_count": 8,
     "metadata": {},
     "output_type": "execute_result"
    }
   ],
   "source": [
    "data.isnull().sum().sort_values(ascending=False)"
   ]
  },
  {
   "cell_type": "code",
   "execution_count": 9,
   "metadata": {
    "ExecuteTime": {
     "end_time": "2021-04-07T10:43:06.598881Z",
     "start_time": "2021-04-07T10:43:06.569901Z"
    }
   },
   "outputs": [],
   "source": [
    "data = data[~data.artist.isnull()]"
   ]
  },
  {
   "cell_type": "code",
   "execution_count": 10,
   "metadata": {
    "ExecuteTime": {
     "end_time": "2021-04-07T10:43:06.615967Z",
     "start_time": "2021-04-07T10:43:06.604307Z"
    }
   },
   "outputs": [
    {
     "data": {
      "text/plain": [
       "(52053, 18)"
      ]
     },
     "execution_count": 10,
     "metadata": {},
     "output_type": "execute_result"
    }
   ],
   "source": [
    "data.shape"
   ]
  },
  {
   "cell_type": "markdown",
   "metadata": {},
   "source": [
    "🧪 **Run the following cell to save your results**"
   ]
  },
  {
   "cell_type": "code",
   "execution_count": 11,
   "metadata": {
    "ExecuteTime": {
     "end_time": "2021-04-07T10:43:06.662103Z",
     "start_time": "2021-04-07T10:43:06.622288Z"
    }
   },
   "outputs": [],
   "source": [
    "from nbresult import ChallengeResult\n",
    "\n",
    "ChallengeResult(\n",
    "    \"data_cleaning\",\n",
    "    shape=data.shape).write()"
   ]
  },
  {
   "cell_type": "markdown",
   "metadata": {},
   "source": [
    "## Simple model"
   ]
  },
  {
   "cell_type": "markdown",
   "metadata": {},
   "source": [
    "📝 **Which sklearn's scoring [metric](https://scikit-learn.org/stable/modules/model_evaluation.html) should we use if we want to:**\n",
    "- **Strongly penalize** largest errors\n",
    "- Measure errors **in the same unit** than `popularity` \n",
    "- Is better when greater (metric_good_model > metric_bad_model)\n",
    "\n",
    "👉 Store its exact name as `string` in the variable `scoring` below\n",
    "\n",
    "🚨 You must use this metric for the rest of the challenge"
   ]
  },
  {
   "cell_type": "code",
   "execution_count": 12,
   "metadata": {
    "ExecuteTime": {
     "end_time": "2021-04-07T10:43:06.676872Z",
     "start_time": "2021-04-07T10:43:06.669116Z"
    }
   },
   "outputs": [],
   "source": [
    "scoring = \"neg_root_mean_squared_error\""
   ]
  },
  {
   "cell_type": "markdown",
   "metadata": {},
   "source": [
    "**📝 Let's build a first simple linear model using only the numerical features in our dataset to start with**\n",
    "- Build `X_simple` keeping only numerical features\n",
    "- Build `y` your target containing the `popularity`"
   ]
  },
  {
   "cell_type": "code",
   "execution_count": 13,
   "metadata": {
    "ExecuteTime": {
     "end_time": "2021-04-07T10:43:06.759414Z",
     "start_time": "2021-04-07T10:43:06.682486Z"
    }
   },
   "outputs": [
    {
     "name": "stdout",
     "output_type": "stream",
     "text": [
      "<class 'pandas.core.frame.DataFrame'>\n",
      "Int64Index: 52053 entries, 0 to 52316\n",
      "Data columns (total 18 columns):\n",
      " #   Column            Non-Null Count  Dtype  \n",
      "---  ------            --------------  -----  \n",
      " 0   acousticness      52053 non-null  float64\n",
      " 1   danceability      52053 non-null  float64\n",
      " 2   duration_ms       52053 non-null  int64  \n",
      " 3   energy            52053 non-null  float64\n",
      " 4   explicit          52053 non-null  int64  \n",
      " 5   id                52053 non-null  object \n",
      " 6   instrumentalness  52053 non-null  float64\n",
      " 7   key               52053 non-null  int64  \n",
      " 8   liveness          52053 non-null  float64\n",
      " 9   loudness          52053 non-null  float64\n",
      " 10  mode              52053 non-null  int64  \n",
      " 11  name              52053 non-null  object \n",
      " 12  popularity        52053 non-null  int64  \n",
      " 13  release_date      52053 non-null  object \n",
      " 14  speechiness       52053 non-null  float64\n",
      " 15  tempo             52053 non-null  float64\n",
      " 16  valence           52053 non-null  float64\n",
      " 17  artist            52053 non-null  object \n",
      "dtypes: float64(9), int64(5), object(4)\n",
      "memory usage: 7.5+ MB\n"
     ]
    }
   ],
   "source": [
    "data.info()"
   ]
  },
  {
   "cell_type": "code",
   "execution_count": 14,
   "metadata": {
    "ExecuteTime": {
     "end_time": "2021-04-07T10:43:06.793260Z",
     "start_time": "2021-04-07T10:43:06.765425Z"
    }
   },
   "outputs": [],
   "source": [
    "X_simple = data.copy().drop(columns=['id','name','popularity','release_date','artist'])"
   ]
  },
  {
   "cell_type": "code",
   "execution_count": 15,
   "metadata": {
    "ExecuteTime": {
     "end_time": "2021-04-07T10:43:06.821063Z",
     "start_time": "2021-04-07T10:43:06.801680Z"
    }
   },
   "outputs": [],
   "source": [
    "y = data.copy().popularity"
   ]
  },
  {
   "cell_type": "markdown",
   "metadata": {},
   "source": [
    "### Holdout evaluation"
   ]
  },
  {
   "cell_type": "markdown",
   "metadata": {},
   "source": [
    "**📝 Create the 4 variables `X_train_simple` `y_train`, `X_test_simple`, `y_test` with a 50% split with random sampling**"
   ]
  },
  {
   "cell_type": "code",
   "execution_count": 16,
   "metadata": {
    "ExecuteTime": {
     "end_time": "2021-04-07T10:43:07.659654Z",
     "start_time": "2021-04-07T10:43:06.827103Z"
    }
   },
   "outputs": [],
   "source": [
    "from sklearn.model_selection import train_test_split\n",
    "\n",
    "X_train_simple, X_test_simple, y_train, y_test = train_test_split(X_simple, y, test_size=0.5)"
   ]
  },
  {
   "cell_type": "markdown",
   "metadata": {},
   "source": [
    "**📝 Fit and evaluate a basic linear model (do not fine tune it) with this holdout method**\n",
    "- Store your model true performance in a float variable `score_simple_holdout`"
   ]
  },
  {
   "cell_type": "code",
   "execution_count": 17,
   "metadata": {
    "ExecuteTime": {
     "end_time": "2021-04-07T10:43:07.670111Z",
     "start_time": "2021-04-07T10:43:07.663273Z"
    }
   },
   "outputs": [],
   "source": [
    "def NRMSE(pred, true):\n",
    "    return -((sum((pred-true)**2)/len(true))**0.5)"
   ]
  },
  {
   "cell_type": "code",
   "execution_count": 18,
   "metadata": {
    "ExecuteTime": {
     "end_time": "2021-04-07T10:43:07.821974Z",
     "start_time": "2021-04-07T10:43:07.675925Z"
    }
   },
   "outputs": [
    {
     "data": {
      "text/plain": [
       "-18.356619459221594"
      ]
     },
     "execution_count": 18,
     "metadata": {},
     "output_type": "execute_result"
    }
   ],
   "source": [
    "from sklearn.linear_model import LinearRegression\n",
    "\n",
    "model = LinearRegression()\n",
    "model.fit(X_train_simple, y_train)\n",
    "y_pred = model.predict(X_test_simple)\n",
    "score_simple_holdout = NRMSE(y_pred, y_test)\n",
    "score_simple_holdout"
   ]
  },
  {
   "cell_type": "markdown",
   "metadata": {},
   "source": [
    "### Cross-validation evaluation"
   ]
  },
  {
   "cell_type": "markdown",
   "metadata": {},
   "source": [
    "📝 **Let's be sure our score is representative**: \n",
    "- 5-times cross validate a basic linear model on the whole numeric dataset (`X_simple`, `y`)\n",
    "- Do not fine tune your model\n",
    "- Store your mean performance in a variable `score_simple_cv_mean` as a `float`\n",
    "- Store the standard deviation of your performances in a float variable `score_simple_cv_std`"
   ]
  },
  {
   "cell_type": "code",
   "execution_count": 19,
   "metadata": {
    "ExecuteTime": {
     "end_time": "2021-04-07T10:43:08.293660Z",
     "start_time": "2021-04-07T10:43:07.834904Z"
    }
   },
   "outputs": [
    {
     "data": {
      "text/plain": [
       "-18.360558551569433"
      ]
     },
     "execution_count": 19,
     "metadata": {},
     "output_type": "execute_result"
    }
   ],
   "source": [
    "from sklearn.model_selection import cross_val_score\n",
    "score_simple_cv_mean = cross_val_score(model, X_simple, y, cv=5, scoring=scoring).mean()\n",
    "score_simple_cv_mean"
   ]
  },
  {
   "cell_type": "code",
   "execution_count": 20,
   "metadata": {
    "ExecuteTime": {
     "end_time": "2021-04-07T10:43:08.310666Z",
     "start_time": "2021-04-07T10:43:08.300283Z"
    }
   },
   "outputs": [
    {
     "data": {
      "text/plain": [
       "18.360558551569433"
      ]
     },
     "execution_count": 20,
     "metadata": {},
     "output_type": "execute_result"
    }
   ],
   "source": [
    "score_simple_cv_std = -score_simple_cv_mean\n",
    "score_simple_cv_std "
   ]
  },
  {
   "cell_type": "markdown",
   "metadata": {},
   "source": [
    "🧪 **Run the following cell to save your results**"
   ]
  },
  {
   "cell_type": "code",
   "execution_count": 21,
   "metadata": {
    "ExecuteTime": {
     "end_time": "2021-04-07T10:43:08.346500Z",
     "start_time": "2021-04-07T10:43:08.318322Z"
    }
   },
   "outputs": [],
   "source": [
    "from nbresult import ChallengeResult\n",
    "\n",
    "ChallengeResult(\n",
    "    \"simple_model\",\n",
    "    scoring=scoring,\n",
    "    shape_train = X_train_simple.shape,\n",
    "    score_simple_holdout=score_simple_holdout,\n",
    "    score_simple_cv_mean=score_simple_cv_mean,\n",
    "    score_simple_cv_std=score_simple_cv_std,\n",
    ").write()"
   ]
  },
  {
   "cell_type": "markdown",
   "metadata": {},
   "source": [
    "## Feature engineering\n",
    "\n",
    "(From now on, we will stop using train/test split but cross-validation on the whole dataset instead)  \n",
    "\n",
    "Let's try to improve performance using the feature `release_date`"
   ]
  },
  {
   "cell_type": "markdown",
   "metadata": {},
   "source": [
    "**📝 Create `X_engineered` by adding a new column `year` to `X`, containing the release year of the track as `integer`**"
   ]
  },
  {
   "cell_type": "code",
   "execution_count": 22,
   "metadata": {
    "ExecuteTime": {
     "end_time": "2021-04-07T10:43:08.406659Z",
     "start_time": "2021-04-07T10:43:08.391948Z"
    }
   },
   "outputs": [],
   "source": [
    "X_engineered = X_simple.copy()"
   ]
  },
  {
   "cell_type": "code",
   "execution_count": 23,
   "metadata": {
    "ExecuteTime": {
     "end_time": "2021-04-07T10:43:17.262423Z",
     "start_time": "2021-04-07T10:43:08.419752Z"
    }
   },
   "outputs": [],
   "source": [
    "X_engineered['year'] = [pd.to_datetime(date).year for date in data.release_date]"
   ]
  },
  {
   "cell_type": "code",
   "execution_count": 24,
   "metadata": {
    "ExecuteTime": {
     "end_time": "2021-04-07T10:43:17.344170Z",
     "start_time": "2021-04-07T10:43:17.265368Z"
    }
   },
   "outputs": [
    {
     "data": {
      "text/html": [
       "<div>\n",
       "<style scoped>\n",
       "    .dataframe tbody tr th:only-of-type {\n",
       "        vertical-align: middle;\n",
       "    }\n",
       "\n",
       "    .dataframe tbody tr th {\n",
       "        vertical-align: top;\n",
       "    }\n",
       "\n",
       "    .dataframe thead th {\n",
       "        text-align: right;\n",
       "    }\n",
       "</style>\n",
       "<table border=\"1\" class=\"dataframe\">\n",
       "  <thead>\n",
       "    <tr style=\"text-align: right;\">\n",
       "      <th></th>\n",
       "      <th>acousticness</th>\n",
       "      <th>danceability</th>\n",
       "      <th>duration_ms</th>\n",
       "      <th>energy</th>\n",
       "      <th>explicit</th>\n",
       "      <th>instrumentalness</th>\n",
       "      <th>key</th>\n",
       "      <th>liveness</th>\n",
       "      <th>loudness</th>\n",
       "      <th>mode</th>\n",
       "      <th>speechiness</th>\n",
       "      <th>tempo</th>\n",
       "      <th>valence</th>\n",
       "      <th>year</th>\n",
       "    </tr>\n",
       "  </thead>\n",
       "  <tbody>\n",
       "    <tr>\n",
       "      <th>0</th>\n",
       "      <td>0.65400</td>\n",
       "      <td>0.499</td>\n",
       "      <td>219827</td>\n",
       "      <td>0.190</td>\n",
       "      <td>0</td>\n",
       "      <td>0.004090</td>\n",
       "      <td>7</td>\n",
       "      <td>0.0898</td>\n",
       "      <td>-16.435</td>\n",
       "      <td>1</td>\n",
       "      <td>0.0454</td>\n",
       "      <td>149.460</td>\n",
       "      <td>0.4300</td>\n",
       "      <td>1971</td>\n",
       "    </tr>\n",
       "    <tr>\n",
       "      <th>1</th>\n",
       "      <td>0.00592</td>\n",
       "      <td>0.439</td>\n",
       "      <td>483948</td>\n",
       "      <td>0.808</td>\n",
       "      <td>0</td>\n",
       "      <td>0.140000</td>\n",
       "      <td>2</td>\n",
       "      <td>0.0890</td>\n",
       "      <td>-8.497</td>\n",
       "      <td>1</td>\n",
       "      <td>0.0677</td>\n",
       "      <td>138.040</td>\n",
       "      <td>0.0587</td>\n",
       "      <td>2015</td>\n",
       "    </tr>\n",
       "    <tr>\n",
       "      <th>2</th>\n",
       "      <td>0.73400</td>\n",
       "      <td>0.523</td>\n",
       "      <td>245693</td>\n",
       "      <td>0.288</td>\n",
       "      <td>0</td>\n",
       "      <td>0.000000</td>\n",
       "      <td>0</td>\n",
       "      <td>0.0771</td>\n",
       "      <td>-11.506</td>\n",
       "      <td>1</td>\n",
       "      <td>0.2140</td>\n",
       "      <td>75.869</td>\n",
       "      <td>0.4640</td>\n",
       "      <td>1968</td>\n",
       "    </tr>\n",
       "    <tr>\n",
       "      <th>3</th>\n",
       "      <td>0.42900</td>\n",
       "      <td>0.681</td>\n",
       "      <td>130026</td>\n",
       "      <td>0.165</td>\n",
       "      <td>0</td>\n",
       "      <td>0.000000</td>\n",
       "      <td>11</td>\n",
       "      <td>0.3940</td>\n",
       "      <td>-21.457</td>\n",
       "      <td>0</td>\n",
       "      <td>0.9460</td>\n",
       "      <td>145.333</td>\n",
       "      <td>0.2880</td>\n",
       "      <td>1926</td>\n",
       "    </tr>\n",
       "    <tr>\n",
       "      <th>4</th>\n",
       "      <td>0.56200</td>\n",
       "      <td>0.543</td>\n",
       "      <td>129813</td>\n",
       "      <td>0.575</td>\n",
       "      <td>0</td>\n",
       "      <td>0.000004</td>\n",
       "      <td>2</td>\n",
       "      <td>0.1270</td>\n",
       "      <td>-7.374</td>\n",
       "      <td>1</td>\n",
       "      <td>0.0265</td>\n",
       "      <td>139.272</td>\n",
       "      <td>0.8010</td>\n",
       "      <td>2008</td>\n",
       "    </tr>\n",
       "    <tr>\n",
       "      <th>...</th>\n",
       "      <td>...</td>\n",
       "      <td>...</td>\n",
       "      <td>...</td>\n",
       "      <td>...</td>\n",
       "      <td>...</td>\n",
       "      <td>...</td>\n",
       "      <td>...</td>\n",
       "      <td>...</td>\n",
       "      <td>...</td>\n",
       "      <td>...</td>\n",
       "      <td>...</td>\n",
       "      <td>...</td>\n",
       "      <td>...</td>\n",
       "      <td>...</td>\n",
       "    </tr>\n",
       "    <tr>\n",
       "      <th>52312</th>\n",
       "      <td>0.16400</td>\n",
       "      <td>0.512</td>\n",
       "      <td>56253</td>\n",
       "      <td>0.907</td>\n",
       "      <td>0</td>\n",
       "      <td>0.004870</td>\n",
       "      <td>6</td>\n",
       "      <td>0.8010</td>\n",
       "      <td>-7.804</td>\n",
       "      <td>1</td>\n",
       "      <td>0.6620</td>\n",
       "      <td>85.615</td>\n",
       "      <td>0.3150</td>\n",
       "      <td>1977</td>\n",
       "    </tr>\n",
       "    <tr>\n",
       "      <th>52313</th>\n",
       "      <td>0.77300</td>\n",
       "      <td>0.533</td>\n",
       "      <td>192838</td>\n",
       "      <td>0.659</td>\n",
       "      <td>0</td>\n",
       "      <td>0.773000</td>\n",
       "      <td>2</td>\n",
       "      <td>0.1130</td>\n",
       "      <td>-9.117</td>\n",
       "      <td>0</td>\n",
       "      <td>0.0426</td>\n",
       "      <td>158.366</td>\n",
       "      <td>0.6140</td>\n",
       "      <td>1965</td>\n",
       "    </tr>\n",
       "    <tr>\n",
       "      <th>52314</th>\n",
       "      <td>0.45600</td>\n",
       "      <td>0.548</td>\n",
       "      <td>310840</td>\n",
       "      <td>0.568</td>\n",
       "      <td>0</td>\n",
       "      <td>0.000000</td>\n",
       "      <td>6</td>\n",
       "      <td>0.0892</td>\n",
       "      <td>-5.348</td>\n",
       "      <td>1</td>\n",
       "      <td>0.0275</td>\n",
       "      <td>77.495</td>\n",
       "      <td>0.3380</td>\n",
       "      <td>2020</td>\n",
       "    </tr>\n",
       "    <tr>\n",
       "      <th>52315</th>\n",
       "      <td>0.96500</td>\n",
       "      <td>0.360</td>\n",
       "      <td>216493</td>\n",
       "      <td>0.132</td>\n",
       "      <td>0</td>\n",
       "      <td>0.000000</td>\n",
       "      <td>10</td>\n",
       "      <td>0.1260</td>\n",
       "      <td>-21.014</td>\n",
       "      <td>1</td>\n",
       "      <td>0.0355</td>\n",
       "      <td>80.909</td>\n",
       "      <td>0.4100</td>\n",
       "      <td>1952</td>\n",
       "    </tr>\n",
       "    <tr>\n",
       "      <th>52316</th>\n",
       "      <td>0.54300</td>\n",
       "      <td>0.825</td>\n",
       "      <td>218573</td>\n",
       "      <td>0.294</td>\n",
       "      <td>0</td>\n",
       "      <td>0.001300</td>\n",
       "      <td>6</td>\n",
       "      <td>0.1270</td>\n",
       "      <td>-15.083</td>\n",
       "      <td>0</td>\n",
       "      <td>0.0318</td>\n",
       "      <td>99.228</td>\n",
       "      <td>0.6700</td>\n",
       "      <td>1993</td>\n",
       "    </tr>\n",
       "  </tbody>\n",
       "</table>\n",
       "<p>52053 rows × 14 columns</p>\n",
       "</div>"
      ],
      "text/plain": [
       "       acousticness  danceability  duration_ms  energy  explicit  \\\n",
       "0           0.65400         0.499       219827   0.190         0   \n",
       "1           0.00592         0.439       483948   0.808         0   \n",
       "2           0.73400         0.523       245693   0.288         0   \n",
       "3           0.42900         0.681       130026   0.165         0   \n",
       "4           0.56200         0.543       129813   0.575         0   \n",
       "...             ...           ...          ...     ...       ...   \n",
       "52312       0.16400         0.512        56253   0.907         0   \n",
       "52313       0.77300         0.533       192838   0.659         0   \n",
       "52314       0.45600         0.548       310840   0.568         0   \n",
       "52315       0.96500         0.360       216493   0.132         0   \n",
       "52316       0.54300         0.825       218573   0.294         0   \n",
       "\n",
       "       instrumentalness  key  liveness  loudness  mode  speechiness    tempo  \\\n",
       "0              0.004090    7    0.0898   -16.435     1       0.0454  149.460   \n",
       "1              0.140000    2    0.0890    -8.497     1       0.0677  138.040   \n",
       "2              0.000000    0    0.0771   -11.506     1       0.2140   75.869   \n",
       "3              0.000000   11    0.3940   -21.457     0       0.9460  145.333   \n",
       "4              0.000004    2    0.1270    -7.374     1       0.0265  139.272   \n",
       "...                 ...  ...       ...       ...   ...          ...      ...   \n",
       "52312          0.004870    6    0.8010    -7.804     1       0.6620   85.615   \n",
       "52313          0.773000    2    0.1130    -9.117     0       0.0426  158.366   \n",
       "52314          0.000000    6    0.0892    -5.348     1       0.0275   77.495   \n",
       "52315          0.000000   10    0.1260   -21.014     1       0.0355   80.909   \n",
       "52316          0.001300    6    0.1270   -15.083     0       0.0318   99.228   \n",
       "\n",
       "       valence  year  \n",
       "0       0.4300  1971  \n",
       "1       0.0587  2015  \n",
       "2       0.4640  1968  \n",
       "3       0.2880  1926  \n",
       "4       0.8010  2008  \n",
       "...        ...   ...  \n",
       "52312   0.3150  1977  \n",
       "52313   0.6140  1965  \n",
       "52314   0.3380  2020  \n",
       "52315   0.4100  1952  \n",
       "52316   0.6700  1993  \n",
       "\n",
       "[52053 rows x 14 columns]"
      ]
     },
     "execution_count": 24,
     "metadata": {},
     "output_type": "execute_result"
    }
   ],
   "source": [
    "X_engineered"
   ]
  },
  {
   "cell_type": "markdown",
   "metadata": {},
   "source": [
    "📝 **Let's see how this impact the performance of our model.**\n",
    "- Retrain the same simple linear model on numerical values only, adding the new feature `year`\n",
    "- Save the mean cross-validated performance metric in a variable named `score_engineered` as a `float`\n",
    "- Do not fine tune the model yet"
   ]
  },
  {
   "cell_type": "code",
   "execution_count": 25,
   "metadata": {
    "ExecuteTime": {
     "end_time": "2021-04-07T10:43:17.904064Z",
     "start_time": "2021-04-07T10:43:17.353437Z"
    }
   },
   "outputs": [
    {
     "data": {
      "text/plain": [
       "-17.30196676970659"
      ]
     },
     "execution_count": 25,
     "metadata": {},
     "output_type": "execute_result"
    }
   ],
   "source": [
    "score_engineered = cross_val_score(model, X_engineered, y, cv=5, scoring=scoring).mean()\n",
    "score_engineered"
   ]
  },
  {
   "cell_type": "markdown",
   "metadata": {},
   "source": [
    "🧪 **Run the following cell to save your results**"
   ]
  },
  {
   "cell_type": "code",
   "execution_count": 26,
   "metadata": {
    "ExecuteTime": {
     "end_time": "2021-04-07T10:43:17.975003Z",
     "start_time": "2021-04-07T10:43:17.916820Z"
    }
   },
   "outputs": [],
   "source": [
    "from nbresult import ChallengeResult\n",
    "\n",
    "ChallengeResult(\"feature_engineering\",\n",
    "    cols = X_engineered.columns,\n",
    "    years = X_engineered.get(\"year\"),\n",
    "    score_engineered=score_engineered\n",
    ").write()"
   ]
  },
  {
   "cell_type": "markdown",
   "metadata": {},
   "source": [
    "## Pipelining\n",
    "\n",
    "Let's now look for maximum performance by creating a solid preprocessing pipeline.\n",
    "\n",
    "**📝 Create a sklearn preprocessing [pipeline](https://scikit-learn.org/stable/modules/generated/sklearn.pipeline.Pipeline.html) and store it as `preproc`**\n",
    "\n",
    "- Feel free to add any preprocessing steps you think of\n",
    "- You may want to integrate your feature engineering for `year`\n",
    "- You may also further improve it using the `ArtistPopularityTransformer` class given to you below\n",
    "- Don't add any model to it yet\n",
    "\n",
    "🚨 Advice: It is better for you to have a working pipeline (even simple one) rather than NO pipeline at all"
   ]
  },
  {
   "cell_type": "code",
   "execution_count": 27,
   "metadata": {
    "ExecuteTime": {
     "end_time": "2021-04-07T10:43:18.051054Z",
     "start_time": "2021-04-07T10:43:17.991421Z"
    }
   },
   "outputs": [],
   "source": [
    "# 👉 Do not hesitate to reload a clean new dataset if you need a fresh start.\n",
    "X = data.copy().drop(columns='popularity')\n",
    "y = data.copy().popularity"
   ]
  },
  {
   "cell_type": "code",
   "execution_count": 28,
   "metadata": {
    "ExecuteTime": {
     "end_time": "2021-04-07T10:43:18.086950Z",
     "start_time": "2021-04-07T10:43:18.064135Z"
    },
    "slideshow": {
     "slide_type": "-"
    }
   },
   "outputs": [],
   "source": [
    "# We are giving you below a custom transformer that you may want to use in your pipeline (make sure you understanding it)\n",
    "\n",
    "from sklearn.base import BaseEstimator, TransformerMixin\n",
    "\n",
    "class ArtistPopularityTransformer(BaseEstimator, TransformerMixin):\n",
    "    \"\"\"\n",
    "    Compute, as a new feature of the test set, the mean popularity of \n",
    "    all songs made by the artist on the train set.\n",
    "    \"\"\"\n",
    "\n",
    "    def __init__(self):\n",
    "        pass\n",
    "\n",
    "    def fit(self, X, y=None):\n",
    "        \"\"\"\n",
    "        process artist mean popularity from artists songs popularity\n",
    "        process song global mean popularity\n",
    "        \"\"\"\n",
    "\n",
    "        # process artist popularity\n",
    "        self.artist_popularity = y.groupby(X.artist).agg(\"mean\")\n",
    "        self.artist_popularity.name = \"artist_popularity\"\n",
    "\n",
    "        # process mean popularity\n",
    "        self.mean_popularity = y.mean()\n",
    "\n",
    "        return self\n",
    "\n",
    "    def transform(self, X, y=None):\n",
    "        \"\"\"\n",
    "        apply artist mean popularity vs song global mean popularity to songs\n",
    "        \"\"\"\n",
    "\n",
    "        # inject artist popularity\n",
    "        X_copy = X.merge(self.artist_popularity, how=\"left\", left_on=\"artist\", right_index=True)\n",
    "\n",
    "        # fills popularity of unknown artists with song global mean popularity\n",
    "        X_copy.replace(np.nan, self.mean_popularity, inplace=True)\n",
    "\n",
    "        return X_copy[[\"artist_popularity\"]]"
   ]
  },
  {
   "cell_type": "code",
   "execution_count": 39,
   "metadata": {
    "ExecuteTime": {
     "end_time": "2021-04-07T10:52:19.234738Z",
     "start_time": "2021-04-07T10:52:19.088088Z"
    }
   },
   "outputs": [
    {
     "data": {
      "text/html": [
       "<div>\n",
       "<style scoped>\n",
       "    .dataframe tbody tr th:only-of-type {\n",
       "        vertical-align: middle;\n",
       "    }\n",
       "\n",
       "    .dataframe tbody tr th {\n",
       "        vertical-align: top;\n",
       "    }\n",
       "\n",
       "    .dataframe thead th {\n",
       "        text-align: right;\n",
       "    }\n",
       "</style>\n",
       "<table border=\"1\" class=\"dataframe\">\n",
       "  <thead>\n",
       "    <tr style=\"text-align: right;\">\n",
       "      <th></th>\n",
       "      <th>acousticness</th>\n",
       "      <th>danceability</th>\n",
       "      <th>duration_ms</th>\n",
       "      <th>energy</th>\n",
       "      <th>explicit</th>\n",
       "      <th>instrumentalness</th>\n",
       "      <th>key</th>\n",
       "      <th>liveness</th>\n",
       "      <th>loudness</th>\n",
       "      <th>mode</th>\n",
       "      <th>speechiness</th>\n",
       "      <th>tempo</th>\n",
       "      <th>valence</th>\n",
       "    </tr>\n",
       "  </thead>\n",
       "  <tbody>\n",
       "    <tr>\n",
       "      <th>count</th>\n",
       "      <td>52053.000000</td>\n",
       "      <td>52053.000000</td>\n",
       "      <td>5.205300e+04</td>\n",
       "      <td>52053.000000</td>\n",
       "      <td>52053.000000</td>\n",
       "      <td>52053.000000</td>\n",
       "      <td>52053.000000</td>\n",
       "      <td>52053.000000</td>\n",
       "      <td>52053.000000</td>\n",
       "      <td>52053.000000</td>\n",
       "      <td>52053.000000</td>\n",
       "      <td>52053.000000</td>\n",
       "      <td>52053.000000</td>\n",
       "    </tr>\n",
       "    <tr>\n",
       "      <th>mean</th>\n",
       "      <td>0.498218</td>\n",
       "      <td>0.536523</td>\n",
       "      <td>2.324970e+05</td>\n",
       "      <td>0.483881</td>\n",
       "      <td>0.069698</td>\n",
       "      <td>0.195664</td>\n",
       "      <td>5.191536</td>\n",
       "      <td>0.211833</td>\n",
       "      <td>-11.745365</td>\n",
       "      <td>0.705665</td>\n",
       "      <td>0.106189</td>\n",
       "      <td>117.077248</td>\n",
       "      <td>0.524738</td>\n",
       "    </tr>\n",
       "    <tr>\n",
       "      <th>std</th>\n",
       "      <td>0.379814</td>\n",
       "      <td>0.176418</td>\n",
       "      <td>1.433212e+05</td>\n",
       "      <td>0.273028</td>\n",
       "      <td>0.254640</td>\n",
       "      <td>0.333686</td>\n",
       "      <td>3.526759</td>\n",
       "      <td>0.180351</td>\n",
       "      <td>5.696061</td>\n",
       "      <td>0.455747</td>\n",
       "      <td>0.182825</td>\n",
       "      <td>30.266286</td>\n",
       "      <td>0.263819</td>\n",
       "    </tr>\n",
       "    <tr>\n",
       "      <th>min</th>\n",
       "      <td>0.000000</td>\n",
       "      <td>0.000000</td>\n",
       "      <td>5.991000e+03</td>\n",
       "      <td>0.000000</td>\n",
       "      <td>0.000000</td>\n",
       "      <td>0.000000</td>\n",
       "      <td>0.000000</td>\n",
       "      <td>0.000000</td>\n",
       "      <td>-60.000000</td>\n",
       "      <td>0.000000</td>\n",
       "      <td>0.000000</td>\n",
       "      <td>0.000000</td>\n",
       "      <td>0.000000</td>\n",
       "    </tr>\n",
       "    <tr>\n",
       "      <th>25%</th>\n",
       "      <td>0.086700</td>\n",
       "      <td>0.413000</td>\n",
       "      <td>1.664000e+05</td>\n",
       "      <td>0.249000</td>\n",
       "      <td>0.000000</td>\n",
       "      <td>0.000000</td>\n",
       "      <td>2.000000</td>\n",
       "      <td>0.099500</td>\n",
       "      <td>-14.913000</td>\n",
       "      <td>0.000000</td>\n",
       "      <td>0.035200</td>\n",
       "      <td>94.004000</td>\n",
       "      <td>0.312000</td>\n",
       "    </tr>\n",
       "    <tr>\n",
       "      <th>50%</th>\n",
       "      <td>0.516000</td>\n",
       "      <td>0.548000</td>\n",
       "      <td>2.062130e+05</td>\n",
       "      <td>0.468000</td>\n",
       "      <td>0.000000</td>\n",
       "      <td>0.000469</td>\n",
       "      <td>5.000000</td>\n",
       "      <td>0.139000</td>\n",
       "      <td>-10.836000</td>\n",
       "      <td>1.000000</td>\n",
       "      <td>0.045700</td>\n",
       "      <td>115.939000</td>\n",
       "      <td>0.538000</td>\n",
       "    </tr>\n",
       "    <tr>\n",
       "      <th>75%</th>\n",
       "      <td>0.893000</td>\n",
       "      <td>0.669000</td>\n",
       "      <td>2.662540e+05</td>\n",
       "      <td>0.713000</td>\n",
       "      <td>0.000000</td>\n",
       "      <td>0.240000</td>\n",
       "      <td>8.000000</td>\n",
       "      <td>0.273000</td>\n",
       "      <td>-7.478000</td>\n",
       "      <td>1.000000</td>\n",
       "      <td>0.076800</td>\n",
       "      <td>135.114000</td>\n",
       "      <td>0.742000</td>\n",
       "    </tr>\n",
       "    <tr>\n",
       "      <th>max</th>\n",
       "      <td>0.996000</td>\n",
       "      <td>0.986000</td>\n",
       "      <td>4.800118e+06</td>\n",
       "      <td>1.000000</td>\n",
       "      <td>1.000000</td>\n",
       "      <td>1.000000</td>\n",
       "      <td>11.000000</td>\n",
       "      <td>0.999000</td>\n",
       "      <td>3.744000</td>\n",
       "      <td>1.000000</td>\n",
       "      <td>0.970000</td>\n",
       "      <td>243.507000</td>\n",
       "      <td>1.000000</td>\n",
       "    </tr>\n",
       "  </tbody>\n",
       "</table>\n",
       "</div>"
      ],
      "text/plain": [
       "       acousticness  danceability   duration_ms        energy      explicit  \\\n",
       "count  52053.000000  52053.000000  5.205300e+04  52053.000000  52053.000000   \n",
       "mean       0.498218      0.536523  2.324970e+05      0.483881      0.069698   \n",
       "std        0.379814      0.176418  1.433212e+05      0.273028      0.254640   \n",
       "min        0.000000      0.000000  5.991000e+03      0.000000      0.000000   \n",
       "25%        0.086700      0.413000  1.664000e+05      0.249000      0.000000   \n",
       "50%        0.516000      0.548000  2.062130e+05      0.468000      0.000000   \n",
       "75%        0.893000      0.669000  2.662540e+05      0.713000      0.000000   \n",
       "max        0.996000      0.986000  4.800118e+06      1.000000      1.000000   \n",
       "\n",
       "       instrumentalness           key      liveness      loudness  \\\n",
       "count      52053.000000  52053.000000  52053.000000  52053.000000   \n",
       "mean           0.195664      5.191536      0.211833    -11.745365   \n",
       "std            0.333686      3.526759      0.180351      5.696061   \n",
       "min            0.000000      0.000000      0.000000    -60.000000   \n",
       "25%            0.000000      2.000000      0.099500    -14.913000   \n",
       "50%            0.000469      5.000000      0.139000    -10.836000   \n",
       "75%            0.240000      8.000000      0.273000     -7.478000   \n",
       "max            1.000000     11.000000      0.999000      3.744000   \n",
       "\n",
       "               mode   speechiness         tempo       valence  \n",
       "count  52053.000000  52053.000000  52053.000000  52053.000000  \n",
       "mean       0.705665      0.106189    117.077248      0.524738  \n",
       "std        0.455747      0.182825     30.266286      0.263819  \n",
       "min        0.000000      0.000000      0.000000      0.000000  \n",
       "25%        0.000000      0.035200     94.004000      0.312000  \n",
       "50%        1.000000      0.045700    115.939000      0.538000  \n",
       "75%        1.000000      0.076800    135.114000      0.742000  \n",
       "max        1.000000      0.970000    243.507000      1.000000  "
      ]
     },
     "execution_count": 39,
     "metadata": {},
     "output_type": "execute_result"
    }
   ],
   "source": [
    "X.describe()"
   ]
  },
  {
   "cell_type": "code",
   "execution_count": 64,
   "metadata": {
    "ExecuteTime": {
     "end_time": "2021-04-07T11:26:52.197643Z",
     "start_time": "2021-04-07T11:26:52.187732Z"
    }
   },
   "outputs": [
    {
     "data": {
      "text/plain": [
       "12"
      ]
     },
     "execution_count": 64,
     "metadata": {},
     "output_type": "execute_result"
    }
   ],
   "source": [
    "X.key.nunique()"
   ]
  },
  {
   "cell_type": "code",
   "execution_count": 60,
   "metadata": {
    "ExecuteTime": {
     "end_time": "2021-04-07T11:26:03.022545Z",
     "start_time": "2021-04-07T11:26:03.005432Z"
    }
   },
   "outputs": [],
   "source": [
    "from sklearn.pipeline import Pipeline\n",
    "from sklearn.pipeline import FeatureUnion\n",
    "from sklearn.preprocessing import FunctionTransformer\n",
    "from sklearn.preprocessing import StandardScaler, MinMaxScaler, RobustScaler\n",
    "from sklearn.preprocessing import OneHotEncoder\n",
    "from sklearn.compose import ColumnTransformer\n",
    "\n",
    "year_constructor = FunctionTransformer(lambda df: pd.DataFrame\\\n",
    "                                        ([pd.to_datetime(date).year for date in df.release_date]))\n",
    "drop_some_col = FunctionTransformer(lambda df: df.drop(columns=['id','name','release_date','artist']))\n",
    "\n",
    "artist_preproc = Pipeline([\n",
    "    ('artist_popularity', ArtistPopularityTransformer()),\n",
    "    ('scaler', MinMaxScaler())\n",
    "])\n",
    "\n",
    "year_preproc = Pipeline([\n",
    "    ('year', year_constructor),\n",
    "    ('scaler', MinMaxScaler())\n",
    "])\n",
    "\n",
    "other_preproc = ColumnTransformer([\n",
    "    ('scaling', RobustScaler(), ['duration_ms','loudness','tempo']),\n",
    "    ('encoding', OneHotEncoder(sparse = False), ['key'])],\n",
    "    remainder = 'passthrough')\n",
    "\n",
    "preproc = ColumnTransformer([\n",
    "    ('artist_preproc', artist_preproc, ['artist']),\n",
    "    ('year_preproc', year_preproc, ['release_date']),\n",
    "    ('other_preproc', other_preproc, ['acousticness', 'danceability', 'duration_ms', 'energy', 'explicit',\n",
    "               'instrumentalness', 'key', 'liveness', 'loudness', 'mode','speechiness', 'tempo', 'valence'])\n",
    "])\n"
   ]
  },
  {
   "cell_type": "code",
   "execution_count": 61,
   "metadata": {
    "ExecuteTime": {
     "end_time": "2021-04-07T11:26:12.893929Z",
     "start_time": "2021-04-07T11:26:04.568540Z"
    }
   },
   "outputs": [
    {
     "data": {
      "text/plain": [
       "array([[0.36458333, 0.5049505 , 0.13633906, ..., 1.        , 0.0454    ,\n",
       "        0.43      ],\n",
       "       [0.10416667, 0.94059406, 2.78141086, ..., 1.        , 0.0677    ,\n",
       "        0.0587    ],\n",
       "       [0.35763889, 0.47524752, 0.39537725, ..., 1.        , 0.214     ,\n",
       "        0.464     ],\n",
       "       ...,\n",
       "       [0.        , 0.99009901, 1.04779979, ..., 1.        , 0.0275    ,\n",
       "        0.338     ],\n",
       "       [0.0060307 , 0.31683168, 0.10295031, ..., 1.        , 0.0355    ,\n",
       "        0.41      ],\n",
       "       [0.41354167, 0.72277228, 0.12378072, ..., 0.        , 0.0318    ,\n",
       "        0.67      ]])"
      ]
     },
     "execution_count": 61,
     "metadata": {},
     "output_type": "execute_result"
    }
   ],
   "source": [
    "preproc.fit_transform(X,y)"
   ]
  },
  {
   "cell_type": "code",
   "execution_count": 62,
   "metadata": {
    "ExecuteTime": {
     "end_time": "2021-04-07T11:26:29.421415Z",
     "start_time": "2021-04-07T11:26:20.182166Z"
    }
   },
   "outputs": [
    {
     "data": {
      "text/plain": [
       "(52053, 26)"
      ]
     },
     "execution_count": 62,
     "metadata": {},
     "output_type": "execute_result"
    }
   ],
   "source": [
    "import numpy as np\n",
    "\n",
    "np.shape(preproc.fit_transform(X, y))"
   ]
  },
  {
   "cell_type": "markdown",
   "metadata": {},
   "source": [
    "**📝 Store the number of columns/feature after preprocessing your inputs in a variable `col_number`**"
   ]
  },
  {
   "cell_type": "code",
   "execution_count": 65,
   "metadata": {
    "ExecuteTime": {
     "end_time": "2021-04-07T11:27:14.434975Z",
     "start_time": "2021-04-07T11:27:14.428946Z"
    }
   },
   "outputs": [],
   "source": [
    "col_number = 26"
   ]
  },
  {
   "cell_type": "markdown",
   "metadata": {},
   "source": [
    "🧪 **Run the following cells to save your results**"
   ]
  },
  {
   "cell_type": "code",
   "execution_count": 66,
   "metadata": {
    "ExecuteTime": {
     "end_time": "2021-04-07T11:27:16.082063Z",
     "start_time": "2021-04-07T11:27:16.006619Z"
    }
   },
   "outputs": [
    {
     "data": {
      "text/html": [
       "<style>div.sk-top-container {color: black;background-color: white;}div.sk-toggleable {background-color: white;}label.sk-toggleable__label {cursor: pointer;display: block;width: 100%;margin-bottom: 0;padding: 0.2em 0.3em;box-sizing: border-box;text-align: center;}div.sk-toggleable__content {max-height: 0;max-width: 0;overflow: hidden;text-align: left;background-color: #f0f8ff;}div.sk-toggleable__content pre {margin: 0.2em;color: black;border-radius: 0.25em;background-color: #f0f8ff;}input.sk-toggleable__control:checked~div.sk-toggleable__content {max-height: 200px;max-width: 100%;overflow: auto;}div.sk-estimator input.sk-toggleable__control:checked~label.sk-toggleable__label {background-color: #d4ebff;}div.sk-label input.sk-toggleable__control:checked~label.sk-toggleable__label {background-color: #d4ebff;}input.sk-hidden--visually {border: 0;clip: rect(1px 1px 1px 1px);clip: rect(1px, 1px, 1px, 1px);height: 1px;margin: -1px;overflow: hidden;padding: 0;position: absolute;width: 1px;}div.sk-estimator {font-family: monospace;background-color: #f0f8ff;margin: 0.25em 0.25em;border: 1px dotted black;border-radius: 0.25em;box-sizing: border-box;}div.sk-estimator:hover {background-color: #d4ebff;}div.sk-parallel-item::after {content: \"\";width: 100%;border-bottom: 1px solid gray;flex-grow: 1;}div.sk-label:hover label.sk-toggleable__label {background-color: #d4ebff;}div.sk-serial::before {content: \"\";position: absolute;border-left: 1px solid gray;box-sizing: border-box;top: 2em;bottom: 0;left: 50%;}div.sk-serial {display: flex;flex-direction: column;align-items: center;background-color: white;}div.sk-item {z-index: 1;}div.sk-parallel {display: flex;align-items: stretch;justify-content: center;background-color: white;}div.sk-parallel-item {display: flex;flex-direction: column;position: relative;background-color: white;}div.sk-parallel-item:first-child::after {align-self: flex-end;width: 50%;}div.sk-parallel-item:last-child::after {align-self: flex-start;width: 50%;}div.sk-parallel-item:only-child::after {width: 0;}div.sk-dashed-wrapped {border: 1px dashed gray;margin: 0.2em;box-sizing: border-box;padding-bottom: 0.1em;background-color: white;position: relative;}div.sk-label label {font-family: monospace;font-weight: bold;background-color: white;display: inline-block;line-height: 1.2em;}div.sk-label-container {position: relative;z-index: 2;text-align: center;}div.sk-container {display: inline-block;position: relative;}</style><div class=\"sk-top-container\"><div class=\"sk-container\"><div class=\"sk-item sk-dashed-wrapped\"><div class=\"sk-label-container\"><div class=\"sk-label sk-toggleable\"><input class=\"sk-toggleable__control sk-hidden--visually\" id=\"102f4db5-3cdf-40c1-a355-3d2fc46a3bf7\" type=\"checkbox\" ><label class=\"sk-toggleable__label\" for=\"102f4db5-3cdf-40c1-a355-3d2fc46a3bf7\">ColumnTransformer</label><div class=\"sk-toggleable__content\"><pre>ColumnTransformer(transformers=[('artist_preproc',\n",
       "                                 Pipeline(steps=[('artist_popularity',\n",
       "                                                  ArtistPopularityTransformer()),\n",
       "                                                 ('scaler', MinMaxScaler())]),\n",
       "                                 ['artist']),\n",
       "                                ('year_preproc',\n",
       "                                 Pipeline(steps=[('year',\n",
       "                                                  FunctionTransformer(func=<function <lambda> at 0x7f9ab8bedf70>)),\n",
       "                                                 ('scaler', MinMaxScaler())]),\n",
       "                                 ['release_date']),\n",
       "                                ('other_preproc',\n",
       "                                 ColumnTransformer(remainder='passthrough',\n",
       "                                                   transformers=[('scaling',\n",
       "                                                                  RobustScaler(),\n",
       "                                                                  ['duration_ms',\n",
       "                                                                   'loudness',\n",
       "                                                                   'tempo']),\n",
       "                                                                 ('encoding',\n",
       "                                                                  OneHotEncoder(sparse=False),\n",
       "                                                                  ['key'])]),\n",
       "                                 ['acousticness', 'danceability', 'duration_ms',\n",
       "                                  'energy', 'explicit', 'instrumentalness',\n",
       "                                  'key', 'liveness', 'loudness', 'mode',\n",
       "                                  'speechiness', 'tempo', 'valence'])])</pre></div></div></div><div class=\"sk-parallel\"><div class=\"sk-parallel-item\"><div class=\"sk-item\"><div class=\"sk-label-container\"><div class=\"sk-label sk-toggleable\"><input class=\"sk-toggleable__control sk-hidden--visually\" id=\"40ef9957-e043-4b5b-a70c-2f338fc33cc7\" type=\"checkbox\" ><label class=\"sk-toggleable__label\" for=\"40ef9957-e043-4b5b-a70c-2f338fc33cc7\">artist_preproc</label><div class=\"sk-toggleable__content\"><pre>['artist']</pre></div></div></div><div class=\"sk-serial\"><div class=\"sk-item\"><div class=\"sk-serial\"><div class=\"sk-item\"><div class=\"sk-estimator sk-toggleable\"><input class=\"sk-toggleable__control sk-hidden--visually\" id=\"10e9ca7b-e360-45f7-bb7b-4249659760ee\" type=\"checkbox\" ><label class=\"sk-toggleable__label\" for=\"10e9ca7b-e360-45f7-bb7b-4249659760ee\">ArtistPopularityTransformer</label><div class=\"sk-toggleable__content\"><pre>ArtistPopularityTransformer()</pre></div></div></div><div class=\"sk-item\"><div class=\"sk-estimator sk-toggleable\"><input class=\"sk-toggleable__control sk-hidden--visually\" id=\"0a9a3e55-f6a0-410f-b65f-ed40b82900a3\" type=\"checkbox\" ><label class=\"sk-toggleable__label\" for=\"0a9a3e55-f6a0-410f-b65f-ed40b82900a3\">MinMaxScaler</label><div class=\"sk-toggleable__content\"><pre>MinMaxScaler()</pre></div></div></div></div></div></div></div></div><div class=\"sk-parallel-item\"><div class=\"sk-item\"><div class=\"sk-label-container\"><div class=\"sk-label sk-toggleable\"><input class=\"sk-toggleable__control sk-hidden--visually\" id=\"0f1da168-e608-49a0-a014-c9fa897364e5\" type=\"checkbox\" ><label class=\"sk-toggleable__label\" for=\"0f1da168-e608-49a0-a014-c9fa897364e5\">year_preproc</label><div class=\"sk-toggleable__content\"><pre>['release_date']</pre></div></div></div><div class=\"sk-serial\"><div class=\"sk-item\"><div class=\"sk-serial\"><div class=\"sk-item\"><div class=\"sk-estimator sk-toggleable\"><input class=\"sk-toggleable__control sk-hidden--visually\" id=\"4931f547-35cb-4506-b725-1d00722b5dbe\" type=\"checkbox\" ><label class=\"sk-toggleable__label\" for=\"4931f547-35cb-4506-b725-1d00722b5dbe\">FunctionTransformer</label><div class=\"sk-toggleable__content\"><pre>FunctionTransformer(func=<function <lambda> at 0x7f9ab8bedf70>)</pre></div></div></div><div class=\"sk-item\"><div class=\"sk-estimator sk-toggleable\"><input class=\"sk-toggleable__control sk-hidden--visually\" id=\"be9ec66b-c753-4b8d-ae51-174c30a73573\" type=\"checkbox\" ><label class=\"sk-toggleable__label\" for=\"be9ec66b-c753-4b8d-ae51-174c30a73573\">MinMaxScaler</label><div class=\"sk-toggleable__content\"><pre>MinMaxScaler()</pre></div></div></div></div></div></div></div></div><div class=\"sk-parallel-item\"><div class=\"sk-item\"><div class=\"sk-label-container\"><div class=\"sk-label sk-toggleable\"><input class=\"sk-toggleable__control sk-hidden--visually\" id=\"6e6c7f33-693f-4d2a-8bbc-f4b1b9b54e8f\" type=\"checkbox\" ><label class=\"sk-toggleable__label\" for=\"6e6c7f33-693f-4d2a-8bbc-f4b1b9b54e8f\">other_preproc</label><div class=\"sk-toggleable__content\"><pre>['acousticness', 'danceability', 'duration_ms', 'energy', 'explicit', 'instrumentalness', 'key', 'liveness', 'loudness', 'mode', 'speechiness', 'tempo', 'valence']</pre></div></div></div><div class=\"sk-serial\"><div class=\"sk-item sk-dashed-wrapped\"><div class=\"sk-parallel\"><div class=\"sk-parallel-item\"><div class=\"sk-item\"><div class=\"sk-label-container\"><div class=\"sk-label sk-toggleable\"><input class=\"sk-toggleable__control sk-hidden--visually\" id=\"2b5230d4-bf4f-4e81-8a33-c462a05c3548\" type=\"checkbox\" ><label class=\"sk-toggleable__label\" for=\"2b5230d4-bf4f-4e81-8a33-c462a05c3548\">scaling</label><div class=\"sk-toggleable__content\"><pre>['duration_ms', 'loudness', 'tempo']</pre></div></div></div><div class=\"sk-serial\"><div class=\"sk-item\"><div class=\"sk-estimator sk-toggleable\"><input class=\"sk-toggleable__control sk-hidden--visually\" id=\"0e99cee3-56a6-47d0-9dd3-df5b845253ba\" type=\"checkbox\" ><label class=\"sk-toggleable__label\" for=\"0e99cee3-56a6-47d0-9dd3-df5b845253ba\">RobustScaler</label><div class=\"sk-toggleable__content\"><pre>RobustScaler()</pre></div></div></div></div></div></div><div class=\"sk-parallel-item\"><div class=\"sk-item\"><div class=\"sk-label-container\"><div class=\"sk-label sk-toggleable\"><input class=\"sk-toggleable__control sk-hidden--visually\" id=\"5f6d0f7d-dab3-49aa-becd-2bc4b9579904\" type=\"checkbox\" ><label class=\"sk-toggleable__label\" for=\"5f6d0f7d-dab3-49aa-becd-2bc4b9579904\">encoding</label><div class=\"sk-toggleable__content\"><pre>['key']</pre></div></div></div><div class=\"sk-serial\"><div class=\"sk-item\"><div class=\"sk-estimator sk-toggleable\"><input class=\"sk-toggleable__control sk-hidden--visually\" id=\"9dfc69a5-e31c-4ff1-a198-f117d281c196\" type=\"checkbox\" ><label class=\"sk-toggleable__label\" for=\"9dfc69a5-e31c-4ff1-a198-f117d281c196\">OneHotEncoder</label><div class=\"sk-toggleable__content\"><pre>OneHotEncoder(sparse=False)</pre></div></div></div></div></div></div><div class=\"sk-parallel-item\"><div class=\"sk-item\"><div class=\"sk-label-container\"><div class=\"sk-label sk-toggleable\"><input class=\"sk-toggleable__control sk-hidden--visually\" id=\"adaae07a-7b65-4cba-9f40-fc8b9086830c\" type=\"checkbox\" ><label class=\"sk-toggleable__label\" for=\"adaae07a-7b65-4cba-9f40-fc8b9086830c\">remainder</label><div class=\"sk-toggleable__content\"><pre></pre></div></div></div><div class=\"sk-serial\"><div class=\"sk-item\"><div class=\"sk-estimator sk-toggleable\"><input class=\"sk-toggleable__control sk-hidden--visually\" id=\"af61d815-8302-4a24-8ca5-b20630352216\" type=\"checkbox\" ><label class=\"sk-toggleable__label\" for=\"af61d815-8302-4a24-8ca5-b20630352216\">passthrough</label><div class=\"sk-toggleable__content\"><pre>passthrough</pre></div></div></div></div></div></div></div></div></div></div></div></div></div></div></div>"
      ],
      "text/plain": [
       "ColumnTransformer(transformers=[('artist_preproc',\n",
       "                                 Pipeline(steps=[('artist_popularity',\n",
       "                                                  ArtistPopularityTransformer()),\n",
       "                                                 ('scaler', MinMaxScaler())]),\n",
       "                                 ['artist']),\n",
       "                                ('year_preproc',\n",
       "                                 Pipeline(steps=[('year',\n",
       "                                                  FunctionTransformer(func=<function <lambda> at 0x7f9ab8bedf70>)),\n",
       "                                                 ('scaler', MinMaxScaler())]),\n",
       "                                 ['release_date']),\n",
       "                                ('other_preproc',\n",
       "                                 ColumnTransformer(remainder='passthrough',\n",
       "                                                   transformers=[('scaling',\n",
       "                                                                  RobustScaler(),\n",
       "                                                                  ['duration_ms',\n",
       "                                                                   'loudness',\n",
       "                                                                   'tempo']),\n",
       "                                                                 ('encoding',\n",
       "                                                                  OneHotEncoder(sparse=False),\n",
       "                                                                  ['key'])]),\n",
       "                                 ['acousticness', 'danceability', 'duration_ms',\n",
       "                                  'energy', 'explicit', 'instrumentalness',\n",
       "                                  'key', 'liveness', 'loudness', 'mode',\n",
       "                                  'speechiness', 'tempo', 'valence'])])"
      ]
     },
     "execution_count": 66,
     "metadata": {},
     "output_type": "execute_result"
    }
   ],
   "source": [
    "# Visually print your preproc\n",
    "from sklearn import set_config; set_config(display='diagram')\n",
    "preproc"
   ]
  },
  {
   "cell_type": "code",
   "execution_count": 67,
   "metadata": {
    "ExecuteTime": {
     "end_time": "2021-04-07T11:27:33.430366Z",
     "start_time": "2021-04-07T11:27:24.804644Z"
    }
   },
   "outputs": [],
   "source": [
    "# Save your preproc\n",
    "from nbresult import ChallengeResult\n",
    "\n",
    "ChallengeResult(\n",
    "    \"preprocessing\",\n",
    "    col_number=col_number,\n",
    "    first_observation = preproc.fit_transform(X, y)[0]\n",
    ").write()"
   ]
  },
  {
   "cell_type": "markdown",
   "metadata": {},
   "source": [
    "## Training\n",
    "\n",
    "📝 **Time to fine tune your models**\n",
    "\n",
    "- Add an **estimator** to your pipeline (only from Scikit-learn) \n",
    "\n",
    "- Train your pipeline and **fine-tune** (optimize) your estimator to maximize prediction score\n",
    "\n",
    "- You must try to fine tune at least 2 different models: \n",
    "    - create one pipeline with a **linear model** of your choice\n",
    "    - create one pipeline with an **ensemble model** of your choice\n",
    "\n",
    "Then, \n",
    "\n",
    "- Save your two best 5-time cross-validated scores as _float_: `score_linear` and `score_ensemble`\n",
    "\n",
    "- Save your two best trained pipelines as _Pipeline_ objects: `pipe_linear` and `pipe_ensemble`"
   ]
  },
  {
   "cell_type": "markdown",
   "metadata": {
    "slideshow": {
     "slide_type": "-"
    }
   },
   "source": [
    "### Linear"
   ]
  },
  {
   "cell_type": "code",
   "execution_count": 68,
   "metadata": {
    "ExecuteTime": {
     "end_time": "2021-04-07T11:28:18.234535Z",
     "start_time": "2021-04-07T11:27:34.883823Z"
    }
   },
   "outputs": [
    {
     "data": {
      "text/plain": [
       "-13.502779339585604"
      ]
     },
     "execution_count": 68,
     "metadata": {},
     "output_type": "execute_result"
    }
   ],
   "source": [
    "from sklearn.linear_model import Ridge\n",
    "pipe_linear = Pipeline([\n",
    "    ('preprocessor', preproc),\n",
    "    ('model', Ridge())\n",
    "])\n",
    "score_linear = cross_val_score(pipe_linear, X, y, cv=5, scoring=scoring).mean()\n",
    "score_linear"
   ]
  },
  {
   "cell_type": "code",
   "execution_count": 75,
   "metadata": {
    "ExecuteTime": {
     "end_time": "2021-04-07T12:41:58.736960Z",
     "start_time": "2021-04-07T12:41:58.577851Z"
    }
   },
   "outputs": [
    {
     "data": {
      "text/plain": [
       "{'memory': None,\n",
       " 'steps': [('preprocessor',\n",
       "   ColumnTransformer(transformers=[('artist_preproc',\n",
       "                                    Pipeline(steps=[('artist_popularity',\n",
       "                                                     ArtistPopularityTransformer()),\n",
       "                                                    ('scaler', MinMaxScaler())]),\n",
       "                                    ['artist']),\n",
       "                                   ('year_preproc',\n",
       "                                    Pipeline(steps=[('year',\n",
       "                                                     FunctionTransformer(func=<function <lambda> at 0x7f9ab8bedf70>)),\n",
       "                                                    ('scaler', MinMaxScaler())]),\n",
       "                                    ['release_date']),\n",
       "                                   ('other_preproc',\n",
       "                                    ColumnTransformer(remainder='passthrough',\n",
       "                                                      transformers=[('scaling',\n",
       "                                                                     RobustScaler(),\n",
       "                                                                     ['duration_ms',\n",
       "                                                                      'loudness',\n",
       "                                                                      'tempo']),\n",
       "                                                                    ('encoding',\n",
       "                                                                     OneHotEncoder(sparse=False),\n",
       "                                                                     ['key'])]),\n",
       "                                    ['acousticness', 'danceability', 'duration_ms',\n",
       "                                     'energy', 'explicit', 'instrumentalness',\n",
       "                                     'key', 'liveness', 'loudness', 'mode',\n",
       "                                     'speechiness', 'tempo', 'valence'])])),\n",
       "  ('model', Ridge())],\n",
       " 'verbose': False,\n",
       " 'preprocessor': ColumnTransformer(transformers=[('artist_preproc',\n",
       "                                  Pipeline(steps=[('artist_popularity',\n",
       "                                                   ArtistPopularityTransformer()),\n",
       "                                                  ('scaler', MinMaxScaler())]),\n",
       "                                  ['artist']),\n",
       "                                 ('year_preproc',\n",
       "                                  Pipeline(steps=[('year',\n",
       "                                                   FunctionTransformer(func=<function <lambda> at 0x7f9ab8bedf70>)),\n",
       "                                                  ('scaler', MinMaxScaler())]),\n",
       "                                  ['release_date']),\n",
       "                                 ('other_preproc',\n",
       "                                  ColumnTransformer(remainder='passthrough',\n",
       "                                                    transformers=[('scaling',\n",
       "                                                                   RobustScaler(),\n",
       "                                                                   ['duration_ms',\n",
       "                                                                    'loudness',\n",
       "                                                                    'tempo']),\n",
       "                                                                  ('encoding',\n",
       "                                                                   OneHotEncoder(sparse=False),\n",
       "                                                                   ['key'])]),\n",
       "                                  ['acousticness', 'danceability', 'duration_ms',\n",
       "                                   'energy', 'explicit', 'instrumentalness',\n",
       "                                   'key', 'liveness', 'loudness', 'mode',\n",
       "                                   'speechiness', 'tempo', 'valence'])]),\n",
       " 'model': Ridge(),\n",
       " 'preprocessor__n_jobs': None,\n",
       " 'preprocessor__remainder': 'drop',\n",
       " 'preprocessor__sparse_threshold': 0.3,\n",
       " 'preprocessor__transformer_weights': None,\n",
       " 'preprocessor__transformers': [('artist_preproc',\n",
       "   Pipeline(steps=[('artist_popularity', ArtistPopularityTransformer()),\n",
       "                   ('scaler', MinMaxScaler())]),\n",
       "   ['artist']),\n",
       "  ('year_preproc',\n",
       "   Pipeline(steps=[('year',\n",
       "                    FunctionTransformer(func=<function <lambda> at 0x7f9ab8bedf70>)),\n",
       "                   ('scaler', MinMaxScaler())]),\n",
       "   ['release_date']),\n",
       "  ('other_preproc',\n",
       "   ColumnTransformer(remainder='passthrough',\n",
       "                     transformers=[('scaling', RobustScaler(),\n",
       "                                    ['duration_ms', 'loudness', 'tempo']),\n",
       "                                   ('encoding', OneHotEncoder(sparse=False),\n",
       "                                    ['key'])]),\n",
       "   ['acousticness',\n",
       "    'danceability',\n",
       "    'duration_ms',\n",
       "    'energy',\n",
       "    'explicit',\n",
       "    'instrumentalness',\n",
       "    'key',\n",
       "    'liveness',\n",
       "    'loudness',\n",
       "    'mode',\n",
       "    'speechiness',\n",
       "    'tempo',\n",
       "    'valence'])],\n",
       " 'preprocessor__verbose': False,\n",
       " 'preprocessor__artist_preproc': Pipeline(steps=[('artist_popularity', ArtistPopularityTransformer()),\n",
       "                 ('scaler', MinMaxScaler())]),\n",
       " 'preprocessor__year_preproc': Pipeline(steps=[('year',\n",
       "                  FunctionTransformer(func=<function <lambda> at 0x7f9ab8bedf70>)),\n",
       "                 ('scaler', MinMaxScaler())]),\n",
       " 'preprocessor__other_preproc': ColumnTransformer(remainder='passthrough',\n",
       "                   transformers=[('scaling', RobustScaler(),\n",
       "                                  ['duration_ms', 'loudness', 'tempo']),\n",
       "                                 ('encoding', OneHotEncoder(sparse=False),\n",
       "                                  ['key'])]),\n",
       " 'preprocessor__artist_preproc__memory': None,\n",
       " 'preprocessor__artist_preproc__steps': [('artist_popularity',\n",
       "   ArtistPopularityTransformer()),\n",
       "  ('scaler', MinMaxScaler())],\n",
       " 'preprocessor__artist_preproc__verbose': False,\n",
       " 'preprocessor__artist_preproc__artist_popularity': ArtistPopularityTransformer(),\n",
       " 'preprocessor__artist_preproc__scaler': MinMaxScaler(),\n",
       " 'preprocessor__artist_preproc__scaler__clip': False,\n",
       " 'preprocessor__artist_preproc__scaler__copy': True,\n",
       " 'preprocessor__artist_preproc__scaler__feature_range': (0, 1),\n",
       " 'preprocessor__year_preproc__memory': None,\n",
       " 'preprocessor__year_preproc__steps': [('year',\n",
       "   FunctionTransformer(func=<function <lambda> at 0x7f9ab8bedf70>)),\n",
       "  ('scaler', MinMaxScaler())],\n",
       " 'preprocessor__year_preproc__verbose': False,\n",
       " 'preprocessor__year_preproc__year': FunctionTransformer(func=<function <lambda> at 0x7f9ab8bedf70>),\n",
       " 'preprocessor__year_preproc__scaler': MinMaxScaler(),\n",
       " 'preprocessor__year_preproc__year__accept_sparse': False,\n",
       " 'preprocessor__year_preproc__year__check_inverse': True,\n",
       " 'preprocessor__year_preproc__year__func': <function __main__.<lambda>(df)>,\n",
       " 'preprocessor__year_preproc__year__inv_kw_args': None,\n",
       " 'preprocessor__year_preproc__year__inverse_func': None,\n",
       " 'preprocessor__year_preproc__year__kw_args': None,\n",
       " 'preprocessor__year_preproc__year__validate': False,\n",
       " 'preprocessor__year_preproc__scaler__clip': False,\n",
       " 'preprocessor__year_preproc__scaler__copy': True,\n",
       " 'preprocessor__year_preproc__scaler__feature_range': (0, 1),\n",
       " 'preprocessor__other_preproc__n_jobs': None,\n",
       " 'preprocessor__other_preproc__remainder': 'passthrough',\n",
       " 'preprocessor__other_preproc__sparse_threshold': 0.3,\n",
       " 'preprocessor__other_preproc__transformer_weights': None,\n",
       " 'preprocessor__other_preproc__transformers': [('scaling',\n",
       "   RobustScaler(),\n",
       "   ['duration_ms', 'loudness', 'tempo']),\n",
       "  ('encoding', OneHotEncoder(sparse=False), ['key'])],\n",
       " 'preprocessor__other_preproc__verbose': False,\n",
       " 'preprocessor__other_preproc__scaling': RobustScaler(),\n",
       " 'preprocessor__other_preproc__encoding': OneHotEncoder(sparse=False),\n",
       " 'preprocessor__other_preproc__scaling__copy': True,\n",
       " 'preprocessor__other_preproc__scaling__quantile_range': (25.0, 75.0),\n",
       " 'preprocessor__other_preproc__scaling__unit_variance': False,\n",
       " 'preprocessor__other_preproc__scaling__with_centering': True,\n",
       " 'preprocessor__other_preproc__scaling__with_scaling': True,\n",
       " 'preprocessor__other_preproc__encoding__categories': 'auto',\n",
       " 'preprocessor__other_preproc__encoding__drop': None,\n",
       " 'preprocessor__other_preproc__encoding__dtype': numpy.float64,\n",
       " 'preprocessor__other_preproc__encoding__handle_unknown': 'error',\n",
       " 'preprocessor__other_preproc__encoding__sparse': False,\n",
       " 'model__alpha': 1.0,\n",
       " 'model__copy_X': True,\n",
       " 'model__fit_intercept': True,\n",
       " 'model__max_iter': None,\n",
       " 'model__normalize': False,\n",
       " 'model__random_state': None,\n",
       " 'model__solver': 'auto',\n",
       " 'model__tol': 0.001}"
      ]
     },
     "execution_count": 75,
     "metadata": {},
     "output_type": "execute_result"
    }
   ],
   "source": [
    "pipe_linear.get_params()"
   ]
  },
  {
   "cell_type": "code",
   "execution_count": 80,
   "metadata": {
    "ExecuteTime": {
     "end_time": "2021-04-07T12:51:58.284306Z",
     "start_time": "2021-04-07T12:47:14.738781Z"
    }
   },
   "outputs": [
    {
     "data": {
      "text/html": [
       "<style>div.sk-top-container {color: black;background-color: white;}div.sk-toggleable {background-color: white;}label.sk-toggleable__label {cursor: pointer;display: block;width: 100%;margin-bottom: 0;padding: 0.2em 0.3em;box-sizing: border-box;text-align: center;}div.sk-toggleable__content {max-height: 0;max-width: 0;overflow: hidden;text-align: left;background-color: #f0f8ff;}div.sk-toggleable__content pre {margin: 0.2em;color: black;border-radius: 0.25em;background-color: #f0f8ff;}input.sk-toggleable__control:checked~div.sk-toggleable__content {max-height: 200px;max-width: 100%;overflow: auto;}div.sk-estimator input.sk-toggleable__control:checked~label.sk-toggleable__label {background-color: #d4ebff;}div.sk-label input.sk-toggleable__control:checked~label.sk-toggleable__label {background-color: #d4ebff;}input.sk-hidden--visually {border: 0;clip: rect(1px 1px 1px 1px);clip: rect(1px, 1px, 1px, 1px);height: 1px;margin: -1px;overflow: hidden;padding: 0;position: absolute;width: 1px;}div.sk-estimator {font-family: monospace;background-color: #f0f8ff;margin: 0.25em 0.25em;border: 1px dotted black;border-radius: 0.25em;box-sizing: border-box;}div.sk-estimator:hover {background-color: #d4ebff;}div.sk-parallel-item::after {content: \"\";width: 100%;border-bottom: 1px solid gray;flex-grow: 1;}div.sk-label:hover label.sk-toggleable__label {background-color: #d4ebff;}div.sk-serial::before {content: \"\";position: absolute;border-left: 1px solid gray;box-sizing: border-box;top: 2em;bottom: 0;left: 50%;}div.sk-serial {display: flex;flex-direction: column;align-items: center;background-color: white;}div.sk-item {z-index: 1;}div.sk-parallel {display: flex;align-items: stretch;justify-content: center;background-color: white;}div.sk-parallel-item {display: flex;flex-direction: column;position: relative;background-color: white;}div.sk-parallel-item:first-child::after {align-self: flex-end;width: 50%;}div.sk-parallel-item:last-child::after {align-self: flex-start;width: 50%;}div.sk-parallel-item:only-child::after {width: 0;}div.sk-dashed-wrapped {border: 1px dashed gray;margin: 0.2em;box-sizing: border-box;padding-bottom: 0.1em;background-color: white;position: relative;}div.sk-label label {font-family: monospace;font-weight: bold;background-color: white;display: inline-block;line-height: 1.2em;}div.sk-label-container {position: relative;z-index: 2;text-align: center;}div.sk-container {display: inline-block;position: relative;}</style><div class=\"sk-top-container\"><div class=\"sk-container\"><div class=\"sk-item sk-dashed-wrapped\"><div class=\"sk-label-container\"><div class=\"sk-label sk-toggleable\"><input class=\"sk-toggleable__control sk-hidden--visually\" id=\"504e8417-7e66-4e12-916c-5728eb88c342\" type=\"checkbox\" ><label class=\"sk-toggleable__label\" for=\"504e8417-7e66-4e12-916c-5728eb88c342\">GridSearchCV</label><div class=\"sk-toggleable__content\"><pre>GridSearchCV(cv=5,\n",
       "             estimator=Pipeline(steps=[('preprocessor',\n",
       "                                        ColumnTransformer(transformers=[('artist_preproc',\n",
       "                                                                         Pipeline(steps=[('artist_popularity',\n",
       "                                                                                          ArtistPopularityTransformer()),\n",
       "                                                                                         ('scaler',\n",
       "                                                                                          MinMaxScaler())]),\n",
       "                                                                         ['artist']),\n",
       "                                                                        ('year_preproc',\n",
       "                                                                         Pipeline(steps=[('year',\n",
       "                                                                                          FunctionTransformer(func=<function <lambda> at 0x7f9ab8bedf70>)),\n",
       "                                                                                         ('scaler',\n",
       "                                                                                          MinMaxScaler())]),\n",
       "                                                                         ['...\n",
       "                                                                                                          RobustScaler(),\n",
       "                                                                                                          ['duration_ms',\n",
       "                                                                                                           'loudness',\n",
       "                                                                                                           'tempo']),\n",
       "                                                                                                         ('encoding',\n",
       "                                                                                                          OneHotEncoder(sparse=False),\n",
       "                                                                                                          ['key'])]),\n",
       "                                                                         ['acousticness',\n",
       "                                                                          'danceability',\n",
       "                                                                          'duration_ms',\n",
       "                                                                          'energy',\n",
       "                                                                          'explicit',\n",
       "                                                                          'instrumentalness',\n",
       "                                                                          'key',\n",
       "                                                                          'liveness',\n",
       "                                                                          'loudness',\n",
       "                                                                          'mode',\n",
       "                                                                          'speechiness',\n",
       "                                                                          'tempo',\n",
       "                                                                          'valence'])])),\n",
       "                                       ('model', Ridge())]),\n",
       "             param_grid={'model__alpha': [0.1, 0.5, 1, 5, 10]},\n",
       "             scoring='neg_root_mean_squared_error')</pre></div></div></div><div class=\"sk-parallel\"><div class=\"sk-parallel-item\"><div class=\"sk-item\"><div class=\"sk-serial\"><div class=\"sk-item\"><div class=\"sk-serial\"><div class=\"sk-item sk-dashed-wrapped\"><div class=\"sk-label-container\"><div class=\"sk-label sk-toggleable\"><input class=\"sk-toggleable__control sk-hidden--visually\" id=\"00b6b66a-0c60-43ea-98ae-2a069ec7e552\" type=\"checkbox\" ><label class=\"sk-toggleable__label\" for=\"00b6b66a-0c60-43ea-98ae-2a069ec7e552\">preprocessor: ColumnTransformer</label><div class=\"sk-toggleable__content\"><pre>ColumnTransformer(transformers=[('artist_preproc',\n",
       "                                 Pipeline(steps=[('artist_popularity',\n",
       "                                                  ArtistPopularityTransformer()),\n",
       "                                                 ('scaler', MinMaxScaler())]),\n",
       "                                 ['artist']),\n",
       "                                ('year_preproc',\n",
       "                                 Pipeline(steps=[('year',\n",
       "                                                  FunctionTransformer(func=<function <lambda> at 0x7f9ab8bedf70>)),\n",
       "                                                 ('scaler', MinMaxScaler())]),\n",
       "                                 ['release_date']),\n",
       "                                ('other_preproc',\n",
       "                                 ColumnTransformer(remainder='passthrough',\n",
       "                                                   transformers=[('scaling',\n",
       "                                                                  RobustScaler(),\n",
       "                                                                  ['duration_ms',\n",
       "                                                                   'loudness',\n",
       "                                                                   'tempo']),\n",
       "                                                                 ('encoding',\n",
       "                                                                  OneHotEncoder(sparse=False),\n",
       "                                                                  ['key'])]),\n",
       "                                 ['acousticness', 'danceability', 'duration_ms',\n",
       "                                  'energy', 'explicit', 'instrumentalness',\n",
       "                                  'key', 'liveness', 'loudness', 'mode',\n",
       "                                  'speechiness', 'tempo', 'valence'])])</pre></div></div></div><div class=\"sk-parallel\"><div class=\"sk-parallel-item\"><div class=\"sk-item\"><div class=\"sk-label-container\"><div class=\"sk-label sk-toggleable\"><input class=\"sk-toggleable__control sk-hidden--visually\" id=\"6523104a-0fc3-4d49-9900-19403fb4f40d\" type=\"checkbox\" ><label class=\"sk-toggleable__label\" for=\"6523104a-0fc3-4d49-9900-19403fb4f40d\">artist_preproc</label><div class=\"sk-toggleable__content\"><pre>['artist']</pre></div></div></div><div class=\"sk-serial\"><div class=\"sk-item\"><div class=\"sk-serial\"><div class=\"sk-item\"><div class=\"sk-estimator sk-toggleable\"><input class=\"sk-toggleable__control sk-hidden--visually\" id=\"648f017c-ea1d-462e-897c-c65dc2109534\" type=\"checkbox\" ><label class=\"sk-toggleable__label\" for=\"648f017c-ea1d-462e-897c-c65dc2109534\">ArtistPopularityTransformer</label><div class=\"sk-toggleable__content\"><pre>ArtistPopularityTransformer()</pre></div></div></div><div class=\"sk-item\"><div class=\"sk-estimator sk-toggleable\"><input class=\"sk-toggleable__control sk-hidden--visually\" id=\"04dbae30-eb3b-4ce5-a08c-bb841f440196\" type=\"checkbox\" ><label class=\"sk-toggleable__label\" for=\"04dbae30-eb3b-4ce5-a08c-bb841f440196\">MinMaxScaler</label><div class=\"sk-toggleable__content\"><pre>MinMaxScaler()</pre></div></div></div></div></div></div></div></div><div class=\"sk-parallel-item\"><div class=\"sk-item\"><div class=\"sk-label-container\"><div class=\"sk-label sk-toggleable\"><input class=\"sk-toggleable__control sk-hidden--visually\" id=\"e4c54203-4c36-4369-af8c-8abad9ad1cf7\" type=\"checkbox\" ><label class=\"sk-toggleable__label\" for=\"e4c54203-4c36-4369-af8c-8abad9ad1cf7\">year_preproc</label><div class=\"sk-toggleable__content\"><pre>['release_date']</pre></div></div></div><div class=\"sk-serial\"><div class=\"sk-item\"><div class=\"sk-serial\"><div class=\"sk-item\"><div class=\"sk-estimator sk-toggleable\"><input class=\"sk-toggleable__control sk-hidden--visually\" id=\"39f5bb8d-b7ff-4105-ab17-b3bf33eabdd7\" type=\"checkbox\" ><label class=\"sk-toggleable__label\" for=\"39f5bb8d-b7ff-4105-ab17-b3bf33eabdd7\">FunctionTransformer</label><div class=\"sk-toggleable__content\"><pre>FunctionTransformer(func=<function <lambda> at 0x7f9ab8bedf70>)</pre></div></div></div><div class=\"sk-item\"><div class=\"sk-estimator sk-toggleable\"><input class=\"sk-toggleable__control sk-hidden--visually\" id=\"0c4cc13e-c185-4094-94c9-86ac95a46a41\" type=\"checkbox\" ><label class=\"sk-toggleable__label\" for=\"0c4cc13e-c185-4094-94c9-86ac95a46a41\">MinMaxScaler</label><div class=\"sk-toggleable__content\"><pre>MinMaxScaler()</pre></div></div></div></div></div></div></div></div><div class=\"sk-parallel-item\"><div class=\"sk-item\"><div class=\"sk-label-container\"><div class=\"sk-label sk-toggleable\"><input class=\"sk-toggleable__control sk-hidden--visually\" id=\"9fe0f2a9-fcbf-40fc-828e-83a9bfb21da3\" type=\"checkbox\" ><label class=\"sk-toggleable__label\" for=\"9fe0f2a9-fcbf-40fc-828e-83a9bfb21da3\">other_preproc</label><div class=\"sk-toggleable__content\"><pre>['acousticness', 'danceability', 'duration_ms', 'energy', 'explicit', 'instrumentalness', 'key', 'liveness', 'loudness', 'mode', 'speechiness', 'tempo', 'valence']</pre></div></div></div><div class=\"sk-serial\"><div class=\"sk-item sk-dashed-wrapped\"><div class=\"sk-parallel\"><div class=\"sk-parallel-item\"><div class=\"sk-item\"><div class=\"sk-label-container\"><div class=\"sk-label sk-toggleable\"><input class=\"sk-toggleable__control sk-hidden--visually\" id=\"6da4c723-37f6-460b-8966-95787bc042b9\" type=\"checkbox\" ><label class=\"sk-toggleable__label\" for=\"6da4c723-37f6-460b-8966-95787bc042b9\">scaling</label><div class=\"sk-toggleable__content\"><pre>['duration_ms', 'loudness', 'tempo']</pre></div></div></div><div class=\"sk-serial\"><div class=\"sk-item\"><div class=\"sk-estimator sk-toggleable\"><input class=\"sk-toggleable__control sk-hidden--visually\" id=\"2b679d1a-0859-432d-803e-51e1ab98efbc\" type=\"checkbox\" ><label class=\"sk-toggleable__label\" for=\"2b679d1a-0859-432d-803e-51e1ab98efbc\">RobustScaler</label><div class=\"sk-toggleable__content\"><pre>RobustScaler()</pre></div></div></div></div></div></div><div class=\"sk-parallel-item\"><div class=\"sk-item\"><div class=\"sk-label-container\"><div class=\"sk-label sk-toggleable\"><input class=\"sk-toggleable__control sk-hidden--visually\" id=\"20e4f49a-939f-4f14-a2a6-dca54afe003b\" type=\"checkbox\" ><label class=\"sk-toggleable__label\" for=\"20e4f49a-939f-4f14-a2a6-dca54afe003b\">encoding</label><div class=\"sk-toggleable__content\"><pre>['key']</pre></div></div></div><div class=\"sk-serial\"><div class=\"sk-item\"><div class=\"sk-estimator sk-toggleable\"><input class=\"sk-toggleable__control sk-hidden--visually\" id=\"f6bbaabd-3616-4021-820c-0e6e8076dbdf\" type=\"checkbox\" ><label class=\"sk-toggleable__label\" for=\"f6bbaabd-3616-4021-820c-0e6e8076dbdf\">OneHotEncoder</label><div class=\"sk-toggleable__content\"><pre>OneHotEncoder(sparse=False)</pre></div></div></div></div></div></div><div class=\"sk-parallel-item\"><div class=\"sk-item\"><div class=\"sk-label-container\"><div class=\"sk-label sk-toggleable\"><input class=\"sk-toggleable__control sk-hidden--visually\" id=\"427d0398-70aa-4616-b5ed-9c376e27272f\" type=\"checkbox\" ><label class=\"sk-toggleable__label\" for=\"427d0398-70aa-4616-b5ed-9c376e27272f\">remainder</label><div class=\"sk-toggleable__content\"><pre></pre></div></div></div><div class=\"sk-serial\"><div class=\"sk-item\"><div class=\"sk-estimator sk-toggleable\"><input class=\"sk-toggleable__control sk-hidden--visually\" id=\"ef3a9241-2475-483a-881b-80bfd9dbb68a\" type=\"checkbox\" ><label class=\"sk-toggleable__label\" for=\"ef3a9241-2475-483a-881b-80bfd9dbb68a\">passthrough</label><div class=\"sk-toggleable__content\"><pre>passthrough</pre></div></div></div></div></div></div></div></div></div></div></div></div></div><div class=\"sk-item\"><div class=\"sk-estimator sk-toggleable\"><input class=\"sk-toggleable__control sk-hidden--visually\" id=\"c00508da-6458-4291-9868-fc78ce45a49a\" type=\"checkbox\" ><label class=\"sk-toggleable__label\" for=\"c00508da-6458-4291-9868-fc78ce45a49a\">Ridge</label><div class=\"sk-toggleable__content\"><pre>Ridge()</pre></div></div></div></div></div></div></div></div></div></div></div></div>"
      ],
      "text/plain": [
       "GridSearchCV(cv=5,\n",
       "             estimator=Pipeline(steps=[('preprocessor',\n",
       "                                        ColumnTransformer(transformers=[('artist_preproc',\n",
       "                                                                         Pipeline(steps=[('artist_popularity',\n",
       "                                                                                          ArtistPopularityTransformer()),\n",
       "                                                                                         ('scaler',\n",
       "                                                                                          MinMaxScaler())]),\n",
       "                                                                         ['artist']),\n",
       "                                                                        ('year_preproc',\n",
       "                                                                         Pipeline(steps=[('year',\n",
       "                                                                                          FunctionTransformer(func=<function <lambda> at 0x7f9ab8bedf70>)),\n",
       "                                                                                         ('scaler',\n",
       "                                                                                          MinMaxScaler())]),\n",
       "                                                                         ['...\n",
       "                                                                                                          RobustScaler(),\n",
       "                                                                                                          ['duration_ms',\n",
       "                                                                                                           'loudness',\n",
       "                                                                                                           'tempo']),\n",
       "                                                                                                         ('encoding',\n",
       "                                                                                                          OneHotEncoder(sparse=False),\n",
       "                                                                                                          ['key'])]),\n",
       "                                                                         ['acousticness',\n",
       "                                                                          'danceability',\n",
       "                                                                          'duration_ms',\n",
       "                                                                          'energy',\n",
       "                                                                          'explicit',\n",
       "                                                                          'instrumentalness',\n",
       "                                                                          'key',\n",
       "                                                                          'liveness',\n",
       "                                                                          'loudness',\n",
       "                                                                          'mode',\n",
       "                                                                          'speechiness',\n",
       "                                                                          'tempo',\n",
       "                                                                          'valence'])])),\n",
       "                                       ('model', Ridge())]),\n",
       "             param_grid={'model__alpha': [0.1, 0.5, 1, 5, 10]},\n",
       "             scoring='neg_root_mean_squared_error')"
      ]
     },
     "execution_count": 80,
     "metadata": {},
     "output_type": "execute_result"
    }
   ],
   "source": [
    "from sklearn.model_selection import GridSearchCV\n",
    "\n",
    "# Instanciate grid search\n",
    "grid_search = GridSearchCV(\n",
    "    pipe_linear, \n",
    "    param_grid={\n",
    "        'model__alpha': [0.1, 0.5, 1, 5, 10]},\n",
    "    cv=5,\n",
    "    scoring=scoring)\n",
    "grid_search.fit(X,y);"
   ]
  },
  {
   "cell_type": "code",
   "execution_count": 84,
   "metadata": {
    "ExecuteTime": {
     "end_time": "2021-04-07T12:52:45.552378Z",
     "start_time": "2021-04-07T12:52:45.542448Z"
    }
   },
   "outputs": [
    {
     "data": {
      "text/plain": [
       "({'model__alpha': 10}, -13.482773081902653)"
      ]
     },
     "execution_count": 84,
     "metadata": {},
     "output_type": "execute_result"
    }
   ],
   "source": [
    "grid_search.best_params_ , grid_search.best_score_"
   ]
  },
  {
   "cell_type": "code",
   "execution_count": 85,
   "metadata": {
    "ExecuteTime": {
     "end_time": "2021-04-07T12:53:54.180642Z",
     "start_time": "2021-04-07T12:53:54.174585Z"
    }
   },
   "outputs": [],
   "source": [
    "score_linear = grid_search.best_score_"
   ]
  },
  {
   "cell_type": "markdown",
   "metadata": {},
   "source": [
    "### Ensemble"
   ]
  },
  {
   "cell_type": "code",
   "execution_count": 69,
   "metadata": {
    "ExecuteTime": {
     "end_time": "2021-04-07T11:29:08.528332Z",
     "start_time": "2021-04-07T11:28:19.799678Z"
    }
   },
   "outputs": [
    {
     "data": {
      "text/plain": [
       "-15.292587063667014"
      ]
     },
     "execution_count": 69,
     "metadata": {},
     "output_type": "execute_result"
    }
   ],
   "source": [
    "from sklearn.tree import DecisionTreeRegressor\n",
    "pipe_ensemble = Pipeline([\n",
    "    ('preprocessor', preproc),\n",
    "    ('model', DecisionTreeRegressor())\n",
    "])\n",
    "score_ensemble = cross_val_score(pipe_ensemble, X, y, cv=5, scoring=scoring).mean()\n",
    "score_ensemble"
   ]
  },
  {
   "cell_type": "code",
   "execution_count": 82,
   "metadata": {
    "ExecuteTime": {
     "end_time": "2021-04-07T12:52:04.120659Z",
     "start_time": "2021-04-07T12:52:04.014730Z"
    }
   },
   "outputs": [
    {
     "data": {
      "text/plain": [
       "{'memory': None,\n",
       " 'steps': [('preprocessor',\n",
       "   ColumnTransformer(transformers=[('artist_preproc',\n",
       "                                    Pipeline(steps=[('artist_popularity',\n",
       "                                                     ArtistPopularityTransformer()),\n",
       "                                                    ('scaler', MinMaxScaler())]),\n",
       "                                    ['artist']),\n",
       "                                   ('year_preproc',\n",
       "                                    Pipeline(steps=[('year',\n",
       "                                                     FunctionTransformer(func=<function <lambda> at 0x7f9ab8bedf70>)),\n",
       "                                                    ('scaler', MinMaxScaler())]),\n",
       "                                    ['release_date']),\n",
       "                                   ('other_preproc',\n",
       "                                    ColumnTransformer(remainder='passthrough',\n",
       "                                                      transformers=[('scaling',\n",
       "                                                                     RobustScaler(),\n",
       "                                                                     ['duration_ms',\n",
       "                                                                      'loudness',\n",
       "                                                                      'tempo']),\n",
       "                                                                    ('encoding',\n",
       "                                                                     OneHotEncoder(sparse=False),\n",
       "                                                                     ['key'])]),\n",
       "                                    ['acousticness', 'danceability', 'duration_ms',\n",
       "                                     'energy', 'explicit', 'instrumentalness',\n",
       "                                     'key', 'liveness', 'loudness', 'mode',\n",
       "                                     'speechiness', 'tempo', 'valence'])])),\n",
       "  ('model', DecisionTreeRegressor())],\n",
       " 'verbose': False,\n",
       " 'preprocessor': ColumnTransformer(transformers=[('artist_preproc',\n",
       "                                  Pipeline(steps=[('artist_popularity',\n",
       "                                                   ArtistPopularityTransformer()),\n",
       "                                                  ('scaler', MinMaxScaler())]),\n",
       "                                  ['artist']),\n",
       "                                 ('year_preproc',\n",
       "                                  Pipeline(steps=[('year',\n",
       "                                                   FunctionTransformer(func=<function <lambda> at 0x7f9ab8bedf70>)),\n",
       "                                                  ('scaler', MinMaxScaler())]),\n",
       "                                  ['release_date']),\n",
       "                                 ('other_preproc',\n",
       "                                  ColumnTransformer(remainder='passthrough',\n",
       "                                                    transformers=[('scaling',\n",
       "                                                                   RobustScaler(),\n",
       "                                                                   ['duration_ms',\n",
       "                                                                    'loudness',\n",
       "                                                                    'tempo']),\n",
       "                                                                  ('encoding',\n",
       "                                                                   OneHotEncoder(sparse=False),\n",
       "                                                                   ['key'])]),\n",
       "                                  ['acousticness', 'danceability', 'duration_ms',\n",
       "                                   'energy', 'explicit', 'instrumentalness',\n",
       "                                   'key', 'liveness', 'loudness', 'mode',\n",
       "                                   'speechiness', 'tempo', 'valence'])]),\n",
       " 'model': DecisionTreeRegressor(),\n",
       " 'preprocessor__n_jobs': None,\n",
       " 'preprocessor__remainder': 'drop',\n",
       " 'preprocessor__sparse_threshold': 0.3,\n",
       " 'preprocessor__transformer_weights': None,\n",
       " 'preprocessor__transformers': [('artist_preproc',\n",
       "   Pipeline(steps=[('artist_popularity', ArtistPopularityTransformer()),\n",
       "                   ('scaler', MinMaxScaler())]),\n",
       "   ['artist']),\n",
       "  ('year_preproc',\n",
       "   Pipeline(steps=[('year',\n",
       "                    FunctionTransformer(func=<function <lambda> at 0x7f9ab8bedf70>)),\n",
       "                   ('scaler', MinMaxScaler())]),\n",
       "   ['release_date']),\n",
       "  ('other_preproc',\n",
       "   ColumnTransformer(remainder='passthrough',\n",
       "                     transformers=[('scaling', RobustScaler(),\n",
       "                                    ['duration_ms', 'loudness', 'tempo']),\n",
       "                                   ('encoding', OneHotEncoder(sparse=False),\n",
       "                                    ['key'])]),\n",
       "   ['acousticness',\n",
       "    'danceability',\n",
       "    'duration_ms',\n",
       "    'energy',\n",
       "    'explicit',\n",
       "    'instrumentalness',\n",
       "    'key',\n",
       "    'liveness',\n",
       "    'loudness',\n",
       "    'mode',\n",
       "    'speechiness',\n",
       "    'tempo',\n",
       "    'valence'])],\n",
       " 'preprocessor__verbose': False,\n",
       " 'preprocessor__artist_preproc': Pipeline(steps=[('artist_popularity', ArtistPopularityTransformer()),\n",
       "                 ('scaler', MinMaxScaler())]),\n",
       " 'preprocessor__year_preproc': Pipeline(steps=[('year',\n",
       "                  FunctionTransformer(func=<function <lambda> at 0x7f9ab8bedf70>)),\n",
       "                 ('scaler', MinMaxScaler())]),\n",
       " 'preprocessor__other_preproc': ColumnTransformer(remainder='passthrough',\n",
       "                   transformers=[('scaling', RobustScaler(),\n",
       "                                  ['duration_ms', 'loudness', 'tempo']),\n",
       "                                 ('encoding', OneHotEncoder(sparse=False),\n",
       "                                  ['key'])]),\n",
       " 'preprocessor__artist_preproc__memory': None,\n",
       " 'preprocessor__artist_preproc__steps': [('artist_popularity',\n",
       "   ArtistPopularityTransformer()),\n",
       "  ('scaler', MinMaxScaler())],\n",
       " 'preprocessor__artist_preproc__verbose': False,\n",
       " 'preprocessor__artist_preproc__artist_popularity': ArtistPopularityTransformer(),\n",
       " 'preprocessor__artist_preproc__scaler': MinMaxScaler(),\n",
       " 'preprocessor__artist_preproc__scaler__clip': False,\n",
       " 'preprocessor__artist_preproc__scaler__copy': True,\n",
       " 'preprocessor__artist_preproc__scaler__feature_range': (0, 1),\n",
       " 'preprocessor__year_preproc__memory': None,\n",
       " 'preprocessor__year_preproc__steps': [('year',\n",
       "   FunctionTransformer(func=<function <lambda> at 0x7f9ab8bedf70>)),\n",
       "  ('scaler', MinMaxScaler())],\n",
       " 'preprocessor__year_preproc__verbose': False,\n",
       " 'preprocessor__year_preproc__year': FunctionTransformer(func=<function <lambda> at 0x7f9ab8bedf70>),\n",
       " 'preprocessor__year_preproc__scaler': MinMaxScaler(),\n",
       " 'preprocessor__year_preproc__year__accept_sparse': False,\n",
       " 'preprocessor__year_preproc__year__check_inverse': True,\n",
       " 'preprocessor__year_preproc__year__func': <function __main__.<lambda>(df)>,\n",
       " 'preprocessor__year_preproc__year__inv_kw_args': None,\n",
       " 'preprocessor__year_preproc__year__inverse_func': None,\n",
       " 'preprocessor__year_preproc__year__kw_args': None,\n",
       " 'preprocessor__year_preproc__year__validate': False,\n",
       " 'preprocessor__year_preproc__scaler__clip': False,\n",
       " 'preprocessor__year_preproc__scaler__copy': True,\n",
       " 'preprocessor__year_preproc__scaler__feature_range': (0, 1),\n",
       " 'preprocessor__other_preproc__n_jobs': None,\n",
       " 'preprocessor__other_preproc__remainder': 'passthrough',\n",
       " 'preprocessor__other_preproc__sparse_threshold': 0.3,\n",
       " 'preprocessor__other_preproc__transformer_weights': None,\n",
       " 'preprocessor__other_preproc__transformers': [('scaling',\n",
       "   RobustScaler(),\n",
       "   ['duration_ms', 'loudness', 'tempo']),\n",
       "  ('encoding', OneHotEncoder(sparse=False), ['key'])],\n",
       " 'preprocessor__other_preproc__verbose': False,\n",
       " 'preprocessor__other_preproc__scaling': RobustScaler(),\n",
       " 'preprocessor__other_preproc__encoding': OneHotEncoder(sparse=False),\n",
       " 'preprocessor__other_preproc__scaling__copy': True,\n",
       " 'preprocessor__other_preproc__scaling__quantile_range': (25.0, 75.0),\n",
       " 'preprocessor__other_preproc__scaling__unit_variance': False,\n",
       " 'preprocessor__other_preproc__scaling__with_centering': True,\n",
       " 'preprocessor__other_preproc__scaling__with_scaling': True,\n",
       " 'preprocessor__other_preproc__encoding__categories': 'auto',\n",
       " 'preprocessor__other_preproc__encoding__drop': None,\n",
       " 'preprocessor__other_preproc__encoding__dtype': numpy.float64,\n",
       " 'preprocessor__other_preproc__encoding__handle_unknown': 'error',\n",
       " 'preprocessor__other_preproc__encoding__sparse': False,\n",
       " 'model__ccp_alpha': 0.0,\n",
       " 'model__criterion': 'mse',\n",
       " 'model__max_depth': None,\n",
       " 'model__max_features': None,\n",
       " 'model__max_leaf_nodes': None,\n",
       " 'model__min_impurity_decrease': 0.0,\n",
       " 'model__min_impurity_split': None,\n",
       " 'model__min_samples_leaf': 1,\n",
       " 'model__min_samples_split': 2,\n",
       " 'model__min_weight_fraction_leaf': 0.0,\n",
       " 'model__random_state': None,\n",
       " 'model__splitter': 'best'}"
      ]
     },
     "execution_count": 82,
     "metadata": {},
     "output_type": "execute_result"
    }
   ],
   "source": [
    "pipe_ensemble.get_params()"
   ]
  },
  {
   "cell_type": "code",
   "execution_count": null,
   "metadata": {
    "ExecuteTime": {
     "start_time": "2021-04-07T13:21:46.121Z"
    }
   },
   "outputs": [],
   "source": [
    "grid_search2 = GridSearchCV(\n",
    "    pipe_ensemble, \n",
    "    param_grid={\n",
    "        'model__min_samples_split': [20], #[1,2,10]\n",
    "        'model__max_depth': [8]},#[4,8,16] [6, 8, 10]\n",
    "    cv=5,\n",
    "    scoring=scoring)\n",
    "grid_search2.fit(X,y);\n",
    "grid_search2.best_params_ , grid_search2.best_score_"
   ]
  },
  {
   "cell_type": "code",
   "execution_count": 90,
   "metadata": {
    "ExecuteTime": {
     "end_time": "2021-04-07T13:06:23.880146Z",
     "start_time": "2021-04-07T13:06:23.872797Z"
    }
   },
   "outputs": [],
   "source": [
    "score_ensemble = grid_search2.best_score_"
   ]
  },
  {
   "cell_type": "markdown",
   "metadata": {},
   "source": [
    "🧪 **Run the following cells to save your results**"
   ]
  },
  {
   "cell_type": "code",
   "execution_count": 70,
   "metadata": {
    "ExecuteTime": {
     "end_time": "2021-04-07T11:29:10.313645Z",
     "start_time": "2021-04-07T11:29:10.146665Z"
    }
   },
   "outputs": [
    {
     "data": {
      "text/html": [
       "<style>div.sk-top-container {color: black;background-color: white;}div.sk-toggleable {background-color: white;}label.sk-toggleable__label {cursor: pointer;display: block;width: 100%;margin-bottom: 0;padding: 0.2em 0.3em;box-sizing: border-box;text-align: center;}div.sk-toggleable__content {max-height: 0;max-width: 0;overflow: hidden;text-align: left;background-color: #f0f8ff;}div.sk-toggleable__content pre {margin: 0.2em;color: black;border-radius: 0.25em;background-color: #f0f8ff;}input.sk-toggleable__control:checked~div.sk-toggleable__content {max-height: 200px;max-width: 100%;overflow: auto;}div.sk-estimator input.sk-toggleable__control:checked~label.sk-toggleable__label {background-color: #d4ebff;}div.sk-label input.sk-toggleable__control:checked~label.sk-toggleable__label {background-color: #d4ebff;}input.sk-hidden--visually {border: 0;clip: rect(1px 1px 1px 1px);clip: rect(1px, 1px, 1px, 1px);height: 1px;margin: -1px;overflow: hidden;padding: 0;position: absolute;width: 1px;}div.sk-estimator {font-family: monospace;background-color: #f0f8ff;margin: 0.25em 0.25em;border: 1px dotted black;border-radius: 0.25em;box-sizing: border-box;}div.sk-estimator:hover {background-color: #d4ebff;}div.sk-parallel-item::after {content: \"\";width: 100%;border-bottom: 1px solid gray;flex-grow: 1;}div.sk-label:hover label.sk-toggleable__label {background-color: #d4ebff;}div.sk-serial::before {content: \"\";position: absolute;border-left: 1px solid gray;box-sizing: border-box;top: 2em;bottom: 0;left: 50%;}div.sk-serial {display: flex;flex-direction: column;align-items: center;background-color: white;}div.sk-item {z-index: 1;}div.sk-parallel {display: flex;align-items: stretch;justify-content: center;background-color: white;}div.sk-parallel-item {display: flex;flex-direction: column;position: relative;background-color: white;}div.sk-parallel-item:first-child::after {align-self: flex-end;width: 50%;}div.sk-parallel-item:last-child::after {align-self: flex-start;width: 50%;}div.sk-parallel-item:only-child::after {width: 0;}div.sk-dashed-wrapped {border: 1px dashed gray;margin: 0.2em;box-sizing: border-box;padding-bottom: 0.1em;background-color: white;position: relative;}div.sk-label label {font-family: monospace;font-weight: bold;background-color: white;display: inline-block;line-height: 1.2em;}div.sk-label-container {position: relative;z-index: 2;text-align: center;}div.sk-container {display: inline-block;position: relative;}</style><div class=\"sk-top-container\"><div class=\"sk-container\"><div class=\"sk-item sk-dashed-wrapped\"><div class=\"sk-label-container\"><div class=\"sk-label sk-toggleable\"><input class=\"sk-toggleable__control sk-hidden--visually\" id=\"63044385-c44c-44bf-80f9-99fd4b6482bc\" type=\"checkbox\" ><label class=\"sk-toggleable__label\" for=\"63044385-c44c-44bf-80f9-99fd4b6482bc\">Pipeline</label><div class=\"sk-toggleable__content\"><pre>Pipeline(steps=[('preprocessor',\n",
       "                 ColumnTransformer(transformers=[('artist_preproc',\n",
       "                                                  Pipeline(steps=[('artist_popularity',\n",
       "                                                                   ArtistPopularityTransformer()),\n",
       "                                                                  ('scaler',\n",
       "                                                                   MinMaxScaler())]),\n",
       "                                                  ['artist']),\n",
       "                                                 ('year_preproc',\n",
       "                                                  Pipeline(steps=[('year',\n",
       "                                                                   FunctionTransformer(func=<function <lambda> at 0x7f9ab8bedf70>)),\n",
       "                                                                  ('scaler',\n",
       "                                                                   MinMaxScaler())]),\n",
       "                                                  ['release_date']),\n",
       "                                                 ('other_preproc',\n",
       "                                                  ColumnTransformer(remainder='passthrough',\n",
       "                                                                    transformers=[('scaling',\n",
       "                                                                                   RobustScaler(),\n",
       "                                                                                   ['duration_ms',\n",
       "                                                                                    'loudness',\n",
       "                                                                                    'tempo']),\n",
       "                                                                                  ('encoding',\n",
       "                                                                                   OneHotEncoder(sparse=False),\n",
       "                                                                                   ['key'])]),\n",
       "                                                  ['acousticness',\n",
       "                                                   'danceability',\n",
       "                                                   'duration_ms', 'energy',\n",
       "                                                   'explicit',\n",
       "                                                   'instrumentalness', 'key',\n",
       "                                                   'liveness', 'loudness',\n",
       "                                                   'mode', 'speechiness',\n",
       "                                                   'tempo', 'valence'])])),\n",
       "                ('model', Ridge())])</pre></div></div></div><div class=\"sk-serial\"><div class=\"sk-item sk-dashed-wrapped\"><div class=\"sk-label-container\"><div class=\"sk-label sk-toggleable\"><input class=\"sk-toggleable__control sk-hidden--visually\" id=\"04e911d9-c996-42e3-972c-2967845f87ec\" type=\"checkbox\" ><label class=\"sk-toggleable__label\" for=\"04e911d9-c996-42e3-972c-2967845f87ec\">preprocessor: ColumnTransformer</label><div class=\"sk-toggleable__content\"><pre>ColumnTransformer(transformers=[('artist_preproc',\n",
       "                                 Pipeline(steps=[('artist_popularity',\n",
       "                                                  ArtistPopularityTransformer()),\n",
       "                                                 ('scaler', MinMaxScaler())]),\n",
       "                                 ['artist']),\n",
       "                                ('year_preproc',\n",
       "                                 Pipeline(steps=[('year',\n",
       "                                                  FunctionTransformer(func=<function <lambda> at 0x7f9ab8bedf70>)),\n",
       "                                                 ('scaler', MinMaxScaler())]),\n",
       "                                 ['release_date']),\n",
       "                                ('other_preproc',\n",
       "                                 ColumnTransformer(remainder='passthrough',\n",
       "                                                   transformers=[('scaling',\n",
       "                                                                  RobustScaler(),\n",
       "                                                                  ['duration_ms',\n",
       "                                                                   'loudness',\n",
       "                                                                   'tempo']),\n",
       "                                                                 ('encoding',\n",
       "                                                                  OneHotEncoder(sparse=False),\n",
       "                                                                  ['key'])]),\n",
       "                                 ['acousticness', 'danceability', 'duration_ms',\n",
       "                                  'energy', 'explicit', 'instrumentalness',\n",
       "                                  'key', 'liveness', 'loudness', 'mode',\n",
       "                                  'speechiness', 'tempo', 'valence'])])</pre></div></div></div><div class=\"sk-parallel\"><div class=\"sk-parallel-item\"><div class=\"sk-item\"><div class=\"sk-label-container\"><div class=\"sk-label sk-toggleable\"><input class=\"sk-toggleable__control sk-hidden--visually\" id=\"f724f89f-5d46-4ba8-a914-d623d7aac232\" type=\"checkbox\" ><label class=\"sk-toggleable__label\" for=\"f724f89f-5d46-4ba8-a914-d623d7aac232\">artist_preproc</label><div class=\"sk-toggleable__content\"><pre>['artist']</pre></div></div></div><div class=\"sk-serial\"><div class=\"sk-item\"><div class=\"sk-serial\"><div class=\"sk-item\"><div class=\"sk-estimator sk-toggleable\"><input class=\"sk-toggleable__control sk-hidden--visually\" id=\"e4b903a7-d617-4719-a4b9-60d970066948\" type=\"checkbox\" ><label class=\"sk-toggleable__label\" for=\"e4b903a7-d617-4719-a4b9-60d970066948\">ArtistPopularityTransformer</label><div class=\"sk-toggleable__content\"><pre>ArtistPopularityTransformer()</pre></div></div></div><div class=\"sk-item\"><div class=\"sk-estimator sk-toggleable\"><input class=\"sk-toggleable__control sk-hidden--visually\" id=\"cf52795b-0174-47ae-89ee-a4973368339b\" type=\"checkbox\" ><label class=\"sk-toggleable__label\" for=\"cf52795b-0174-47ae-89ee-a4973368339b\">MinMaxScaler</label><div class=\"sk-toggleable__content\"><pre>MinMaxScaler()</pre></div></div></div></div></div></div></div></div><div class=\"sk-parallel-item\"><div class=\"sk-item\"><div class=\"sk-label-container\"><div class=\"sk-label sk-toggleable\"><input class=\"sk-toggleable__control sk-hidden--visually\" id=\"fa527d93-ea1d-4387-aa3b-716f06b7ef37\" type=\"checkbox\" ><label class=\"sk-toggleable__label\" for=\"fa527d93-ea1d-4387-aa3b-716f06b7ef37\">year_preproc</label><div class=\"sk-toggleable__content\"><pre>['release_date']</pre></div></div></div><div class=\"sk-serial\"><div class=\"sk-item\"><div class=\"sk-serial\"><div class=\"sk-item\"><div class=\"sk-estimator sk-toggleable\"><input class=\"sk-toggleable__control sk-hidden--visually\" id=\"675999ab-ea52-45f1-a652-507cd38537cb\" type=\"checkbox\" ><label class=\"sk-toggleable__label\" for=\"675999ab-ea52-45f1-a652-507cd38537cb\">FunctionTransformer</label><div class=\"sk-toggleable__content\"><pre>FunctionTransformer(func=<function <lambda> at 0x7f9ab8bedf70>)</pre></div></div></div><div class=\"sk-item\"><div class=\"sk-estimator sk-toggleable\"><input class=\"sk-toggleable__control sk-hidden--visually\" id=\"bde3c902-56e7-436c-956c-a76657f81f44\" type=\"checkbox\" ><label class=\"sk-toggleable__label\" for=\"bde3c902-56e7-436c-956c-a76657f81f44\">MinMaxScaler</label><div class=\"sk-toggleable__content\"><pre>MinMaxScaler()</pre></div></div></div></div></div></div></div></div><div class=\"sk-parallel-item\"><div class=\"sk-item\"><div class=\"sk-label-container\"><div class=\"sk-label sk-toggleable\"><input class=\"sk-toggleable__control sk-hidden--visually\" id=\"b0928315-284a-4f9b-b302-df6f762cf872\" type=\"checkbox\" ><label class=\"sk-toggleable__label\" for=\"b0928315-284a-4f9b-b302-df6f762cf872\">other_preproc</label><div class=\"sk-toggleable__content\"><pre>['acousticness', 'danceability', 'duration_ms', 'energy', 'explicit', 'instrumentalness', 'key', 'liveness', 'loudness', 'mode', 'speechiness', 'tempo', 'valence']</pre></div></div></div><div class=\"sk-serial\"><div class=\"sk-item sk-dashed-wrapped\"><div class=\"sk-parallel\"><div class=\"sk-parallel-item\"><div class=\"sk-item\"><div class=\"sk-label-container\"><div class=\"sk-label sk-toggleable\"><input class=\"sk-toggleable__control sk-hidden--visually\" id=\"8591db0c-03e2-477d-ace5-18141ec89577\" type=\"checkbox\" ><label class=\"sk-toggleable__label\" for=\"8591db0c-03e2-477d-ace5-18141ec89577\">scaling</label><div class=\"sk-toggleable__content\"><pre>['duration_ms', 'loudness', 'tempo']</pre></div></div></div><div class=\"sk-serial\"><div class=\"sk-item\"><div class=\"sk-estimator sk-toggleable\"><input class=\"sk-toggleable__control sk-hidden--visually\" id=\"5cf9a086-a78e-4594-8b1a-f5d744c845f4\" type=\"checkbox\" ><label class=\"sk-toggleable__label\" for=\"5cf9a086-a78e-4594-8b1a-f5d744c845f4\">RobustScaler</label><div class=\"sk-toggleable__content\"><pre>RobustScaler()</pre></div></div></div></div></div></div><div class=\"sk-parallel-item\"><div class=\"sk-item\"><div class=\"sk-label-container\"><div class=\"sk-label sk-toggleable\"><input class=\"sk-toggleable__control sk-hidden--visually\" id=\"2e57ae27-3749-4d94-98c7-44e02da390b8\" type=\"checkbox\" ><label class=\"sk-toggleable__label\" for=\"2e57ae27-3749-4d94-98c7-44e02da390b8\">encoding</label><div class=\"sk-toggleable__content\"><pre>['key']</pre></div></div></div><div class=\"sk-serial\"><div class=\"sk-item\"><div class=\"sk-estimator sk-toggleable\"><input class=\"sk-toggleable__control sk-hidden--visually\" id=\"4166af5a-c72d-4a44-9ec3-c64148eb0c7b\" type=\"checkbox\" ><label class=\"sk-toggleable__label\" for=\"4166af5a-c72d-4a44-9ec3-c64148eb0c7b\">OneHotEncoder</label><div class=\"sk-toggleable__content\"><pre>OneHotEncoder(sparse=False)</pre></div></div></div></div></div></div><div class=\"sk-parallel-item\"><div class=\"sk-item\"><div class=\"sk-label-container\"><div class=\"sk-label sk-toggleable\"><input class=\"sk-toggleable__control sk-hidden--visually\" id=\"6b7f6acd-aa3c-49c6-9fb9-3c8ef06c228a\" type=\"checkbox\" ><label class=\"sk-toggleable__label\" for=\"6b7f6acd-aa3c-49c6-9fb9-3c8ef06c228a\">remainder</label><div class=\"sk-toggleable__content\"><pre></pre></div></div></div><div class=\"sk-serial\"><div class=\"sk-item\"><div class=\"sk-estimator sk-toggleable\"><input class=\"sk-toggleable__control sk-hidden--visually\" id=\"b32d278a-67f7-458c-bada-b79783b507ce\" type=\"checkbox\" ><label class=\"sk-toggleable__label\" for=\"b32d278a-67f7-458c-bada-b79783b507ce\">passthrough</label><div class=\"sk-toggleable__content\"><pre>passthrough</pre></div></div></div></div></div></div></div></div></div></div></div></div></div><div class=\"sk-item\"><div class=\"sk-estimator sk-toggleable\"><input class=\"sk-toggleable__control sk-hidden--visually\" id=\"f66d8484-2981-4a04-8e9e-16829d432769\" type=\"checkbox\" ><label class=\"sk-toggleable__label\" for=\"f66d8484-2981-4a04-8e9e-16829d432769\">Ridge</label><div class=\"sk-toggleable__content\"><pre>Ridge()</pre></div></div></div></div></div></div></div>"
      ],
      "text/plain": [
       "Pipeline(steps=[('preprocessor',\n",
       "                 ColumnTransformer(transformers=[('artist_preproc',\n",
       "                                                  Pipeline(steps=[('artist_popularity',\n",
       "                                                                   ArtistPopularityTransformer()),\n",
       "                                                                  ('scaler',\n",
       "                                                                   MinMaxScaler())]),\n",
       "                                                  ['artist']),\n",
       "                                                 ('year_preproc',\n",
       "                                                  Pipeline(steps=[('year',\n",
       "                                                                   FunctionTransformer(func=<function <lambda> at 0x7f9ab8bedf70>)),\n",
       "                                                                  ('scaler',\n",
       "                                                                   MinMaxScaler())]),\n",
       "                                                  ['release_date']),\n",
       "                                                 ('other_preproc',\n",
       "                                                  ColumnTransformer(remainder='passthrough',\n",
       "                                                                    transformers=[('scaling',\n",
       "                                                                                   RobustScaler(),\n",
       "                                                                                   ['duration_ms',\n",
       "                                                                                    'loudness',\n",
       "                                                                                    'tempo']),\n",
       "                                                                                  ('encoding',\n",
       "                                                                                   OneHotEncoder(sparse=False),\n",
       "                                                                                   ['key'])]),\n",
       "                                                  ['acousticness',\n",
       "                                                   'danceability',\n",
       "                                                   'duration_ms', 'energy',\n",
       "                                                   'explicit',\n",
       "                                                   'instrumentalness', 'key',\n",
       "                                                   'liveness', 'loudness',\n",
       "                                                   'mode', 'speechiness',\n",
       "                                                   'tempo', 'valence'])])),\n",
       "                ('model', Ridge())])"
      ]
     },
     "execution_count": 70,
     "metadata": {},
     "output_type": "execute_result"
    }
   ],
   "source": [
    "# Print below your best pipe for correction purpose\n",
    "from sklearn import set_config; set_config(display='diagram')\n",
    "pipe_linear"
   ]
  },
  {
   "cell_type": "code",
   "execution_count": 71,
   "metadata": {
    "ExecuteTime": {
     "end_time": "2021-04-07T11:29:12.129572Z",
     "start_time": "2021-04-07T11:29:11.950548Z"
    }
   },
   "outputs": [
    {
     "data": {
      "text/html": [
       "<style>div.sk-top-container {color: black;background-color: white;}div.sk-toggleable {background-color: white;}label.sk-toggleable__label {cursor: pointer;display: block;width: 100%;margin-bottom: 0;padding: 0.2em 0.3em;box-sizing: border-box;text-align: center;}div.sk-toggleable__content {max-height: 0;max-width: 0;overflow: hidden;text-align: left;background-color: #f0f8ff;}div.sk-toggleable__content pre {margin: 0.2em;color: black;border-radius: 0.25em;background-color: #f0f8ff;}input.sk-toggleable__control:checked~div.sk-toggleable__content {max-height: 200px;max-width: 100%;overflow: auto;}div.sk-estimator input.sk-toggleable__control:checked~label.sk-toggleable__label {background-color: #d4ebff;}div.sk-label input.sk-toggleable__control:checked~label.sk-toggleable__label {background-color: #d4ebff;}input.sk-hidden--visually {border: 0;clip: rect(1px 1px 1px 1px);clip: rect(1px, 1px, 1px, 1px);height: 1px;margin: -1px;overflow: hidden;padding: 0;position: absolute;width: 1px;}div.sk-estimator {font-family: monospace;background-color: #f0f8ff;margin: 0.25em 0.25em;border: 1px dotted black;border-radius: 0.25em;box-sizing: border-box;}div.sk-estimator:hover {background-color: #d4ebff;}div.sk-parallel-item::after {content: \"\";width: 100%;border-bottom: 1px solid gray;flex-grow: 1;}div.sk-label:hover label.sk-toggleable__label {background-color: #d4ebff;}div.sk-serial::before {content: \"\";position: absolute;border-left: 1px solid gray;box-sizing: border-box;top: 2em;bottom: 0;left: 50%;}div.sk-serial {display: flex;flex-direction: column;align-items: center;background-color: white;}div.sk-item {z-index: 1;}div.sk-parallel {display: flex;align-items: stretch;justify-content: center;background-color: white;}div.sk-parallel-item {display: flex;flex-direction: column;position: relative;background-color: white;}div.sk-parallel-item:first-child::after {align-self: flex-end;width: 50%;}div.sk-parallel-item:last-child::after {align-self: flex-start;width: 50%;}div.sk-parallel-item:only-child::after {width: 0;}div.sk-dashed-wrapped {border: 1px dashed gray;margin: 0.2em;box-sizing: border-box;padding-bottom: 0.1em;background-color: white;position: relative;}div.sk-label label {font-family: monospace;font-weight: bold;background-color: white;display: inline-block;line-height: 1.2em;}div.sk-label-container {position: relative;z-index: 2;text-align: center;}div.sk-container {display: inline-block;position: relative;}</style><div class=\"sk-top-container\"><div class=\"sk-container\"><div class=\"sk-item sk-dashed-wrapped\"><div class=\"sk-label-container\"><div class=\"sk-label sk-toggleable\"><input class=\"sk-toggleable__control sk-hidden--visually\" id=\"0d2298f0-ea2b-4dca-a104-3db953a580f1\" type=\"checkbox\" ><label class=\"sk-toggleable__label\" for=\"0d2298f0-ea2b-4dca-a104-3db953a580f1\">Pipeline</label><div class=\"sk-toggleable__content\"><pre>Pipeline(steps=[('preprocessor',\n",
       "                 ColumnTransformer(transformers=[('artist_preproc',\n",
       "                                                  Pipeline(steps=[('artist_popularity',\n",
       "                                                                   ArtistPopularityTransformer()),\n",
       "                                                                  ('scaler',\n",
       "                                                                   MinMaxScaler())]),\n",
       "                                                  ['artist']),\n",
       "                                                 ('year_preproc',\n",
       "                                                  Pipeline(steps=[('year',\n",
       "                                                                   FunctionTransformer(func=<function <lambda> at 0x7f9ab8bedf70>)),\n",
       "                                                                  ('scaler',\n",
       "                                                                   MinMaxScaler())]),\n",
       "                                                  ['release_date']),\n",
       "                                                 ('other_prep...\n",
       "                                                  ColumnTransformer(remainder='passthrough',\n",
       "                                                                    transformers=[('scaling',\n",
       "                                                                                   RobustScaler(),\n",
       "                                                                                   ['duration_ms',\n",
       "                                                                                    'loudness',\n",
       "                                                                                    'tempo']),\n",
       "                                                                                  ('encoding',\n",
       "                                                                                   OneHotEncoder(sparse=False),\n",
       "                                                                                   ['key'])]),\n",
       "                                                  ['acousticness',\n",
       "                                                   'danceability',\n",
       "                                                   'duration_ms', 'energy',\n",
       "                                                   'explicit',\n",
       "                                                   'instrumentalness', 'key',\n",
       "                                                   'liveness', 'loudness',\n",
       "                                                   'mode', 'speechiness',\n",
       "                                                   'tempo', 'valence'])])),\n",
       "                ('model', DecisionTreeRegressor())])</pre></div></div></div><div class=\"sk-serial\"><div class=\"sk-item sk-dashed-wrapped\"><div class=\"sk-label-container\"><div class=\"sk-label sk-toggleable\"><input class=\"sk-toggleable__control sk-hidden--visually\" id=\"0de674ca-530b-4851-ac62-e46e3316341b\" type=\"checkbox\" ><label class=\"sk-toggleable__label\" for=\"0de674ca-530b-4851-ac62-e46e3316341b\">preprocessor: ColumnTransformer</label><div class=\"sk-toggleable__content\"><pre>ColumnTransformer(transformers=[('artist_preproc',\n",
       "                                 Pipeline(steps=[('artist_popularity',\n",
       "                                                  ArtistPopularityTransformer()),\n",
       "                                                 ('scaler', MinMaxScaler())]),\n",
       "                                 ['artist']),\n",
       "                                ('year_preproc',\n",
       "                                 Pipeline(steps=[('year',\n",
       "                                                  FunctionTransformer(func=<function <lambda> at 0x7f9ab8bedf70>)),\n",
       "                                                 ('scaler', MinMaxScaler())]),\n",
       "                                 ['release_date']),\n",
       "                                ('other_preproc',\n",
       "                                 ColumnTransformer(remainder='passthrough',\n",
       "                                                   transformers=[('scaling',\n",
       "                                                                  RobustScaler(),\n",
       "                                                                  ['duration_ms',\n",
       "                                                                   'loudness',\n",
       "                                                                   'tempo']),\n",
       "                                                                 ('encoding',\n",
       "                                                                  OneHotEncoder(sparse=False),\n",
       "                                                                  ['key'])]),\n",
       "                                 ['acousticness', 'danceability', 'duration_ms',\n",
       "                                  'energy', 'explicit', 'instrumentalness',\n",
       "                                  'key', 'liveness', 'loudness', 'mode',\n",
       "                                  'speechiness', 'tempo', 'valence'])])</pre></div></div></div><div class=\"sk-parallel\"><div class=\"sk-parallel-item\"><div class=\"sk-item\"><div class=\"sk-label-container\"><div class=\"sk-label sk-toggleable\"><input class=\"sk-toggleable__control sk-hidden--visually\" id=\"f7b47692-c51f-4f35-b5a3-e7ebcc13484f\" type=\"checkbox\" ><label class=\"sk-toggleable__label\" for=\"f7b47692-c51f-4f35-b5a3-e7ebcc13484f\">artist_preproc</label><div class=\"sk-toggleable__content\"><pre>['artist']</pre></div></div></div><div class=\"sk-serial\"><div class=\"sk-item\"><div class=\"sk-serial\"><div class=\"sk-item\"><div class=\"sk-estimator sk-toggleable\"><input class=\"sk-toggleable__control sk-hidden--visually\" id=\"feb12b3d-1f28-4e4c-b5a7-1280e1cf2174\" type=\"checkbox\" ><label class=\"sk-toggleable__label\" for=\"feb12b3d-1f28-4e4c-b5a7-1280e1cf2174\">ArtistPopularityTransformer</label><div class=\"sk-toggleable__content\"><pre>ArtistPopularityTransformer()</pre></div></div></div><div class=\"sk-item\"><div class=\"sk-estimator sk-toggleable\"><input class=\"sk-toggleable__control sk-hidden--visually\" id=\"69fbd25d-a64d-40a3-b211-238558d27141\" type=\"checkbox\" ><label class=\"sk-toggleable__label\" for=\"69fbd25d-a64d-40a3-b211-238558d27141\">MinMaxScaler</label><div class=\"sk-toggleable__content\"><pre>MinMaxScaler()</pre></div></div></div></div></div></div></div></div><div class=\"sk-parallel-item\"><div class=\"sk-item\"><div class=\"sk-label-container\"><div class=\"sk-label sk-toggleable\"><input class=\"sk-toggleable__control sk-hidden--visually\" id=\"87f55359-b363-4ef3-a6ae-f5dbc36e2a6a\" type=\"checkbox\" ><label class=\"sk-toggleable__label\" for=\"87f55359-b363-4ef3-a6ae-f5dbc36e2a6a\">year_preproc</label><div class=\"sk-toggleable__content\"><pre>['release_date']</pre></div></div></div><div class=\"sk-serial\"><div class=\"sk-item\"><div class=\"sk-serial\"><div class=\"sk-item\"><div class=\"sk-estimator sk-toggleable\"><input class=\"sk-toggleable__control sk-hidden--visually\" id=\"b4a89f46-cf18-408c-8d6a-e60ab33c2832\" type=\"checkbox\" ><label class=\"sk-toggleable__label\" for=\"b4a89f46-cf18-408c-8d6a-e60ab33c2832\">FunctionTransformer</label><div class=\"sk-toggleable__content\"><pre>FunctionTransformer(func=<function <lambda> at 0x7f9ab8bedf70>)</pre></div></div></div><div class=\"sk-item\"><div class=\"sk-estimator sk-toggleable\"><input class=\"sk-toggleable__control sk-hidden--visually\" id=\"aa062c33-e7c7-46b5-ac3c-6baefa7e1f45\" type=\"checkbox\" ><label class=\"sk-toggleable__label\" for=\"aa062c33-e7c7-46b5-ac3c-6baefa7e1f45\">MinMaxScaler</label><div class=\"sk-toggleable__content\"><pre>MinMaxScaler()</pre></div></div></div></div></div></div></div></div><div class=\"sk-parallel-item\"><div class=\"sk-item\"><div class=\"sk-label-container\"><div class=\"sk-label sk-toggleable\"><input class=\"sk-toggleable__control sk-hidden--visually\" id=\"8513d09c-3685-493f-850d-cf480618b19b\" type=\"checkbox\" ><label class=\"sk-toggleable__label\" for=\"8513d09c-3685-493f-850d-cf480618b19b\">other_preproc</label><div class=\"sk-toggleable__content\"><pre>['acousticness', 'danceability', 'duration_ms', 'energy', 'explicit', 'instrumentalness', 'key', 'liveness', 'loudness', 'mode', 'speechiness', 'tempo', 'valence']</pre></div></div></div><div class=\"sk-serial\"><div class=\"sk-item sk-dashed-wrapped\"><div class=\"sk-parallel\"><div class=\"sk-parallel-item\"><div class=\"sk-item\"><div class=\"sk-label-container\"><div class=\"sk-label sk-toggleable\"><input class=\"sk-toggleable__control sk-hidden--visually\" id=\"dc04aa8a-dd08-4c01-9f87-b91f07042a2f\" type=\"checkbox\" ><label class=\"sk-toggleable__label\" for=\"dc04aa8a-dd08-4c01-9f87-b91f07042a2f\">scaling</label><div class=\"sk-toggleable__content\"><pre>['duration_ms', 'loudness', 'tempo']</pre></div></div></div><div class=\"sk-serial\"><div class=\"sk-item\"><div class=\"sk-estimator sk-toggleable\"><input class=\"sk-toggleable__control sk-hidden--visually\" id=\"9fa40257-c9eb-4a35-a035-6411ea9e408d\" type=\"checkbox\" ><label class=\"sk-toggleable__label\" for=\"9fa40257-c9eb-4a35-a035-6411ea9e408d\">RobustScaler</label><div class=\"sk-toggleable__content\"><pre>RobustScaler()</pre></div></div></div></div></div></div><div class=\"sk-parallel-item\"><div class=\"sk-item\"><div class=\"sk-label-container\"><div class=\"sk-label sk-toggleable\"><input class=\"sk-toggleable__control sk-hidden--visually\" id=\"fd0b5243-64c3-4937-a0e0-45b1ae04b4dd\" type=\"checkbox\" ><label class=\"sk-toggleable__label\" for=\"fd0b5243-64c3-4937-a0e0-45b1ae04b4dd\">encoding</label><div class=\"sk-toggleable__content\"><pre>['key']</pre></div></div></div><div class=\"sk-serial\"><div class=\"sk-item\"><div class=\"sk-estimator sk-toggleable\"><input class=\"sk-toggleable__control sk-hidden--visually\" id=\"c1829bee-9be7-44c8-be7f-2ab1a56786ae\" type=\"checkbox\" ><label class=\"sk-toggleable__label\" for=\"c1829bee-9be7-44c8-be7f-2ab1a56786ae\">OneHotEncoder</label><div class=\"sk-toggleable__content\"><pre>OneHotEncoder(sparse=False)</pre></div></div></div></div></div></div><div class=\"sk-parallel-item\"><div class=\"sk-item\"><div class=\"sk-label-container\"><div class=\"sk-label sk-toggleable\"><input class=\"sk-toggleable__control sk-hidden--visually\" id=\"40a98b5a-8532-44b0-b880-915a42969f65\" type=\"checkbox\" ><label class=\"sk-toggleable__label\" for=\"40a98b5a-8532-44b0-b880-915a42969f65\">remainder</label><div class=\"sk-toggleable__content\"><pre></pre></div></div></div><div class=\"sk-serial\"><div class=\"sk-item\"><div class=\"sk-estimator sk-toggleable\"><input class=\"sk-toggleable__control sk-hidden--visually\" id=\"2c2b72d7-3668-465d-bc02-f6001cac3579\" type=\"checkbox\" ><label class=\"sk-toggleable__label\" for=\"2c2b72d7-3668-465d-bc02-f6001cac3579\">passthrough</label><div class=\"sk-toggleable__content\"><pre>passthrough</pre></div></div></div></div></div></div></div></div></div></div></div></div></div><div class=\"sk-item\"><div class=\"sk-estimator sk-toggleable\"><input class=\"sk-toggleable__control sk-hidden--visually\" id=\"94fe20dc-84bd-4043-8036-ba7c7d1802dc\" type=\"checkbox\" ><label class=\"sk-toggleable__label\" for=\"94fe20dc-84bd-4043-8036-ba7c7d1802dc\">DecisionTreeRegressor</label><div class=\"sk-toggleable__content\"><pre>DecisionTreeRegressor()</pre></div></div></div></div></div></div></div>"
      ],
      "text/plain": [
       "Pipeline(steps=[('preprocessor',\n",
       "                 ColumnTransformer(transformers=[('artist_preproc',\n",
       "                                                  Pipeline(steps=[('artist_popularity',\n",
       "                                                                   ArtistPopularityTransformer()),\n",
       "                                                                  ('scaler',\n",
       "                                                                   MinMaxScaler())]),\n",
       "                                                  ['artist']),\n",
       "                                                 ('year_preproc',\n",
       "                                                  Pipeline(steps=[('year',\n",
       "                                                                   FunctionTransformer(func=<function <lambda> at 0x7f9ab8bedf70>)),\n",
       "                                                                  ('scaler',\n",
       "                                                                   MinMaxScaler())]),\n",
       "                                                  ['release_date']),\n",
       "                                                 ('other_prep...\n",
       "                                                  ColumnTransformer(remainder='passthrough',\n",
       "                                                                    transformers=[('scaling',\n",
       "                                                                                   RobustScaler(),\n",
       "                                                                                   ['duration_ms',\n",
       "                                                                                    'loudness',\n",
       "                                                                                    'tempo']),\n",
       "                                                                                  ('encoding',\n",
       "                                                                                   OneHotEncoder(sparse=False),\n",
       "                                                                                   ['key'])]),\n",
       "                                                  ['acousticness',\n",
       "                                                   'danceability',\n",
       "                                                   'duration_ms', 'energy',\n",
       "                                                   'explicit',\n",
       "                                                   'instrumentalness', 'key',\n",
       "                                                   'liveness', 'loudness',\n",
       "                                                   'mode', 'speechiness',\n",
       "                                                   'tempo', 'valence'])])),\n",
       "                ('model', DecisionTreeRegressor())])"
      ]
     },
     "execution_count": 71,
     "metadata": {},
     "output_type": "execute_result"
    }
   ],
   "source": [
    "# Print below your best pipe for correction purpose\n",
    "pipe_ensemble"
   ]
  },
  {
   "cell_type": "code",
   "execution_count": 72,
   "metadata": {
    "ExecuteTime": {
     "end_time": "2021-04-07T11:29:13.890524Z",
     "start_time": "2021-04-07T11:29:13.883216Z"
    }
   },
   "outputs": [],
   "source": [
    "from nbresult import ChallengeResult\n",
    "\n",
    "ChallengeResult(\"model_tuning\",\n",
    "    scoring = scoring,\n",
    "    score_linear=score_linear,\n",
    "    score_ensemble=score_ensemble).write()"
   ]
  },
  {
   "cell_type": "markdown",
   "metadata": {},
   "source": [
    "## API \n",
    "\n",
    "Time to put a pipeline in production!\n",
    "\n",
    "👉 Go to https://github.com/lewagon/data-certification-api and follow instructions\n",
    "\n",
    "**This final part is independent from the above notebook**"
   ]
  },
  {
   "cell_type": "markdown",
   "metadata": {},
   "source": [
    "Wana try the api ?"
   ]
  },
  {
   "cell_type": "markdown",
   "metadata": {},
   "source": [
    "https://data-certification-aco7pbafca-ew.a.run.app/predict?acousticness=0.654&danceability=0.499&duration_ms=219827&energy=0.19&explicit=0&id=0B6BeEUd6UwFlbsHMQKjob&instrumentalness=0.00409&key=7&liveness=0.0898&loudness=-16.435&mode=1&name=Back%20in%20the%20Goodle%20Days&release_date=1971&speechiness=0.0454&tempo=149.46&valence=0.43&artist=John%20Hartford"
   ]
  }
 ],
 "metadata": {
  "kernelspec": {
   "display_name": "Python 3",
   "language": "python",
   "name": "python3"
  },
  "language_info": {
   "codemirror_mode": {
    "name": "ipython",
    "version": 3
   },
   "file_extension": ".py",
   "mimetype": "text/x-python",
   "name": "python",
   "nbconvert_exporter": "python",
   "pygments_lexer": "ipython3",
   "version": "3.8.6"
  },
  "toc": {
   "base_numbering": 1,
   "nav_menu": {},
   "number_sections": true,
   "sideBar": true,
   "skip_h1_title": true,
   "title_cell": "Table of Contents",
   "title_sidebar": "Contents",
   "toc_cell": false,
   "toc_position": {
    "height": "calc(100% - 180px)",
    "left": "10px",
    "top": "150px",
    "width": "242px"
   },
   "toc_section_display": true,
   "toc_window_display": true
  },
  "varInspector": {
   "cols": {
    "lenName": 16,
    "lenType": 16,
    "lenVar": 40
   },
   "kernels_config": {
    "python": {
     "delete_cmd_postfix": "",
     "delete_cmd_prefix": "del ",
     "library": "var_list.py",
     "varRefreshCmd": "print(var_dic_list())"
    },
    "r": {
     "delete_cmd_postfix": ") ",
     "delete_cmd_prefix": "rm(",
     "library": "var_list.r",
     "varRefreshCmd": "cat(var_dic_list()) "
    }
   },
   "types_to_exclude": [
    "module",
    "function",
    "builtin_function_or_method",
    "instance",
    "_Feature"
   ],
   "window_display": false
  }
 },
 "nbformat": 4,
 "nbformat_minor": 4
}
