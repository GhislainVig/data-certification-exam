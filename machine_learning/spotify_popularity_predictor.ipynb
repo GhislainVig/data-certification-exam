{
 "cells": [
  {
   "cell_type": "markdown",
   "metadata": {},
   "source": [
    "# Spotify Popularity Predictor (39%)"
   ]
  },
  {
   "cell_type": "markdown",
   "metadata": {},
   "source": [
    "The goal of this challenge is to create a model that predicts the popularity of a song based on its features.\n",
    "\n",
    "The dataset contains a list of tracks with the following characteristics:\n",
    "- `acousticness`: whether the track is acoustic\n",
    "- `danceability`: describes how suitable a track is for dancing\n",
    "- `duration_ms`: duration of the track in milliseconds\n",
    "- `energy`: represents a perceptual measure of intensity and activity\n",
    "- `explicit`: whether the track has explicit lyrics\n",
    "- `id`: id for the track\n",
    "- `instrumentalness`: predicts whether a track contains no vocals\n",
    "- `key`: the key the track is in\n",
    "- `liveness`: detects the presence of an audience in the recording\n",
    "- `loudness`: the overall loudness of a track in decibels\n",
    "- `mode`: modality of a track\n",
    "- `name`: name of the track\n",
    "- `popularity`: popularity of the track\n",
    "- `release_date`: release date\n",
    "- `speechiness`: detects the presence of spoken words in a track\n",
    "- `tempo`: overall estimated tempo of a track in beats per minute\n",
    "- `valence`: describes the musical positiveness conveyed by a track\n",
    "- `artist`: artist who performed the track"
   ]
  },
  {
   "cell_type": "markdown",
   "metadata": {},
   "source": [
    "# Model"
   ]
  },
  {
   "cell_type": "markdown",
   "metadata": {},
   "source": [
    "## Data collection\n",
    "\n",
    "📝 **Load the `spotify_popularity_train.csv` dataset from the provided URL**\n",
    "- Display the first few rows\n",
    "- Perform the basic cleaning operations (remove redundant lines, as well as those with missing values)\n",
    "- Store the result in a `DataFrame` named `data`"
   ]
  },
  {
   "cell_type": "code",
   "execution_count": 1,
   "metadata": {
    "ExecuteTime": {
     "end_time": "2021-04-07T15:40:40.099223Z",
     "start_time": "2021-04-07T15:40:40.092612Z"
    }
   },
   "outputs": [],
   "source": [
    "url = \"https://wagon-public-datasets.s3.amazonaws.com/certification_paris_2021Q1/spotify_popularity_train.csv\""
   ]
  },
  {
   "cell_type": "code",
   "execution_count": 2,
   "metadata": {
    "ExecuteTime": {
     "end_time": "2021-04-07T15:40:41.980251Z",
     "start_time": "2021-04-07T15:40:40.105613Z"
    }
   },
   "outputs": [],
   "source": [
    "#Loading the data\n",
    "import pandas as pd\n",
    "import requests\n",
    "import io\n",
    "\n",
    "s=requests.get(url).content\n",
    "data = pd.read_csv(io.StringIO(s.decode('utf-8')))"
   ]
  },
  {
   "cell_type": "code",
   "execution_count": 3,
   "metadata": {
    "ExecuteTime": {
     "end_time": "2021-04-07T15:40:42.067722Z",
     "start_time": "2021-04-07T15:40:41.986238Z"
    }
   },
   "outputs": [
    {
     "data": {
      "text/html": [
       "<div>\n",
       "<style scoped>\n",
       "    .dataframe tbody tr th:only-of-type {\n",
       "        vertical-align: middle;\n",
       "    }\n",
       "\n",
       "    .dataframe tbody tr th {\n",
       "        vertical-align: top;\n",
       "    }\n",
       "\n",
       "    .dataframe thead th {\n",
       "        text-align: right;\n",
       "    }\n",
       "</style>\n",
       "<table border=\"1\" class=\"dataframe\">\n",
       "  <thead>\n",
       "    <tr style=\"text-align: right;\">\n",
       "      <th></th>\n",
       "      <th>acousticness</th>\n",
       "      <th>danceability</th>\n",
       "      <th>duration_ms</th>\n",
       "      <th>energy</th>\n",
       "      <th>explicit</th>\n",
       "      <th>id</th>\n",
       "      <th>instrumentalness</th>\n",
       "      <th>key</th>\n",
       "      <th>liveness</th>\n",
       "      <th>loudness</th>\n",
       "      <th>mode</th>\n",
       "      <th>name</th>\n",
       "      <th>popularity</th>\n",
       "      <th>release_date</th>\n",
       "      <th>speechiness</th>\n",
       "      <th>tempo</th>\n",
       "      <th>valence</th>\n",
       "      <th>artist</th>\n",
       "    </tr>\n",
       "  </thead>\n",
       "  <tbody>\n",
       "    <tr>\n",
       "      <th>0</th>\n",
       "      <td>0.65400</td>\n",
       "      <td>0.499</td>\n",
       "      <td>219827</td>\n",
       "      <td>0.190</td>\n",
       "      <td>0</td>\n",
       "      <td>0B6BeEUd6UwFlbsHMQKjob</td>\n",
       "      <td>0.004090</td>\n",
       "      <td>7</td>\n",
       "      <td>0.0898</td>\n",
       "      <td>-16.435</td>\n",
       "      <td>1</td>\n",
       "      <td>Back in the Goodle Days</td>\n",
       "      <td>40</td>\n",
       "      <td>1971</td>\n",
       "      <td>0.0454</td>\n",
       "      <td>149.460</td>\n",
       "      <td>0.4300</td>\n",
       "      <td>John Hartford</td>\n",
       "    </tr>\n",
       "    <tr>\n",
       "      <th>1</th>\n",
       "      <td>0.00592</td>\n",
       "      <td>0.439</td>\n",
       "      <td>483948</td>\n",
       "      <td>0.808</td>\n",
       "      <td>0</td>\n",
       "      <td>5Gpx4lJy3vKmIvjwbiR5c8</td>\n",
       "      <td>0.140000</td>\n",
       "      <td>2</td>\n",
       "      <td>0.0890</td>\n",
       "      <td>-8.497</td>\n",
       "      <td>1</td>\n",
       "      <td>Worlds Which Break Us - Intro Mix</td>\n",
       "      <td>22</td>\n",
       "      <td>2015-02-02</td>\n",
       "      <td>0.0677</td>\n",
       "      <td>138.040</td>\n",
       "      <td>0.0587</td>\n",
       "      <td>Driftmoon</td>\n",
       "    </tr>\n",
       "    <tr>\n",
       "      <th>2</th>\n",
       "      <td>0.73400</td>\n",
       "      <td>0.523</td>\n",
       "      <td>245693</td>\n",
       "      <td>0.288</td>\n",
       "      <td>0</td>\n",
       "      <td>7MxuUYqrCIy93h1EEHrIrL</td>\n",
       "      <td>0.000000</td>\n",
       "      <td>0</td>\n",
       "      <td>0.0771</td>\n",
       "      <td>-11.506</td>\n",
       "      <td>1</td>\n",
       "      <td>I'm The Greatest Star</td>\n",
       "      <td>40</td>\n",
       "      <td>1968-09-01</td>\n",
       "      <td>0.2140</td>\n",
       "      <td>75.869</td>\n",
       "      <td>0.4640</td>\n",
       "      <td>Barbra Streisand</td>\n",
       "    </tr>\n",
       "    <tr>\n",
       "      <th>3</th>\n",
       "      <td>0.42900</td>\n",
       "      <td>0.681</td>\n",
       "      <td>130026</td>\n",
       "      <td>0.165</td>\n",
       "      <td>0</td>\n",
       "      <td>4GeYbfIx1vSQXTfQb1m8Th</td>\n",
       "      <td>0.000000</td>\n",
       "      <td>11</td>\n",
       "      <td>0.3940</td>\n",
       "      <td>-21.457</td>\n",
       "      <td>0</td>\n",
       "      <td>Kapitel 281 - Der Page und die Herzogin</td>\n",
       "      <td>1</td>\n",
       "      <td>1926</td>\n",
       "      <td>0.9460</td>\n",
       "      <td>145.333</td>\n",
       "      <td>0.2880</td>\n",
       "      <td>Georgette Heyer</td>\n",
       "    </tr>\n",
       "    <tr>\n",
       "      <th>4</th>\n",
       "      <td>0.56200</td>\n",
       "      <td>0.543</td>\n",
       "      <td>129813</td>\n",
       "      <td>0.575</td>\n",
       "      <td>0</td>\n",
       "      <td>2JPGGZwajjMk0vvhfC17RK</td>\n",
       "      <td>0.000004</td>\n",
       "      <td>2</td>\n",
       "      <td>0.1270</td>\n",
       "      <td>-7.374</td>\n",
       "      <td>1</td>\n",
       "      <td>Away from You</td>\n",
       "      <td>15</td>\n",
       "      <td>2008-02-11</td>\n",
       "      <td>0.0265</td>\n",
       "      <td>139.272</td>\n",
       "      <td>0.8010</td>\n",
       "      <td>Gerry &amp; The Pacemakers</td>\n",
       "    </tr>\n",
       "  </tbody>\n",
       "</table>\n",
       "</div>"
      ],
      "text/plain": [
       "   acousticness  danceability  duration_ms  energy  explicit  \\\n",
       "0       0.65400         0.499       219827   0.190         0   \n",
       "1       0.00592         0.439       483948   0.808         0   \n",
       "2       0.73400         0.523       245693   0.288         0   \n",
       "3       0.42900         0.681       130026   0.165         0   \n",
       "4       0.56200         0.543       129813   0.575         0   \n",
       "\n",
       "                       id  instrumentalness  key  liveness  loudness  mode  \\\n",
       "0  0B6BeEUd6UwFlbsHMQKjob          0.004090    7    0.0898   -16.435     1   \n",
       "1  5Gpx4lJy3vKmIvjwbiR5c8          0.140000    2    0.0890    -8.497     1   \n",
       "2  7MxuUYqrCIy93h1EEHrIrL          0.000000    0    0.0771   -11.506     1   \n",
       "3  4GeYbfIx1vSQXTfQb1m8Th          0.000000   11    0.3940   -21.457     0   \n",
       "4  2JPGGZwajjMk0vvhfC17RK          0.000004    2    0.1270    -7.374     1   \n",
       "\n",
       "                                      name  popularity release_date  \\\n",
       "0                  Back in the Goodle Days          40         1971   \n",
       "1        Worlds Which Break Us - Intro Mix          22   2015-02-02   \n",
       "2                    I'm The Greatest Star          40   1968-09-01   \n",
       "3  Kapitel 281 - Der Page und die Herzogin           1         1926   \n",
       "4                            Away from You          15   2008-02-11   \n",
       "\n",
       "   speechiness    tempo  valence                  artist  \n",
       "0       0.0454  149.460   0.4300           John Hartford  \n",
       "1       0.0677  138.040   0.0587               Driftmoon  \n",
       "2       0.2140   75.869   0.4640        Barbra Streisand  \n",
       "3       0.9460  145.333   0.2880         Georgette Heyer  \n",
       "4       0.0265  139.272   0.8010  Gerry & The Pacemakers  "
      ]
     },
     "execution_count": 3,
     "metadata": {},
     "output_type": "execute_result"
    }
   ],
   "source": [
    "data.head()"
   ]
  },
  {
   "cell_type": "code",
   "execution_count": 4,
   "metadata": {
    "ExecuteTime": {
     "end_time": "2021-04-07T15:40:42.088241Z",
     "start_time": "2021-04-07T15:40:42.073805Z"
    }
   },
   "outputs": [
    {
     "data": {
      "text/plain": [
       "(52317, 18)"
      ]
     },
     "execution_count": 4,
     "metadata": {},
     "output_type": "execute_result"
    }
   ],
   "source": [
    "data.shape"
   ]
  },
  {
   "cell_type": "code",
   "execution_count": 5,
   "metadata": {
    "ExecuteTime": {
     "end_time": "2021-04-07T15:40:42.280512Z",
     "start_time": "2021-04-07T15:40:42.097108Z"
    }
   },
   "outputs": [],
   "source": [
    "#Droping duplicated rows\n",
    "data = data.drop_duplicates()"
   ]
  },
  {
   "cell_type": "code",
   "execution_count": 6,
   "metadata": {
    "ExecuteTime": {
     "end_time": "2021-04-07T15:40:42.292726Z",
     "start_time": "2021-04-07T15:40:42.284854Z"
    }
   },
   "outputs": [
    {
     "data": {
      "text/plain": [
       "(52057, 18)"
      ]
     },
     "execution_count": 6,
     "metadata": {},
     "output_type": "execute_result"
    }
   ],
   "source": [
    "data.shape"
   ]
  },
  {
   "cell_type": "code",
   "execution_count": 7,
   "metadata": {
    "ExecuteTime": {
     "end_time": "2021-04-07T15:40:42.353710Z",
     "start_time": "2021-04-07T15:40:42.301768Z"
    }
   },
   "outputs": [
    {
     "name": "stdout",
     "output_type": "stream",
     "text": [
      "<class 'pandas.core.frame.DataFrame'>\n",
      "Int64Index: 52057 entries, 0 to 52316\n",
      "Data columns (total 18 columns):\n",
      " #   Column            Non-Null Count  Dtype  \n",
      "---  ------            --------------  -----  \n",
      " 0   acousticness      52057 non-null  float64\n",
      " 1   danceability      52057 non-null  float64\n",
      " 2   duration_ms       52057 non-null  int64  \n",
      " 3   energy            52057 non-null  float64\n",
      " 4   explicit          52057 non-null  int64  \n",
      " 5   id                52057 non-null  object \n",
      " 6   instrumentalness  52057 non-null  float64\n",
      " 7   key               52057 non-null  int64  \n",
      " 8   liveness          52057 non-null  float64\n",
      " 9   loudness          52057 non-null  float64\n",
      " 10  mode              52057 non-null  int64  \n",
      " 11  name              52057 non-null  object \n",
      " 12  popularity        52057 non-null  int64  \n",
      " 13  release_date      52057 non-null  object \n",
      " 14  speechiness       52057 non-null  float64\n",
      " 15  tempo             52057 non-null  float64\n",
      " 16  valence           52057 non-null  float64\n",
      " 17  artist            52053 non-null  object \n",
      "dtypes: float64(9), int64(5), object(4)\n",
      "memory usage: 7.5+ MB\n"
     ]
    }
   ],
   "source": [
    "#Checking null values\n",
    "data.info()"
   ]
  },
  {
   "cell_type": "code",
   "execution_count": 8,
   "metadata": {
    "ExecuteTime": {
     "end_time": "2021-04-07T15:40:42.393138Z",
     "start_time": "2021-04-07T15:40:42.359246Z"
    }
   },
   "outputs": [
    {
     "data": {
      "text/plain": [
       "artist              4\n",
       "valence             0\n",
       "danceability        0\n",
       "duration_ms         0\n",
       "energy              0\n",
       "explicit            0\n",
       "id                  0\n",
       "instrumentalness    0\n",
       "key                 0\n",
       "liveness            0\n",
       "loudness            0\n",
       "mode                0\n",
       "name                0\n",
       "popularity          0\n",
       "release_date        0\n",
       "speechiness         0\n",
       "tempo               0\n",
       "acousticness        0\n",
       "dtype: int64"
      ]
     },
     "execution_count": 8,
     "metadata": {},
     "output_type": "execute_result"
    }
   ],
   "source": [
    "data.isnull().sum().sort_values(ascending=False)"
   ]
  },
  {
   "cell_type": "code",
   "execution_count": 9,
   "metadata": {
    "ExecuteTime": {
     "end_time": "2021-04-07T15:40:42.423120Z",
     "start_time": "2021-04-07T15:40:42.398648Z"
    }
   },
   "outputs": [],
   "source": [
    "#Mask to drop the rows without artist name\n",
    "data = data[~data.artist.isnull()]"
   ]
  },
  {
   "cell_type": "code",
   "execution_count": 10,
   "metadata": {
    "ExecuteTime": {
     "end_time": "2021-04-07T15:40:42.439929Z",
     "start_time": "2021-04-07T15:40:42.427273Z"
    }
   },
   "outputs": [
    {
     "data": {
      "text/plain": [
       "(52053, 18)"
      ]
     },
     "execution_count": 10,
     "metadata": {},
     "output_type": "execute_result"
    }
   ],
   "source": [
    "data.shape"
   ]
  },
  {
   "cell_type": "markdown",
   "metadata": {},
   "source": [
    "🧪 **Run the following cell to save your results**"
   ]
  },
  {
   "cell_type": "code",
   "execution_count": 11,
   "metadata": {
    "ExecuteTime": {
     "end_time": "2021-04-07T15:40:42.504646Z",
     "start_time": "2021-04-07T15:40:42.445727Z"
    }
   },
   "outputs": [],
   "source": [
    "from nbresult import ChallengeResult\n",
    "\n",
    "ChallengeResult(\n",
    "    \"data_cleaning\",\n",
    "    shape=data.shape).write()"
   ]
  },
  {
   "cell_type": "markdown",
   "metadata": {},
   "source": [
    "## Simple model"
   ]
  },
  {
   "cell_type": "markdown",
   "metadata": {},
   "source": [
    "📝 **Which sklearn's scoring [metric](https://scikit-learn.org/stable/modules/model_evaluation.html) should we use if we want to:**\n",
    "- **Strongly penalize** largest errors\n",
    "- Measure errors **in the same unit** than `popularity` \n",
    "- Is better when greater (metric_good_model > metric_bad_model)\n",
    "\n",
    "👉 Store its exact name as `string` in the variable `scoring` below\n",
    "\n",
    "🚨 You must use this metric for the rest of the challenge"
   ]
  },
  {
   "cell_type": "code",
   "execution_count": 12,
   "metadata": {
    "ExecuteTime": {
     "end_time": "2021-04-07T15:40:42.513508Z",
     "start_time": "2021-04-07T15:40:42.507925Z"
    }
   },
   "outputs": [],
   "source": [
    "scoring = \"neg_root_mean_squared_error\""
   ]
  },
  {
   "cell_type": "markdown",
   "metadata": {},
   "source": [
    "**📝 Let's build a first simple linear model using only the numerical features in our dataset to start with**\n",
    "- Build `X_simple` keeping only numerical features\n",
    "- Build `y` your target containing the `popularity`"
   ]
  },
  {
   "cell_type": "code",
   "execution_count": 13,
   "metadata": {
    "ExecuteTime": {
     "end_time": "2021-04-07T15:40:42.588136Z",
     "start_time": "2021-04-07T15:40:42.518958Z"
    }
   },
   "outputs": [
    {
     "name": "stdout",
     "output_type": "stream",
     "text": [
      "<class 'pandas.core.frame.DataFrame'>\n",
      "Int64Index: 52053 entries, 0 to 52316\n",
      "Data columns (total 18 columns):\n",
      " #   Column            Non-Null Count  Dtype  \n",
      "---  ------            --------------  -----  \n",
      " 0   acousticness      52053 non-null  float64\n",
      " 1   danceability      52053 non-null  float64\n",
      " 2   duration_ms       52053 non-null  int64  \n",
      " 3   energy            52053 non-null  float64\n",
      " 4   explicit          52053 non-null  int64  \n",
      " 5   id                52053 non-null  object \n",
      " 6   instrumentalness  52053 non-null  float64\n",
      " 7   key               52053 non-null  int64  \n",
      " 8   liveness          52053 non-null  float64\n",
      " 9   loudness          52053 non-null  float64\n",
      " 10  mode              52053 non-null  int64  \n",
      " 11  name              52053 non-null  object \n",
      " 12  popularity        52053 non-null  int64  \n",
      " 13  release_date      52053 non-null  object \n",
      " 14  speechiness       52053 non-null  float64\n",
      " 15  tempo             52053 non-null  float64\n",
      " 16  valence           52053 non-null  float64\n",
      " 17  artist            52053 non-null  object \n",
      "dtypes: float64(9), int64(5), object(4)\n",
      "memory usage: 7.5+ MB\n"
     ]
    }
   ],
   "source": [
    "#Checking type of collumns\n",
    "data.info()"
   ]
  },
  {
   "cell_type": "code",
   "execution_count": 14,
   "metadata": {
    "ExecuteTime": {
     "end_time": "2021-04-07T15:40:42.614173Z",
     "start_time": "2021-04-07T15:40:42.593136Z"
    }
   },
   "outputs": [],
   "source": [
    "#Adios non numeric collumns\n",
    "X_simple = data.copy().drop(columns=['id','name','popularity','release_date','artist'])"
   ]
  },
  {
   "cell_type": "code",
   "execution_count": 15,
   "metadata": {
    "ExecuteTime": {
     "end_time": "2021-04-07T15:40:42.635266Z",
     "start_time": "2021-04-07T15:40:42.619679Z"
    }
   },
   "outputs": [],
   "source": [
    "#The target is the popularity\n",
    "y = data.copy().popularity"
   ]
  },
  {
   "cell_type": "markdown",
   "metadata": {},
   "source": [
    "### Holdout evaluation"
   ]
  },
  {
   "cell_type": "markdown",
   "metadata": {},
   "source": [
    "**📝 Create the 4 variables `X_train_simple` `y_train`, `X_test_simple`, `y_test` with a 50% split with random sampling**"
   ]
  },
  {
   "cell_type": "code",
   "execution_count": 16,
   "metadata": {
    "ExecuteTime": {
     "end_time": "2021-04-07T15:40:44.101555Z",
     "start_time": "2021-04-07T15:40:42.644447Z"
    }
   },
   "outputs": [],
   "source": [
    "from sklearn.model_selection import train_test_split\n",
    "\n",
    "X_train_simple, X_test_simple, y_train, y_test = train_test_split(X_simple, y, test_size=0.5)"
   ]
  },
  {
   "cell_type": "markdown",
   "metadata": {},
   "source": [
    "**📝 Fit and evaluate a basic linear model (do not fine tune it) with this holdout method**\n",
    "- Store your model true performance in a float variable `score_simple_holdout`"
   ]
  },
  {
   "cell_type": "code",
   "execution_count": 17,
   "metadata": {
    "ExecuteTime": {
     "end_time": "2021-04-07T15:40:44.112546Z",
     "start_time": "2021-04-07T15:40:44.104826Z"
    }
   },
   "outputs": [],
   "source": [
    "#Manual negative RMSE\n",
    "def NRMSE(pred, true):\n",
    "    return -((sum((pred-true)**2)/len(true))**0.5)"
   ]
  },
  {
   "cell_type": "code",
   "execution_count": 18,
   "metadata": {
    "ExecuteTime": {
     "end_time": "2021-04-07T15:40:44.312659Z",
     "start_time": "2021-04-07T15:40:44.122465Z"
    }
   },
   "outputs": [
    {
     "data": {
      "text/plain": [
       "-18.35282913884419"
      ]
     },
     "execution_count": 18,
     "metadata": {},
     "output_type": "execute_result"
    }
   ],
   "source": [
    "#Baseline score optained with a basic linear regression\n",
    "from sklearn.linear_model import LinearRegression\n",
    "\n",
    "model = LinearRegression()\n",
    "model.fit(X_train_simple, y_train)\n",
    "\n",
    "y_pred = model.predict(X_test_simple)\n",
    "\n",
    "score_simple_holdout = NRMSE(y_pred, y_test)\n",
    "score_simple_holdout"
   ]
  },
  {
   "cell_type": "markdown",
   "metadata": {},
   "source": [
    "### Cross-validation evaluation"
   ]
  },
  {
   "cell_type": "markdown",
   "metadata": {},
   "source": [
    "📝 **Let's be sure our score is representative**: \n",
    "- 5-times cross validate a basic linear model on the whole numeric dataset (`X_simple`, `y`)\n",
    "- Do not fine tune your model\n",
    "- Store your mean performance in a variable `score_simple_cv_mean` as a `float`\n",
    "- Store the standard deviation of your performances in a float variable `score_simple_cv_std`"
   ]
  },
  {
   "cell_type": "code",
   "execution_count": 19,
   "metadata": {
    "ExecuteTime": {
     "end_time": "2021-04-07T15:40:44.744100Z",
     "start_time": "2021-04-07T15:40:44.316665Z"
    }
   },
   "outputs": [
    {
     "data": {
      "text/plain": [
       "-18.360558551569586"
      ]
     },
     "execution_count": 19,
     "metadata": {},
     "output_type": "execute_result"
    }
   ],
   "source": [
    "#Cross validate, the result looks similar\n",
    "from sklearn.model_selection import cross_val_score\n",
    "\n",
    "score_simple_cv_mean = cross_val_score(model, X_simple, y, cv=5, scoring=scoring).mean()\n",
    "score_simple_cv_mean"
   ]
  },
  {
   "cell_type": "code",
   "execution_count": 20,
   "metadata": {
    "ExecuteTime": {
     "end_time": "2021-04-07T15:40:44.761847Z",
     "start_time": "2021-04-07T15:40:44.754348Z"
    }
   },
   "outputs": [
    {
     "data": {
      "text/plain": [
       "18.360558551569586"
      ]
     },
     "execution_count": 20,
     "metadata": {},
     "output_type": "execute_result"
    }
   ],
   "source": [
    "#Isn't std = rmse ?\n",
    "score_simple_cv_std = -score_simple_cv_mean\n",
    "score_simple_cv_std "
   ]
  },
  {
   "cell_type": "markdown",
   "metadata": {},
   "source": [
    "🧪 **Run the following cell to save your results**"
   ]
  },
  {
   "cell_type": "code",
   "execution_count": 21,
   "metadata": {
    "ExecuteTime": {
     "end_time": "2021-04-07T15:40:44.792150Z",
     "start_time": "2021-04-07T15:40:44.772753Z"
    }
   },
   "outputs": [],
   "source": [
    "from nbresult import ChallengeResult\n",
    "\n",
    "ChallengeResult(\n",
    "    \"simple_model\",\n",
    "    scoring=scoring,\n",
    "    shape_train = X_train_simple.shape,\n",
    "    score_simple_holdout=score_simple_holdout,\n",
    "    score_simple_cv_mean=score_simple_cv_mean,\n",
    "    score_simple_cv_std=score_simple_cv_std,\n",
    ").write()"
   ]
  },
  {
   "cell_type": "markdown",
   "metadata": {},
   "source": [
    "## Feature engineering\n",
    "\n",
    "(From now on, we will stop using train/test split but cross-validation on the whole dataset instead)  \n",
    "\n",
    "Let's try to improve performance using the feature `release_date`"
   ]
  },
  {
   "cell_type": "markdown",
   "metadata": {},
   "source": [
    "**📝 Create `X_engineered` by adding a new column `year` to `X`, containing the release year of the track as `integer`**"
   ]
  },
  {
   "cell_type": "code",
   "execution_count": 22,
   "metadata": {
    "ExecuteTime": {
     "end_time": "2021-04-07T15:40:44.852658Z",
     "start_time": "2021-04-07T15:40:44.841476Z"
    }
   },
   "outputs": [],
   "source": [
    "X_engineered = X_simple.copy()"
   ]
  },
  {
   "cell_type": "code",
   "execution_count": 23,
   "metadata": {
    "ExecuteTime": {
     "end_time": "2021-04-07T15:40:53.011855Z",
     "start_time": "2021-04-07T15:40:44.862358Z"
    }
   },
   "outputs": [],
   "source": [
    "#Creating the year column (list comprehension is life)\n",
    "X_engineered['year'] = [pd.to_datetime(date).year for date in data.release_date]"
   ]
  },
  {
   "cell_type": "code",
   "execution_count": 24,
   "metadata": {
    "ExecuteTime": {
     "end_time": "2021-04-07T15:40:53.073206Z",
     "start_time": "2021-04-07T15:40:53.014579Z"
    }
   },
   "outputs": [
    {
     "data": {
      "text/html": [
       "<div>\n",
       "<style scoped>\n",
       "    .dataframe tbody tr th:only-of-type {\n",
       "        vertical-align: middle;\n",
       "    }\n",
       "\n",
       "    .dataframe tbody tr th {\n",
       "        vertical-align: top;\n",
       "    }\n",
       "\n",
       "    .dataframe thead th {\n",
       "        text-align: right;\n",
       "    }\n",
       "</style>\n",
       "<table border=\"1\" class=\"dataframe\">\n",
       "  <thead>\n",
       "    <tr style=\"text-align: right;\">\n",
       "      <th></th>\n",
       "      <th>acousticness</th>\n",
       "      <th>danceability</th>\n",
       "      <th>duration_ms</th>\n",
       "      <th>energy</th>\n",
       "      <th>explicit</th>\n",
       "      <th>instrumentalness</th>\n",
       "      <th>key</th>\n",
       "      <th>liveness</th>\n",
       "      <th>loudness</th>\n",
       "      <th>mode</th>\n",
       "      <th>speechiness</th>\n",
       "      <th>tempo</th>\n",
       "      <th>valence</th>\n",
       "      <th>year</th>\n",
       "    </tr>\n",
       "  </thead>\n",
       "  <tbody>\n",
       "    <tr>\n",
       "      <th>0</th>\n",
       "      <td>0.65400</td>\n",
       "      <td>0.499</td>\n",
       "      <td>219827</td>\n",
       "      <td>0.190</td>\n",
       "      <td>0</td>\n",
       "      <td>0.004090</td>\n",
       "      <td>7</td>\n",
       "      <td>0.0898</td>\n",
       "      <td>-16.435</td>\n",
       "      <td>1</td>\n",
       "      <td>0.0454</td>\n",
       "      <td>149.460</td>\n",
       "      <td>0.4300</td>\n",
       "      <td>1971</td>\n",
       "    </tr>\n",
       "    <tr>\n",
       "      <th>1</th>\n",
       "      <td>0.00592</td>\n",
       "      <td>0.439</td>\n",
       "      <td>483948</td>\n",
       "      <td>0.808</td>\n",
       "      <td>0</td>\n",
       "      <td>0.140000</td>\n",
       "      <td>2</td>\n",
       "      <td>0.0890</td>\n",
       "      <td>-8.497</td>\n",
       "      <td>1</td>\n",
       "      <td>0.0677</td>\n",
       "      <td>138.040</td>\n",
       "      <td>0.0587</td>\n",
       "      <td>2015</td>\n",
       "    </tr>\n",
       "    <tr>\n",
       "      <th>2</th>\n",
       "      <td>0.73400</td>\n",
       "      <td>0.523</td>\n",
       "      <td>245693</td>\n",
       "      <td>0.288</td>\n",
       "      <td>0</td>\n",
       "      <td>0.000000</td>\n",
       "      <td>0</td>\n",
       "      <td>0.0771</td>\n",
       "      <td>-11.506</td>\n",
       "      <td>1</td>\n",
       "      <td>0.2140</td>\n",
       "      <td>75.869</td>\n",
       "      <td>0.4640</td>\n",
       "      <td>1968</td>\n",
       "    </tr>\n",
       "    <tr>\n",
       "      <th>3</th>\n",
       "      <td>0.42900</td>\n",
       "      <td>0.681</td>\n",
       "      <td>130026</td>\n",
       "      <td>0.165</td>\n",
       "      <td>0</td>\n",
       "      <td>0.000000</td>\n",
       "      <td>11</td>\n",
       "      <td>0.3940</td>\n",
       "      <td>-21.457</td>\n",
       "      <td>0</td>\n",
       "      <td>0.9460</td>\n",
       "      <td>145.333</td>\n",
       "      <td>0.2880</td>\n",
       "      <td>1926</td>\n",
       "    </tr>\n",
       "    <tr>\n",
       "      <th>4</th>\n",
       "      <td>0.56200</td>\n",
       "      <td>0.543</td>\n",
       "      <td>129813</td>\n",
       "      <td>0.575</td>\n",
       "      <td>0</td>\n",
       "      <td>0.000004</td>\n",
       "      <td>2</td>\n",
       "      <td>0.1270</td>\n",
       "      <td>-7.374</td>\n",
       "      <td>1</td>\n",
       "      <td>0.0265</td>\n",
       "      <td>139.272</td>\n",
       "      <td>0.8010</td>\n",
       "      <td>2008</td>\n",
       "    </tr>\n",
       "    <tr>\n",
       "      <th>...</th>\n",
       "      <td>...</td>\n",
       "      <td>...</td>\n",
       "      <td>...</td>\n",
       "      <td>...</td>\n",
       "      <td>...</td>\n",
       "      <td>...</td>\n",
       "      <td>...</td>\n",
       "      <td>...</td>\n",
       "      <td>...</td>\n",
       "      <td>...</td>\n",
       "      <td>...</td>\n",
       "      <td>...</td>\n",
       "      <td>...</td>\n",
       "      <td>...</td>\n",
       "    </tr>\n",
       "    <tr>\n",
       "      <th>52312</th>\n",
       "      <td>0.16400</td>\n",
       "      <td>0.512</td>\n",
       "      <td>56253</td>\n",
       "      <td>0.907</td>\n",
       "      <td>0</td>\n",
       "      <td>0.004870</td>\n",
       "      <td>6</td>\n",
       "      <td>0.8010</td>\n",
       "      <td>-7.804</td>\n",
       "      <td>1</td>\n",
       "      <td>0.6620</td>\n",
       "      <td>85.615</td>\n",
       "      <td>0.3150</td>\n",
       "      <td>1977</td>\n",
       "    </tr>\n",
       "    <tr>\n",
       "      <th>52313</th>\n",
       "      <td>0.77300</td>\n",
       "      <td>0.533</td>\n",
       "      <td>192838</td>\n",
       "      <td>0.659</td>\n",
       "      <td>0</td>\n",
       "      <td>0.773000</td>\n",
       "      <td>2</td>\n",
       "      <td>0.1130</td>\n",
       "      <td>-9.117</td>\n",
       "      <td>0</td>\n",
       "      <td>0.0426</td>\n",
       "      <td>158.366</td>\n",
       "      <td>0.6140</td>\n",
       "      <td>1965</td>\n",
       "    </tr>\n",
       "    <tr>\n",
       "      <th>52314</th>\n",
       "      <td>0.45600</td>\n",
       "      <td>0.548</td>\n",
       "      <td>310840</td>\n",
       "      <td>0.568</td>\n",
       "      <td>0</td>\n",
       "      <td>0.000000</td>\n",
       "      <td>6</td>\n",
       "      <td>0.0892</td>\n",
       "      <td>-5.348</td>\n",
       "      <td>1</td>\n",
       "      <td>0.0275</td>\n",
       "      <td>77.495</td>\n",
       "      <td>0.3380</td>\n",
       "      <td>2020</td>\n",
       "    </tr>\n",
       "    <tr>\n",
       "      <th>52315</th>\n",
       "      <td>0.96500</td>\n",
       "      <td>0.360</td>\n",
       "      <td>216493</td>\n",
       "      <td>0.132</td>\n",
       "      <td>0</td>\n",
       "      <td>0.000000</td>\n",
       "      <td>10</td>\n",
       "      <td>0.1260</td>\n",
       "      <td>-21.014</td>\n",
       "      <td>1</td>\n",
       "      <td>0.0355</td>\n",
       "      <td>80.909</td>\n",
       "      <td>0.4100</td>\n",
       "      <td>1952</td>\n",
       "    </tr>\n",
       "    <tr>\n",
       "      <th>52316</th>\n",
       "      <td>0.54300</td>\n",
       "      <td>0.825</td>\n",
       "      <td>218573</td>\n",
       "      <td>0.294</td>\n",
       "      <td>0</td>\n",
       "      <td>0.001300</td>\n",
       "      <td>6</td>\n",
       "      <td>0.1270</td>\n",
       "      <td>-15.083</td>\n",
       "      <td>0</td>\n",
       "      <td>0.0318</td>\n",
       "      <td>99.228</td>\n",
       "      <td>0.6700</td>\n",
       "      <td>1993</td>\n",
       "    </tr>\n",
       "  </tbody>\n",
       "</table>\n",
       "<p>52053 rows × 14 columns</p>\n",
       "</div>"
      ],
      "text/plain": [
       "       acousticness  danceability  duration_ms  energy  explicit  \\\n",
       "0           0.65400         0.499       219827   0.190         0   \n",
       "1           0.00592         0.439       483948   0.808         0   \n",
       "2           0.73400         0.523       245693   0.288         0   \n",
       "3           0.42900         0.681       130026   0.165         0   \n",
       "4           0.56200         0.543       129813   0.575         0   \n",
       "...             ...           ...          ...     ...       ...   \n",
       "52312       0.16400         0.512        56253   0.907         0   \n",
       "52313       0.77300         0.533       192838   0.659         0   \n",
       "52314       0.45600         0.548       310840   0.568         0   \n",
       "52315       0.96500         0.360       216493   0.132         0   \n",
       "52316       0.54300         0.825       218573   0.294         0   \n",
       "\n",
       "       instrumentalness  key  liveness  loudness  mode  speechiness    tempo  \\\n",
       "0              0.004090    7    0.0898   -16.435     1       0.0454  149.460   \n",
       "1              0.140000    2    0.0890    -8.497     1       0.0677  138.040   \n",
       "2              0.000000    0    0.0771   -11.506     1       0.2140   75.869   \n",
       "3              0.000000   11    0.3940   -21.457     0       0.9460  145.333   \n",
       "4              0.000004    2    0.1270    -7.374     1       0.0265  139.272   \n",
       "...                 ...  ...       ...       ...   ...          ...      ...   \n",
       "52312          0.004870    6    0.8010    -7.804     1       0.6620   85.615   \n",
       "52313          0.773000    2    0.1130    -9.117     0       0.0426  158.366   \n",
       "52314          0.000000    6    0.0892    -5.348     1       0.0275   77.495   \n",
       "52315          0.000000   10    0.1260   -21.014     1       0.0355   80.909   \n",
       "52316          0.001300    6    0.1270   -15.083     0       0.0318   99.228   \n",
       "\n",
       "       valence  year  \n",
       "0       0.4300  1971  \n",
       "1       0.0587  2015  \n",
       "2       0.4640  1968  \n",
       "3       0.2880  1926  \n",
       "4       0.8010  2008  \n",
       "...        ...   ...  \n",
       "52312   0.3150  1977  \n",
       "52313   0.6140  1965  \n",
       "52314   0.3380  2020  \n",
       "52315   0.4100  1952  \n",
       "52316   0.6700  1993  \n",
       "\n",
       "[52053 rows x 14 columns]"
      ]
     },
     "execution_count": 24,
     "metadata": {},
     "output_type": "execute_result"
    }
   ],
   "source": [
    "X_engineered"
   ]
  },
  {
   "cell_type": "markdown",
   "metadata": {},
   "source": [
    "📝 **Let's see how this impact the performance of our model.**\n",
    "- Retrain the same simple linear model on numerical values only, adding the new feature `year`\n",
    "- Save the mean cross-validated performance metric in a variable named `score_engineered` as a `float`\n",
    "- Do not fine tune the model yet"
   ]
  },
  {
   "cell_type": "code",
   "execution_count": 25,
   "metadata": {
    "ExecuteTime": {
     "end_time": "2021-04-07T15:40:53.563244Z",
     "start_time": "2021-04-07T15:40:53.077216Z"
    }
   },
   "outputs": [
    {
     "data": {
      "text/plain": [
       "-17.301966769706546"
      ]
     },
     "execution_count": 25,
     "metadata": {},
     "output_type": "execute_result"
    }
   ],
   "source": [
    "#The cross validate score is a bit better \n",
    "score_engineered = cross_val_score(model, X_engineered, y, cv=5, scoring=scoring).mean()\n",
    "score_engineered"
   ]
  },
  {
   "cell_type": "markdown",
   "metadata": {},
   "source": [
    "🧪 **Run the following cell to save your results**"
   ]
  },
  {
   "cell_type": "code",
   "execution_count": 26,
   "metadata": {
    "ExecuteTime": {
     "end_time": "2021-04-07T15:40:53.637392Z",
     "start_time": "2021-04-07T15:40:53.580406Z"
    }
   },
   "outputs": [],
   "source": [
    "from nbresult import ChallengeResult\n",
    "\n",
    "ChallengeResult(\"feature_engineering\",\n",
    "    cols = X_engineered.columns,\n",
    "    years = X_engineered.get(\"year\"),\n",
    "    score_engineered=score_engineered\n",
    ").write()"
   ]
  },
  {
   "cell_type": "markdown",
   "metadata": {},
   "source": [
    "## Pipelining\n",
    "\n",
    "Let's now look for maximum performance by creating a solid preprocessing pipeline.\n",
    "\n",
    "**📝 Create a sklearn preprocessing [pipeline](https://scikit-learn.org/stable/modules/generated/sklearn.pipeline.Pipeline.html) and store it as `preproc`**\n",
    "\n",
    "- Feel free to add any preprocessing steps you think of\n",
    "- You may want to integrate your feature engineering for `year`\n",
    "- You may also further improve it using the `ArtistPopularityTransformer` class given to you below\n",
    "- Don't add any model to it yet\n",
    "\n",
    "🚨 Advice: It is better for you to have a working pipeline (even simple one) rather than NO pipeline at all"
   ]
  },
  {
   "cell_type": "code",
   "execution_count": 27,
   "metadata": {
    "ExecuteTime": {
     "end_time": "2021-04-07T15:40:53.687808Z",
     "start_time": "2021-04-07T15:40:53.654831Z"
    }
   },
   "outputs": [],
   "source": [
    "# 👉 Do not hesitate to reload a clean new dataset if you need a fresh start.\n",
    "X = data.copy().drop(columns='popularity')\n",
    "y = data.copy().popularity"
   ]
  },
  {
   "cell_type": "code",
   "execution_count": 28,
   "metadata": {
    "ExecuteTime": {
     "end_time": "2021-04-07T15:40:53.704693Z",
     "start_time": "2021-04-07T15:40:53.692484Z"
    },
    "slideshow": {
     "slide_type": "-"
    }
   },
   "outputs": [],
   "source": [
    "# We are giving you below a custom transformer that you may want to use in your pipeline (make sure you understanding it)\n",
    "\n",
    "from sklearn.base import BaseEstimator, TransformerMixin\n",
    "\n",
    "class ArtistPopularityTransformer(BaseEstimator, TransformerMixin):\n",
    "    \"\"\"\n",
    "    Compute, as a new feature of the test set, the mean popularity of \n",
    "    all songs made by the artist on the train set.\n",
    "    \"\"\"\n",
    "\n",
    "    def __init__(self):\n",
    "        pass\n",
    "\n",
    "    def fit(self, X, y=None):\n",
    "        \"\"\"\n",
    "        process artist mean popularity from artists songs popularity\n",
    "        process song global mean popularity\n",
    "        \"\"\"\n",
    "\n",
    "        # process artist popularity\n",
    "        self.artist_popularity = y.groupby(X.artist).agg(\"mean\")\n",
    "        self.artist_popularity.name = \"artist_popularity\"\n",
    "\n",
    "        # process mean popularity\n",
    "        self.mean_popularity = y.mean()\n",
    "\n",
    "        return self\n",
    "\n",
    "    def transform(self, X, y=None):\n",
    "        \"\"\"\n",
    "        apply artist mean popularity vs song global mean popularity to songs\n",
    "        \"\"\"\n",
    "\n",
    "        # inject artist popularity\n",
    "        X_copy = X.merge(self.artist_popularity, how=\"left\", left_on=\"artist\", right_index=True)\n",
    "\n",
    "        # fills popularity of unknown artists with song global mean popularity\n",
    "        X_copy.replace(np.nan, self.mean_popularity, inplace=True)\n",
    "\n",
    "        return X_copy[[\"artist_popularity\"]]"
   ]
  },
  {
   "cell_type": "code",
   "execution_count": 29,
   "metadata": {
    "ExecuteTime": {
     "end_time": "2021-04-07T15:40:53.864840Z",
     "start_time": "2021-04-07T15:40:53.710362Z"
    }
   },
   "outputs": [
    {
     "data": {
      "text/html": [
       "<div>\n",
       "<style scoped>\n",
       "    .dataframe tbody tr th:only-of-type {\n",
       "        vertical-align: middle;\n",
       "    }\n",
       "\n",
       "    .dataframe tbody tr th {\n",
       "        vertical-align: top;\n",
       "    }\n",
       "\n",
       "    .dataframe thead th {\n",
       "        text-align: right;\n",
       "    }\n",
       "</style>\n",
       "<table border=\"1\" class=\"dataframe\">\n",
       "  <thead>\n",
       "    <tr style=\"text-align: right;\">\n",
       "      <th></th>\n",
       "      <th>acousticness</th>\n",
       "      <th>danceability</th>\n",
       "      <th>duration_ms</th>\n",
       "      <th>energy</th>\n",
       "      <th>explicit</th>\n",
       "      <th>instrumentalness</th>\n",
       "      <th>key</th>\n",
       "      <th>liveness</th>\n",
       "      <th>loudness</th>\n",
       "      <th>mode</th>\n",
       "      <th>speechiness</th>\n",
       "      <th>tempo</th>\n",
       "      <th>valence</th>\n",
       "    </tr>\n",
       "  </thead>\n",
       "  <tbody>\n",
       "    <tr>\n",
       "      <th>count</th>\n",
       "      <td>52053.000000</td>\n",
       "      <td>52053.000000</td>\n",
       "      <td>5.205300e+04</td>\n",
       "      <td>52053.000000</td>\n",
       "      <td>52053.000000</td>\n",
       "      <td>52053.000000</td>\n",
       "      <td>52053.000000</td>\n",
       "      <td>52053.000000</td>\n",
       "      <td>52053.000000</td>\n",
       "      <td>52053.000000</td>\n",
       "      <td>52053.000000</td>\n",
       "      <td>52053.000000</td>\n",
       "      <td>52053.000000</td>\n",
       "    </tr>\n",
       "    <tr>\n",
       "      <th>mean</th>\n",
       "      <td>0.498218</td>\n",
       "      <td>0.536523</td>\n",
       "      <td>2.324970e+05</td>\n",
       "      <td>0.483881</td>\n",
       "      <td>0.069698</td>\n",
       "      <td>0.195664</td>\n",
       "      <td>5.191536</td>\n",
       "      <td>0.211833</td>\n",
       "      <td>-11.745365</td>\n",
       "      <td>0.705665</td>\n",
       "      <td>0.106189</td>\n",
       "      <td>117.077248</td>\n",
       "      <td>0.524738</td>\n",
       "    </tr>\n",
       "    <tr>\n",
       "      <th>std</th>\n",
       "      <td>0.379814</td>\n",
       "      <td>0.176418</td>\n",
       "      <td>1.433212e+05</td>\n",
       "      <td>0.273028</td>\n",
       "      <td>0.254640</td>\n",
       "      <td>0.333686</td>\n",
       "      <td>3.526759</td>\n",
       "      <td>0.180351</td>\n",
       "      <td>5.696061</td>\n",
       "      <td>0.455747</td>\n",
       "      <td>0.182825</td>\n",
       "      <td>30.266286</td>\n",
       "      <td>0.263819</td>\n",
       "    </tr>\n",
       "    <tr>\n",
       "      <th>min</th>\n",
       "      <td>0.000000</td>\n",
       "      <td>0.000000</td>\n",
       "      <td>5.991000e+03</td>\n",
       "      <td>0.000000</td>\n",
       "      <td>0.000000</td>\n",
       "      <td>0.000000</td>\n",
       "      <td>0.000000</td>\n",
       "      <td>0.000000</td>\n",
       "      <td>-60.000000</td>\n",
       "      <td>0.000000</td>\n",
       "      <td>0.000000</td>\n",
       "      <td>0.000000</td>\n",
       "      <td>0.000000</td>\n",
       "    </tr>\n",
       "    <tr>\n",
       "      <th>25%</th>\n",
       "      <td>0.086700</td>\n",
       "      <td>0.413000</td>\n",
       "      <td>1.664000e+05</td>\n",
       "      <td>0.249000</td>\n",
       "      <td>0.000000</td>\n",
       "      <td>0.000000</td>\n",
       "      <td>2.000000</td>\n",
       "      <td>0.099500</td>\n",
       "      <td>-14.913000</td>\n",
       "      <td>0.000000</td>\n",
       "      <td>0.035200</td>\n",
       "      <td>94.004000</td>\n",
       "      <td>0.312000</td>\n",
       "    </tr>\n",
       "    <tr>\n",
       "      <th>50%</th>\n",
       "      <td>0.516000</td>\n",
       "      <td>0.548000</td>\n",
       "      <td>2.062130e+05</td>\n",
       "      <td>0.468000</td>\n",
       "      <td>0.000000</td>\n",
       "      <td>0.000469</td>\n",
       "      <td>5.000000</td>\n",
       "      <td>0.139000</td>\n",
       "      <td>-10.836000</td>\n",
       "      <td>1.000000</td>\n",
       "      <td>0.045700</td>\n",
       "      <td>115.939000</td>\n",
       "      <td>0.538000</td>\n",
       "    </tr>\n",
       "    <tr>\n",
       "      <th>75%</th>\n",
       "      <td>0.893000</td>\n",
       "      <td>0.669000</td>\n",
       "      <td>2.662540e+05</td>\n",
       "      <td>0.713000</td>\n",
       "      <td>0.000000</td>\n",
       "      <td>0.240000</td>\n",
       "      <td>8.000000</td>\n",
       "      <td>0.273000</td>\n",
       "      <td>-7.478000</td>\n",
       "      <td>1.000000</td>\n",
       "      <td>0.076800</td>\n",
       "      <td>135.114000</td>\n",
       "      <td>0.742000</td>\n",
       "    </tr>\n",
       "    <tr>\n",
       "      <th>max</th>\n",
       "      <td>0.996000</td>\n",
       "      <td>0.986000</td>\n",
       "      <td>4.800118e+06</td>\n",
       "      <td>1.000000</td>\n",
       "      <td>1.000000</td>\n",
       "      <td>1.000000</td>\n",
       "      <td>11.000000</td>\n",
       "      <td>0.999000</td>\n",
       "      <td>3.744000</td>\n",
       "      <td>1.000000</td>\n",
       "      <td>0.970000</td>\n",
       "      <td>243.507000</td>\n",
       "      <td>1.000000</td>\n",
       "    </tr>\n",
       "  </tbody>\n",
       "</table>\n",
       "</div>"
      ],
      "text/plain": [
       "       acousticness  danceability   duration_ms        energy      explicit  \\\n",
       "count  52053.000000  52053.000000  5.205300e+04  52053.000000  52053.000000   \n",
       "mean       0.498218      0.536523  2.324970e+05      0.483881      0.069698   \n",
       "std        0.379814      0.176418  1.433212e+05      0.273028      0.254640   \n",
       "min        0.000000      0.000000  5.991000e+03      0.000000      0.000000   \n",
       "25%        0.086700      0.413000  1.664000e+05      0.249000      0.000000   \n",
       "50%        0.516000      0.548000  2.062130e+05      0.468000      0.000000   \n",
       "75%        0.893000      0.669000  2.662540e+05      0.713000      0.000000   \n",
       "max        0.996000      0.986000  4.800118e+06      1.000000      1.000000   \n",
       "\n",
       "       instrumentalness           key      liveness      loudness  \\\n",
       "count      52053.000000  52053.000000  52053.000000  52053.000000   \n",
       "mean           0.195664      5.191536      0.211833    -11.745365   \n",
       "std            0.333686      3.526759      0.180351      5.696061   \n",
       "min            0.000000      0.000000      0.000000    -60.000000   \n",
       "25%            0.000000      2.000000      0.099500    -14.913000   \n",
       "50%            0.000469      5.000000      0.139000    -10.836000   \n",
       "75%            0.240000      8.000000      0.273000     -7.478000   \n",
       "max            1.000000     11.000000      0.999000      3.744000   \n",
       "\n",
       "               mode   speechiness         tempo       valence  \n",
       "count  52053.000000  52053.000000  52053.000000  52053.000000  \n",
       "mean       0.705665      0.106189    117.077248      0.524738  \n",
       "std        0.455747      0.182825     30.266286      0.263819  \n",
       "min        0.000000      0.000000      0.000000      0.000000  \n",
       "25%        0.000000      0.035200     94.004000      0.312000  \n",
       "50%        1.000000      0.045700    115.939000      0.538000  \n",
       "75%        1.000000      0.076800    135.114000      0.742000  \n",
       "max        1.000000      0.970000    243.507000      1.000000  "
      ]
     },
     "execution_count": 29,
     "metadata": {},
     "output_type": "execute_result"
    }
   ],
   "source": [
    "#Checking which columns need to be scaled\n",
    "X.describe()"
   ]
  },
  {
   "cell_type": "code",
   "execution_count": 30,
   "metadata": {
    "ExecuteTime": {
     "end_time": "2021-04-07T15:40:53.878035Z",
     "start_time": "2021-04-07T15:40:53.868385Z"
    }
   },
   "outputs": [
    {
     "data": {
      "text/plain": [
       "12"
      ]
     },
     "execution_count": 30,
     "metadata": {},
     "output_type": "execute_result"
    }
   ],
   "source": [
    "X.key.nunique()"
   ]
  },
  {
   "cell_type": "code",
   "execution_count": 31,
   "metadata": {
    "ExecuteTime": {
     "end_time": "2021-04-07T15:40:53.909163Z",
     "start_time": "2021-04-07T15:40:53.882616Z"
    }
   },
   "outputs": [],
   "source": [
    "#Creating the preprocessor, composed of other pipelines\n",
    "from sklearn.pipeline import Pipeline\n",
    "from sklearn.preprocessing import FunctionTransformer\n",
    "from sklearn.preprocessing import StandardScaler, MinMaxScaler, RobustScaler\n",
    "from sklearn.preprocessing import OneHotEncoder\n",
    "from sklearn.compose import ColumnTransformer\n",
    "import numpy as np\n",
    "\n",
    "year_constructor = FunctionTransformer(lambda df: pd.DataFrame\\\n",
    "                                        ([pd.to_datetime(date).year for date in df.release_date]))\n",
    "drop_some_col = FunctionTransformer(lambda df: df.drop(columns=['id','name','release_date','artist']))\n",
    "\n",
    "artist_preproc = Pipeline([\n",
    "    ('artist_popularity', ArtistPopularityTransformer()),\n",
    "    ('scaler', MinMaxScaler())\n",
    "])\n",
    "\n",
    "year_preproc = Pipeline([\n",
    "    ('year', year_constructor),\n",
    "    ('scaler', MinMaxScaler())\n",
    "])\n",
    "\n",
    "other_preproc = ColumnTransformer([\n",
    "    ('scaling', RobustScaler(), ['duration_ms','loudness','tempo']),\n",
    "    ('encoding', OneHotEncoder(sparse = False), ['key'])],\n",
    "    remainder = 'passthrough')\n",
    "\n",
    "preproc = ColumnTransformer([\n",
    "    ('artist_preproc', artist_preproc, ['artist']),\n",
    "    ('year_preproc', year_preproc, ['release_date']),\n",
    "    ('other_preproc', other_preproc, ['acousticness', 'danceability', 'duration_ms', 'energy', 'explicit',\n",
    "               'instrumentalness', 'key', 'liveness', 'loudness', 'mode','speechiness', 'tempo', 'valence'])\n",
    "])\n"
   ]
  },
  {
   "cell_type": "code",
   "execution_count": 32,
   "metadata": {
    "ExecuteTime": {
     "end_time": "2021-04-07T15:41:01.952781Z",
     "start_time": "2021-04-07T15:40:53.913375Z"
    }
   },
   "outputs": [
    {
     "data": {
      "text/plain": [
       "array([[0.36458333, 0.5049505 , 0.13633906, ..., 1.        , 0.0454    ,\n",
       "        0.43      ],\n",
       "       [0.10416667, 0.94059406, 2.78141086, ..., 1.        , 0.0677    ,\n",
       "        0.0587    ],\n",
       "       [0.35763889, 0.47524752, 0.39537725, ..., 1.        , 0.214     ,\n",
       "        0.464     ],\n",
       "       ...,\n",
       "       [0.        , 0.99009901, 1.04779979, ..., 1.        , 0.0275    ,\n",
       "        0.338     ],\n",
       "       [0.0060307 , 0.31683168, 0.10295031, ..., 1.        , 0.0355    ,\n",
       "        0.41      ],\n",
       "       [0.41354167, 0.72277228, 0.12378072, ..., 0.        , 0.0318    ,\n",
       "        0.67      ]])"
      ]
     },
     "execution_count": 32,
     "metadata": {},
     "output_type": "execute_result"
    }
   ],
   "source": [
    "#Trying the preprocessor, looks like it works\n",
    "preproc.fit_transform(X,y)"
   ]
  },
  {
   "cell_type": "code",
   "execution_count": 33,
   "metadata": {
    "ExecuteTime": {
     "end_time": "2021-04-07T15:41:10.226045Z",
     "start_time": "2021-04-07T15:41:01.956817Z"
    }
   },
   "outputs": [
    {
     "data": {
      "text/plain": [
       "(52053, 26)"
      ]
     },
     "execution_count": 33,
     "metadata": {},
     "output_type": "execute_result"
    }
   ],
   "source": [
    "import numpy as np\n",
    "\n",
    "np.shape(preproc.fit_transform(X, y))"
   ]
  },
  {
   "cell_type": "markdown",
   "metadata": {},
   "source": [
    "**📝 Store the number of columns/feature after preprocessing your inputs in a variable `col_number`**"
   ]
  },
  {
   "cell_type": "code",
   "execution_count": 34,
   "metadata": {
    "ExecuteTime": {
     "end_time": "2021-04-07T15:41:10.237427Z",
     "start_time": "2021-04-07T15:41:10.231941Z"
    }
   },
   "outputs": [],
   "source": [
    "col_number = 26"
   ]
  },
  {
   "cell_type": "markdown",
   "metadata": {},
   "source": [
    "🧪 **Run the following cells to save your results**"
   ]
  },
  {
   "cell_type": "code",
   "execution_count": 35,
   "metadata": {
    "ExecuteTime": {
     "end_time": "2021-04-07T15:41:10.413807Z",
     "start_time": "2021-04-07T15:41:10.242260Z"
    }
   },
   "outputs": [
    {
     "data": {
      "text/html": [
       "<style>div.sk-top-container {color: black;background-color: white;}div.sk-toggleable {background-color: white;}label.sk-toggleable__label {cursor: pointer;display: block;width: 100%;margin-bottom: 0;padding: 0.2em 0.3em;box-sizing: border-box;text-align: center;}div.sk-toggleable__content {max-height: 0;max-width: 0;overflow: hidden;text-align: left;background-color: #f0f8ff;}div.sk-toggleable__content pre {margin: 0.2em;color: black;border-radius: 0.25em;background-color: #f0f8ff;}input.sk-toggleable__control:checked~div.sk-toggleable__content {max-height: 200px;max-width: 100%;overflow: auto;}div.sk-estimator input.sk-toggleable__control:checked~label.sk-toggleable__label {background-color: #d4ebff;}div.sk-label input.sk-toggleable__control:checked~label.sk-toggleable__label {background-color: #d4ebff;}input.sk-hidden--visually {border: 0;clip: rect(1px 1px 1px 1px);clip: rect(1px, 1px, 1px, 1px);height: 1px;margin: -1px;overflow: hidden;padding: 0;position: absolute;width: 1px;}div.sk-estimator {font-family: monospace;background-color: #f0f8ff;margin: 0.25em 0.25em;border: 1px dotted black;border-radius: 0.25em;box-sizing: border-box;}div.sk-estimator:hover {background-color: #d4ebff;}div.sk-parallel-item::after {content: \"\";width: 100%;border-bottom: 1px solid gray;flex-grow: 1;}div.sk-label:hover label.sk-toggleable__label {background-color: #d4ebff;}div.sk-serial::before {content: \"\";position: absolute;border-left: 1px solid gray;box-sizing: border-box;top: 2em;bottom: 0;left: 50%;}div.sk-serial {display: flex;flex-direction: column;align-items: center;background-color: white;}div.sk-item {z-index: 1;}div.sk-parallel {display: flex;align-items: stretch;justify-content: center;background-color: white;}div.sk-parallel-item {display: flex;flex-direction: column;position: relative;background-color: white;}div.sk-parallel-item:first-child::after {align-self: flex-end;width: 50%;}div.sk-parallel-item:last-child::after {align-self: flex-start;width: 50%;}div.sk-parallel-item:only-child::after {width: 0;}div.sk-dashed-wrapped {border: 1px dashed gray;margin: 0.2em;box-sizing: border-box;padding-bottom: 0.1em;background-color: white;position: relative;}div.sk-label label {font-family: monospace;font-weight: bold;background-color: white;display: inline-block;line-height: 1.2em;}div.sk-label-container {position: relative;z-index: 2;text-align: center;}div.sk-container {display: inline-block;position: relative;}</style><div class=\"sk-top-container\"><div class=\"sk-container\"><div class=\"sk-item sk-dashed-wrapped\"><div class=\"sk-label-container\"><div class=\"sk-label sk-toggleable\"><input class=\"sk-toggleable__control sk-hidden--visually\" id=\"b133bc49-5da5-487c-a84b-35efa8601d0d\" type=\"checkbox\" ><label class=\"sk-toggleable__label\" for=\"b133bc49-5da5-487c-a84b-35efa8601d0d\">ColumnTransformer</label><div class=\"sk-toggleable__content\"><pre>ColumnTransformer(transformers=[('artist_preproc',\n",
       "                                 Pipeline(steps=[('artist_popularity',\n",
       "                                                  ArtistPopularityTransformer()),\n",
       "                                                 ('scaler', MinMaxScaler())]),\n",
       "                                 ['artist']),\n",
       "                                ('year_preproc',\n",
       "                                 Pipeline(steps=[('year',\n",
       "                                                  FunctionTransformer(func=<function <lambda> at 0x7fd66983d3a0>)),\n",
       "                                                 ('scaler', MinMaxScaler())]),\n",
       "                                 ['release_date']),\n",
       "                                ('other_preproc',\n",
       "                                 ColumnTransformer(remainder='passthrough',\n",
       "                                                   transformers=[('scaling',\n",
       "                                                                  RobustScaler(),\n",
       "                                                                  ['duration_ms',\n",
       "                                                                   'loudness',\n",
       "                                                                   'tempo']),\n",
       "                                                                 ('encoding',\n",
       "                                                                  OneHotEncoder(sparse=False),\n",
       "                                                                  ['key'])]),\n",
       "                                 ['acousticness', 'danceability', 'duration_ms',\n",
       "                                  'energy', 'explicit', 'instrumentalness',\n",
       "                                  'key', 'liveness', 'loudness', 'mode',\n",
       "                                  'speechiness', 'tempo', 'valence'])])</pre></div></div></div><div class=\"sk-parallel\"><div class=\"sk-parallel-item\"><div class=\"sk-item\"><div class=\"sk-label-container\"><div class=\"sk-label sk-toggleable\"><input class=\"sk-toggleable__control sk-hidden--visually\" id=\"d0c1efd7-cf0c-4e15-8453-63ef4b85e1cb\" type=\"checkbox\" ><label class=\"sk-toggleable__label\" for=\"d0c1efd7-cf0c-4e15-8453-63ef4b85e1cb\">artist_preproc</label><div class=\"sk-toggleable__content\"><pre>['artist']</pre></div></div></div><div class=\"sk-serial\"><div class=\"sk-item\"><div class=\"sk-serial\"><div class=\"sk-item\"><div class=\"sk-estimator sk-toggleable\"><input class=\"sk-toggleable__control sk-hidden--visually\" id=\"5c7332ad-4a2b-4ed7-9525-17f712014063\" type=\"checkbox\" ><label class=\"sk-toggleable__label\" for=\"5c7332ad-4a2b-4ed7-9525-17f712014063\">ArtistPopularityTransformer</label><div class=\"sk-toggleable__content\"><pre>ArtistPopularityTransformer()</pre></div></div></div><div class=\"sk-item\"><div class=\"sk-estimator sk-toggleable\"><input class=\"sk-toggleable__control sk-hidden--visually\" id=\"ded7ffca-8653-4604-9070-128af174ecb2\" type=\"checkbox\" ><label class=\"sk-toggleable__label\" for=\"ded7ffca-8653-4604-9070-128af174ecb2\">MinMaxScaler</label><div class=\"sk-toggleable__content\"><pre>MinMaxScaler()</pre></div></div></div></div></div></div></div></div><div class=\"sk-parallel-item\"><div class=\"sk-item\"><div class=\"sk-label-container\"><div class=\"sk-label sk-toggleable\"><input class=\"sk-toggleable__control sk-hidden--visually\" id=\"96b10f0d-a296-4aa9-94aa-c3f799226b7b\" type=\"checkbox\" ><label class=\"sk-toggleable__label\" for=\"96b10f0d-a296-4aa9-94aa-c3f799226b7b\">year_preproc</label><div class=\"sk-toggleable__content\"><pre>['release_date']</pre></div></div></div><div class=\"sk-serial\"><div class=\"sk-item\"><div class=\"sk-serial\"><div class=\"sk-item\"><div class=\"sk-estimator sk-toggleable\"><input class=\"sk-toggleable__control sk-hidden--visually\" id=\"c2d2c150-ad17-4e27-9031-49b916593b3e\" type=\"checkbox\" ><label class=\"sk-toggleable__label\" for=\"c2d2c150-ad17-4e27-9031-49b916593b3e\">FunctionTransformer</label><div class=\"sk-toggleable__content\"><pre>FunctionTransformer(func=<function <lambda> at 0x7fd66983d3a0>)</pre></div></div></div><div class=\"sk-item\"><div class=\"sk-estimator sk-toggleable\"><input class=\"sk-toggleable__control sk-hidden--visually\" id=\"a0084af9-b615-4356-996d-aff335be61de\" type=\"checkbox\" ><label class=\"sk-toggleable__label\" for=\"a0084af9-b615-4356-996d-aff335be61de\">MinMaxScaler</label><div class=\"sk-toggleable__content\"><pre>MinMaxScaler()</pre></div></div></div></div></div></div></div></div><div class=\"sk-parallel-item\"><div class=\"sk-item\"><div class=\"sk-label-container\"><div class=\"sk-label sk-toggleable\"><input class=\"sk-toggleable__control sk-hidden--visually\" id=\"7819a635-9c54-473a-9458-13a916791596\" type=\"checkbox\" ><label class=\"sk-toggleable__label\" for=\"7819a635-9c54-473a-9458-13a916791596\">other_preproc</label><div class=\"sk-toggleable__content\"><pre>['acousticness', 'danceability', 'duration_ms', 'energy', 'explicit', 'instrumentalness', 'key', 'liveness', 'loudness', 'mode', 'speechiness', 'tempo', 'valence']</pre></div></div></div><div class=\"sk-serial\"><div class=\"sk-item sk-dashed-wrapped\"><div class=\"sk-parallel\"><div class=\"sk-parallel-item\"><div class=\"sk-item\"><div class=\"sk-label-container\"><div class=\"sk-label sk-toggleable\"><input class=\"sk-toggleable__control sk-hidden--visually\" id=\"86051af6-a56a-4cf8-ab58-8241d2a3b7a9\" type=\"checkbox\" ><label class=\"sk-toggleable__label\" for=\"86051af6-a56a-4cf8-ab58-8241d2a3b7a9\">scaling</label><div class=\"sk-toggleable__content\"><pre>['duration_ms', 'loudness', 'tempo']</pre></div></div></div><div class=\"sk-serial\"><div class=\"sk-item\"><div class=\"sk-estimator sk-toggleable\"><input class=\"sk-toggleable__control sk-hidden--visually\" id=\"e87b1000-3a9b-4bc4-a6d9-da43ecdf1017\" type=\"checkbox\" ><label class=\"sk-toggleable__label\" for=\"e87b1000-3a9b-4bc4-a6d9-da43ecdf1017\">RobustScaler</label><div class=\"sk-toggleable__content\"><pre>RobustScaler()</pre></div></div></div></div></div></div><div class=\"sk-parallel-item\"><div class=\"sk-item\"><div class=\"sk-label-container\"><div class=\"sk-label sk-toggleable\"><input class=\"sk-toggleable__control sk-hidden--visually\" id=\"22f591f7-8ec1-46b7-9a1b-736a3b4ba4c5\" type=\"checkbox\" ><label class=\"sk-toggleable__label\" for=\"22f591f7-8ec1-46b7-9a1b-736a3b4ba4c5\">encoding</label><div class=\"sk-toggleable__content\"><pre>['key']</pre></div></div></div><div class=\"sk-serial\"><div class=\"sk-item\"><div class=\"sk-estimator sk-toggleable\"><input class=\"sk-toggleable__control sk-hidden--visually\" id=\"9df8ab50-a795-4eae-a66f-8559c56bb17d\" type=\"checkbox\" ><label class=\"sk-toggleable__label\" for=\"9df8ab50-a795-4eae-a66f-8559c56bb17d\">OneHotEncoder</label><div class=\"sk-toggleable__content\"><pre>OneHotEncoder(sparse=False)</pre></div></div></div></div></div></div></div></div></div></div></div></div></div></div></div>"
      ],
      "text/plain": [
       "ColumnTransformer(transformers=[('artist_preproc',\n",
       "                                 Pipeline(steps=[('artist_popularity',\n",
       "                                                  ArtistPopularityTransformer()),\n",
       "                                                 ('scaler', MinMaxScaler())]),\n",
       "                                 ['artist']),\n",
       "                                ('year_preproc',\n",
       "                                 Pipeline(steps=[('year',\n",
       "                                                  FunctionTransformer(func=<function <lambda> at 0x7fd66983d3a0>)),\n",
       "                                                 ('scaler', MinMaxScaler())]),\n",
       "                                 ['release_date']),\n",
       "                                ('other_preproc',\n",
       "                                 ColumnTransformer(remainder='passthrough',\n",
       "                                                   transformers=[('scaling',\n",
       "                                                                  RobustScaler(),\n",
       "                                                                  ['duration_ms',\n",
       "                                                                   'loudness',\n",
       "                                                                   'tempo']),\n",
       "                                                                 ('encoding',\n",
       "                                                                  OneHotEncoder(sparse=False),\n",
       "                                                                  ['key'])]),\n",
       "                                 ['acousticness', 'danceability', 'duration_ms',\n",
       "                                  'energy', 'explicit', 'instrumentalness',\n",
       "                                  'key', 'liveness', 'loudness', 'mode',\n",
       "                                  'speechiness', 'tempo', 'valence'])])"
      ]
     },
     "execution_count": 35,
     "metadata": {},
     "output_type": "execute_result"
    }
   ],
   "source": [
    "# Visually print your preproc\n",
    "from sklearn import set_config; set_config(display='diagram')\n",
    "preproc"
   ]
  },
  {
   "cell_type": "code",
   "execution_count": 36,
   "metadata": {
    "ExecuteTime": {
     "end_time": "2021-04-07T15:41:18.875369Z",
     "start_time": "2021-04-07T15:41:10.418426Z"
    }
   },
   "outputs": [],
   "source": [
    "# Save your preproc\n",
    "from nbresult import ChallengeResult\n",
    "\n",
    "ChallengeResult(\n",
    "    \"preprocessing\",\n",
    "    col_number=col_number,\n",
    "    first_observation = preproc.fit_transform(X, y)[0]\n",
    ").write()"
   ]
  },
  {
   "cell_type": "markdown",
   "metadata": {},
   "source": [
    "## Training\n",
    "\n",
    "📝 **Time to fine tune your models**\n",
    "\n",
    "- Add an **estimator** to your pipeline (only from Scikit-learn) \n",
    "\n",
    "- Train your pipeline and **fine-tune** (optimize) your estimator to maximize prediction score\n",
    "\n",
    "- You must try to fine tune at least 2 different models: \n",
    "    - create one pipeline with a **linear model** of your choice\n",
    "    - create one pipeline with an **ensemble model** of your choice\n",
    "\n",
    "Then, \n",
    "\n",
    "- Save your two best 5-time cross-validated scores as _float_: `score_linear` and `score_ensemble`\n",
    "\n",
    "- Save your two best trained pipelines as _Pipeline_ objects: `pipe_linear` and `pipe_ensemble`"
   ]
  },
  {
   "cell_type": "markdown",
   "metadata": {
    "slideshow": {
     "slide_type": "-"
    }
   },
   "source": [
    "### Linear"
   ]
  },
  {
   "cell_type": "code",
   "execution_count": 37,
   "metadata": {
    "ExecuteTime": {
     "end_time": "2021-04-07T15:42:00.442178Z",
     "start_time": "2021-04-07T15:41:18.878512Z"
    }
   },
   "outputs": [
    {
     "data": {
      "text/plain": [
       "-13.502779339585604"
      ]
     },
     "execution_count": 37,
     "metadata": {},
     "output_type": "execute_result"
    }
   ],
   "source": [
    "#First linear pipeline\n",
    "from sklearn.linear_model import Ridge\n",
    "pipe_linear = Pipeline([\n",
    "    ('preprocessor', preproc),\n",
    "    ('model', Ridge())\n",
    "])\n",
    "score_linear = cross_val_score(pipe_linear, X, y, cv=5, scoring=scoring).mean()\n",
    "score_linear"
   ]
  },
  {
   "cell_type": "code",
   "execution_count": 38,
   "metadata": {
    "ExecuteTime": {
     "end_time": "2021-04-07T15:42:00.686958Z",
     "start_time": "2021-04-07T15:42:00.447442Z"
    }
   },
   "outputs": [
    {
     "data": {
      "text/plain": [
       "{'memory': None,\n",
       " 'steps': [('preprocessor',\n",
       "   ColumnTransformer(transformers=[('artist_preproc',\n",
       "                                    Pipeline(steps=[('artist_popularity',\n",
       "                                                     ArtistPopularityTransformer()),\n",
       "                                                    ('scaler', MinMaxScaler())]),\n",
       "                                    ['artist']),\n",
       "                                   ('year_preproc',\n",
       "                                    Pipeline(steps=[('year',\n",
       "                                                     FunctionTransformer(func=<function <lambda> at 0x7fd66983d3a0>)),\n",
       "                                                    ('scaler', MinMaxScaler())]),\n",
       "                                    ['release_date']),\n",
       "                                   ('other_preproc',\n",
       "                                    ColumnTransformer(remainder='passthrough',\n",
       "                                                      transformers=[('scaling',\n",
       "                                                                     RobustScaler(),\n",
       "                                                                     ['duration_ms',\n",
       "                                                                      'loudness',\n",
       "                                                                      'tempo']),\n",
       "                                                                    ('encoding',\n",
       "                                                                     OneHotEncoder(sparse=False),\n",
       "                                                                     ['key'])]),\n",
       "                                    ['acousticness', 'danceability', 'duration_ms',\n",
       "                                     'energy', 'explicit', 'instrumentalness',\n",
       "                                     'key', 'liveness', 'loudness', 'mode',\n",
       "                                     'speechiness', 'tempo', 'valence'])])),\n",
       "  ('model', Ridge())],\n",
       " 'verbose': False,\n",
       " 'preprocessor': ColumnTransformer(transformers=[('artist_preproc',\n",
       "                                  Pipeline(steps=[('artist_popularity',\n",
       "                                                   ArtistPopularityTransformer()),\n",
       "                                                  ('scaler', MinMaxScaler())]),\n",
       "                                  ['artist']),\n",
       "                                 ('year_preproc',\n",
       "                                  Pipeline(steps=[('year',\n",
       "                                                   FunctionTransformer(func=<function <lambda> at 0x7fd66983d3a0>)),\n",
       "                                                  ('scaler', MinMaxScaler())]),\n",
       "                                  ['release_date']),\n",
       "                                 ('other_preproc',\n",
       "                                  ColumnTransformer(remainder='passthrough',\n",
       "                                                    transformers=[('scaling',\n",
       "                                                                   RobustScaler(),\n",
       "                                                                   ['duration_ms',\n",
       "                                                                    'loudness',\n",
       "                                                                    'tempo']),\n",
       "                                                                  ('encoding',\n",
       "                                                                   OneHotEncoder(sparse=False),\n",
       "                                                                   ['key'])]),\n",
       "                                  ['acousticness', 'danceability', 'duration_ms',\n",
       "                                   'energy', 'explicit', 'instrumentalness',\n",
       "                                   'key', 'liveness', 'loudness', 'mode',\n",
       "                                   'speechiness', 'tempo', 'valence'])]),\n",
       " 'model': Ridge(),\n",
       " 'preprocessor__n_jobs': None,\n",
       " 'preprocessor__remainder': 'drop',\n",
       " 'preprocessor__sparse_threshold': 0.3,\n",
       " 'preprocessor__transformer_weights': None,\n",
       " 'preprocessor__transformers': [('artist_preproc',\n",
       "   Pipeline(steps=[('artist_popularity', ArtistPopularityTransformer()),\n",
       "                   ('scaler', MinMaxScaler())]),\n",
       "   ['artist']),\n",
       "  ('year_preproc',\n",
       "   Pipeline(steps=[('year',\n",
       "                    FunctionTransformer(func=<function <lambda> at 0x7fd66983d3a0>)),\n",
       "                   ('scaler', MinMaxScaler())]),\n",
       "   ['release_date']),\n",
       "  ('other_preproc',\n",
       "   ColumnTransformer(remainder='passthrough',\n",
       "                     transformers=[('scaling', RobustScaler(),\n",
       "                                    ['duration_ms', 'loudness', 'tempo']),\n",
       "                                   ('encoding', OneHotEncoder(sparse=False),\n",
       "                                    ['key'])]),\n",
       "   ['acousticness',\n",
       "    'danceability',\n",
       "    'duration_ms',\n",
       "    'energy',\n",
       "    'explicit',\n",
       "    'instrumentalness',\n",
       "    'key',\n",
       "    'liveness',\n",
       "    'loudness',\n",
       "    'mode',\n",
       "    'speechiness',\n",
       "    'tempo',\n",
       "    'valence'])],\n",
       " 'preprocessor__verbose': False,\n",
       " 'preprocessor__artist_preproc': Pipeline(steps=[('artist_popularity', ArtistPopularityTransformer()),\n",
       "                 ('scaler', MinMaxScaler())]),\n",
       " 'preprocessor__year_preproc': Pipeline(steps=[('year',\n",
       "                  FunctionTransformer(func=<function <lambda> at 0x7fd66983d3a0>)),\n",
       "                 ('scaler', MinMaxScaler())]),\n",
       " 'preprocessor__other_preproc': ColumnTransformer(remainder='passthrough',\n",
       "                   transformers=[('scaling', RobustScaler(),\n",
       "                                  ['duration_ms', 'loudness', 'tempo']),\n",
       "                                 ('encoding', OneHotEncoder(sparse=False),\n",
       "                                  ['key'])]),\n",
       " 'preprocessor__artist_preproc__memory': None,\n",
       " 'preprocessor__artist_preproc__steps': [('artist_popularity',\n",
       "   ArtistPopularityTransformer()),\n",
       "  ('scaler', MinMaxScaler())],\n",
       " 'preprocessor__artist_preproc__verbose': False,\n",
       " 'preprocessor__artist_preproc__artist_popularity': ArtistPopularityTransformer(),\n",
       " 'preprocessor__artist_preproc__scaler': MinMaxScaler(),\n",
       " 'preprocessor__artist_preproc__scaler__copy': True,\n",
       " 'preprocessor__artist_preproc__scaler__feature_range': (0, 1),\n",
       " 'preprocessor__year_preproc__memory': None,\n",
       " 'preprocessor__year_preproc__steps': [('year',\n",
       "   FunctionTransformer(func=<function <lambda> at 0x7fd66983d3a0>)),\n",
       "  ('scaler', MinMaxScaler())],\n",
       " 'preprocessor__year_preproc__verbose': False,\n",
       " 'preprocessor__year_preproc__year': FunctionTransformer(func=<function <lambda> at 0x7fd66983d3a0>),\n",
       " 'preprocessor__year_preproc__scaler': MinMaxScaler(),\n",
       " 'preprocessor__year_preproc__year__accept_sparse': False,\n",
       " 'preprocessor__year_preproc__year__check_inverse': True,\n",
       " 'preprocessor__year_preproc__year__func': <function __main__.<lambda>(df)>,\n",
       " 'preprocessor__year_preproc__year__inv_kw_args': None,\n",
       " 'preprocessor__year_preproc__year__inverse_func': None,\n",
       " 'preprocessor__year_preproc__year__kw_args': None,\n",
       " 'preprocessor__year_preproc__year__validate': False,\n",
       " 'preprocessor__year_preproc__scaler__copy': True,\n",
       " 'preprocessor__year_preproc__scaler__feature_range': (0, 1),\n",
       " 'preprocessor__other_preproc__n_jobs': None,\n",
       " 'preprocessor__other_preproc__remainder': 'passthrough',\n",
       " 'preprocessor__other_preproc__sparse_threshold': 0.3,\n",
       " 'preprocessor__other_preproc__transformer_weights': None,\n",
       " 'preprocessor__other_preproc__transformers': [('scaling',\n",
       "   RobustScaler(),\n",
       "   ['duration_ms', 'loudness', 'tempo']),\n",
       "  ('encoding', OneHotEncoder(sparse=False), ['key'])],\n",
       " 'preprocessor__other_preproc__verbose': False,\n",
       " 'preprocessor__other_preproc__scaling': RobustScaler(),\n",
       " 'preprocessor__other_preproc__encoding': OneHotEncoder(sparse=False),\n",
       " 'preprocessor__other_preproc__scaling__copy': True,\n",
       " 'preprocessor__other_preproc__scaling__quantile_range': (25.0, 75.0),\n",
       " 'preprocessor__other_preproc__scaling__with_centering': True,\n",
       " 'preprocessor__other_preproc__scaling__with_scaling': True,\n",
       " 'preprocessor__other_preproc__encoding__categories': 'auto',\n",
       " 'preprocessor__other_preproc__encoding__drop': None,\n",
       " 'preprocessor__other_preproc__encoding__dtype': numpy.float64,\n",
       " 'preprocessor__other_preproc__encoding__handle_unknown': 'error',\n",
       " 'preprocessor__other_preproc__encoding__sparse': False,\n",
       " 'model__alpha': 1.0,\n",
       " 'model__copy_X': True,\n",
       " 'model__fit_intercept': True,\n",
       " 'model__max_iter': None,\n",
       " 'model__normalize': False,\n",
       " 'model__random_state': None,\n",
       " 'model__solver': 'auto',\n",
       " 'model__tol': 0.001}"
      ]
     },
     "execution_count": 38,
     "metadata": {},
     "output_type": "execute_result"
    }
   ],
   "source": [
    "pipe_linear.get_params()"
   ]
  },
  {
   "cell_type": "code",
   "execution_count": 39,
   "metadata": {
    "ExecuteTime": {
     "end_time": "2021-04-07T15:42:50.472823Z",
     "start_time": "2021-04-07T15:42:00.693110Z"
    }
   },
   "outputs": [],
   "source": [
    "#Tuning of the linear pipeline\n",
    "from sklearn.model_selection import GridSearchCV\n",
    "\n",
    "grid_search = GridSearchCV(\n",
    "    pipe_linear, \n",
    "    param_grid={\n",
    "        'model__alpha': [10]}, #[0.1, 0.5, 1, 5, 10]\n",
    "    cv=5,\n",
    "    scoring=scoring)\n",
    "grid_search.fit(X,y);"
   ]
  },
  {
   "cell_type": "code",
   "execution_count": 40,
   "metadata": {
    "ExecuteTime": {
     "end_time": "2021-04-07T15:42:50.515615Z",
     "start_time": "2021-04-07T15:42:50.476960Z"
    }
   },
   "outputs": [
    {
     "data": {
      "text/plain": [
       "({'model__alpha': 10}, -13.482773081902653)"
      ]
     },
     "execution_count": 40,
     "metadata": {},
     "output_type": "execute_result"
    }
   ],
   "source": [
    "grid_search.best_params_ , grid_search.best_score_"
   ]
  },
  {
   "cell_type": "code",
   "execution_count": 41,
   "metadata": {
    "ExecuteTime": {
     "end_time": "2021-04-07T15:42:50.575371Z",
     "start_time": "2021-04-07T15:42:50.519034Z"
    }
   },
   "outputs": [],
   "source": [
    "score_linear = grid_search.best_score_"
   ]
  },
  {
   "cell_type": "markdown",
   "metadata": {},
   "source": [
    "### Ensemble"
   ]
  },
  {
   "cell_type": "code",
   "execution_count": 42,
   "metadata": {
    "ExecuteTime": {
     "end_time": "2021-04-07T15:43:38.593578Z",
     "start_time": "2021-04-07T15:42:50.580566Z"
    }
   },
   "outputs": [
    {
     "data": {
      "text/plain": [
       "-15.37224944264815"
      ]
     },
     "execution_count": 42,
     "metadata": {},
     "output_type": "execute_result"
    }
   ],
   "source": [
    "#First ensemble pipeline\n",
    "from sklearn.tree import DecisionTreeRegressor\n",
    "pipe_ensemble = Pipeline([\n",
    "    ('preprocessor', preproc),\n",
    "    ('model', DecisionTreeRegressor())\n",
    "])\n",
    "score_ensemble = cross_val_score(pipe_ensemble, X, y, cv=5, scoring=scoring).mean()\n",
    "score_ensemble"
   ]
  },
  {
   "cell_type": "code",
   "execution_count": 43,
   "metadata": {
    "ExecuteTime": {
     "end_time": "2021-04-07T15:43:38.820804Z",
     "start_time": "2021-04-07T15:43:38.597756Z"
    }
   },
   "outputs": [
    {
     "data": {
      "text/plain": [
       "{'memory': None,\n",
       " 'steps': [('preprocessor',\n",
       "   ColumnTransformer(transformers=[('artist_preproc',\n",
       "                                    Pipeline(steps=[('artist_popularity',\n",
       "                                                     ArtistPopularityTransformer()),\n",
       "                                                    ('scaler', MinMaxScaler())]),\n",
       "                                    ['artist']),\n",
       "                                   ('year_preproc',\n",
       "                                    Pipeline(steps=[('year',\n",
       "                                                     FunctionTransformer(func=<function <lambda> at 0x7fd66983d3a0>)),\n",
       "                                                    ('scaler', MinMaxScaler())]),\n",
       "                                    ['release_date']),\n",
       "                                   ('other_preproc',\n",
       "                                    ColumnTransformer(remainder='passthrough',\n",
       "                                                      transformers=[('scaling',\n",
       "                                                                     RobustScaler(),\n",
       "                                                                     ['duration_ms',\n",
       "                                                                      'loudness',\n",
       "                                                                      'tempo']),\n",
       "                                                                    ('encoding',\n",
       "                                                                     OneHotEncoder(sparse=False),\n",
       "                                                                     ['key'])]),\n",
       "                                    ['acousticness', 'danceability', 'duration_ms',\n",
       "                                     'energy', 'explicit', 'instrumentalness',\n",
       "                                     'key', 'liveness', 'loudness', 'mode',\n",
       "                                     'speechiness', 'tempo', 'valence'])])),\n",
       "  ('model', DecisionTreeRegressor())],\n",
       " 'verbose': False,\n",
       " 'preprocessor': ColumnTransformer(transformers=[('artist_preproc',\n",
       "                                  Pipeline(steps=[('artist_popularity',\n",
       "                                                   ArtistPopularityTransformer()),\n",
       "                                                  ('scaler', MinMaxScaler())]),\n",
       "                                  ['artist']),\n",
       "                                 ('year_preproc',\n",
       "                                  Pipeline(steps=[('year',\n",
       "                                                   FunctionTransformer(func=<function <lambda> at 0x7fd66983d3a0>)),\n",
       "                                                  ('scaler', MinMaxScaler())]),\n",
       "                                  ['release_date']),\n",
       "                                 ('other_preproc',\n",
       "                                  ColumnTransformer(remainder='passthrough',\n",
       "                                                    transformers=[('scaling',\n",
       "                                                                   RobustScaler(),\n",
       "                                                                   ['duration_ms',\n",
       "                                                                    'loudness',\n",
       "                                                                    'tempo']),\n",
       "                                                                  ('encoding',\n",
       "                                                                   OneHotEncoder(sparse=False),\n",
       "                                                                   ['key'])]),\n",
       "                                  ['acousticness', 'danceability', 'duration_ms',\n",
       "                                   'energy', 'explicit', 'instrumentalness',\n",
       "                                   'key', 'liveness', 'loudness', 'mode',\n",
       "                                   'speechiness', 'tempo', 'valence'])]),\n",
       " 'model': DecisionTreeRegressor(),\n",
       " 'preprocessor__n_jobs': None,\n",
       " 'preprocessor__remainder': 'drop',\n",
       " 'preprocessor__sparse_threshold': 0.3,\n",
       " 'preprocessor__transformer_weights': None,\n",
       " 'preprocessor__transformers': [('artist_preproc',\n",
       "   Pipeline(steps=[('artist_popularity', ArtistPopularityTransformer()),\n",
       "                   ('scaler', MinMaxScaler())]),\n",
       "   ['artist']),\n",
       "  ('year_preproc',\n",
       "   Pipeline(steps=[('year',\n",
       "                    FunctionTransformer(func=<function <lambda> at 0x7fd66983d3a0>)),\n",
       "                   ('scaler', MinMaxScaler())]),\n",
       "   ['release_date']),\n",
       "  ('other_preproc',\n",
       "   ColumnTransformer(remainder='passthrough',\n",
       "                     transformers=[('scaling', RobustScaler(),\n",
       "                                    ['duration_ms', 'loudness', 'tempo']),\n",
       "                                   ('encoding', OneHotEncoder(sparse=False),\n",
       "                                    ['key'])]),\n",
       "   ['acousticness',\n",
       "    'danceability',\n",
       "    'duration_ms',\n",
       "    'energy',\n",
       "    'explicit',\n",
       "    'instrumentalness',\n",
       "    'key',\n",
       "    'liveness',\n",
       "    'loudness',\n",
       "    'mode',\n",
       "    'speechiness',\n",
       "    'tempo',\n",
       "    'valence'])],\n",
       " 'preprocessor__verbose': False,\n",
       " 'preprocessor__artist_preproc': Pipeline(steps=[('artist_popularity', ArtistPopularityTransformer()),\n",
       "                 ('scaler', MinMaxScaler())]),\n",
       " 'preprocessor__year_preproc': Pipeline(steps=[('year',\n",
       "                  FunctionTransformer(func=<function <lambda> at 0x7fd66983d3a0>)),\n",
       "                 ('scaler', MinMaxScaler())]),\n",
       " 'preprocessor__other_preproc': ColumnTransformer(remainder='passthrough',\n",
       "                   transformers=[('scaling', RobustScaler(),\n",
       "                                  ['duration_ms', 'loudness', 'tempo']),\n",
       "                                 ('encoding', OneHotEncoder(sparse=False),\n",
       "                                  ['key'])]),\n",
       " 'preprocessor__artist_preproc__memory': None,\n",
       " 'preprocessor__artist_preproc__steps': [('artist_popularity',\n",
       "   ArtistPopularityTransformer()),\n",
       "  ('scaler', MinMaxScaler())],\n",
       " 'preprocessor__artist_preproc__verbose': False,\n",
       " 'preprocessor__artist_preproc__artist_popularity': ArtistPopularityTransformer(),\n",
       " 'preprocessor__artist_preproc__scaler': MinMaxScaler(),\n",
       " 'preprocessor__artist_preproc__scaler__copy': True,\n",
       " 'preprocessor__artist_preproc__scaler__feature_range': (0, 1),\n",
       " 'preprocessor__year_preproc__memory': None,\n",
       " 'preprocessor__year_preproc__steps': [('year',\n",
       "   FunctionTransformer(func=<function <lambda> at 0x7fd66983d3a0>)),\n",
       "  ('scaler', MinMaxScaler())],\n",
       " 'preprocessor__year_preproc__verbose': False,\n",
       " 'preprocessor__year_preproc__year': FunctionTransformer(func=<function <lambda> at 0x7fd66983d3a0>),\n",
       " 'preprocessor__year_preproc__scaler': MinMaxScaler(),\n",
       " 'preprocessor__year_preproc__year__accept_sparse': False,\n",
       " 'preprocessor__year_preproc__year__check_inverse': True,\n",
       " 'preprocessor__year_preproc__year__func': <function __main__.<lambda>(df)>,\n",
       " 'preprocessor__year_preproc__year__inv_kw_args': None,\n",
       " 'preprocessor__year_preproc__year__inverse_func': None,\n",
       " 'preprocessor__year_preproc__year__kw_args': None,\n",
       " 'preprocessor__year_preproc__year__validate': False,\n",
       " 'preprocessor__year_preproc__scaler__copy': True,\n",
       " 'preprocessor__year_preproc__scaler__feature_range': (0, 1),\n",
       " 'preprocessor__other_preproc__n_jobs': None,\n",
       " 'preprocessor__other_preproc__remainder': 'passthrough',\n",
       " 'preprocessor__other_preproc__sparse_threshold': 0.3,\n",
       " 'preprocessor__other_preproc__transformer_weights': None,\n",
       " 'preprocessor__other_preproc__transformers': [('scaling',\n",
       "   RobustScaler(),\n",
       "   ['duration_ms', 'loudness', 'tempo']),\n",
       "  ('encoding', OneHotEncoder(sparse=False), ['key'])],\n",
       " 'preprocessor__other_preproc__verbose': False,\n",
       " 'preprocessor__other_preproc__scaling': RobustScaler(),\n",
       " 'preprocessor__other_preproc__encoding': OneHotEncoder(sparse=False),\n",
       " 'preprocessor__other_preproc__scaling__copy': True,\n",
       " 'preprocessor__other_preproc__scaling__quantile_range': (25.0, 75.0),\n",
       " 'preprocessor__other_preproc__scaling__with_centering': True,\n",
       " 'preprocessor__other_preproc__scaling__with_scaling': True,\n",
       " 'preprocessor__other_preproc__encoding__categories': 'auto',\n",
       " 'preprocessor__other_preproc__encoding__drop': None,\n",
       " 'preprocessor__other_preproc__encoding__dtype': numpy.float64,\n",
       " 'preprocessor__other_preproc__encoding__handle_unknown': 'error',\n",
       " 'preprocessor__other_preproc__encoding__sparse': False,\n",
       " 'model__ccp_alpha': 0.0,\n",
       " 'model__criterion': 'mse',\n",
       " 'model__max_depth': None,\n",
       " 'model__max_features': None,\n",
       " 'model__max_leaf_nodes': None,\n",
       " 'model__min_impurity_decrease': 0.0,\n",
       " 'model__min_impurity_split': None,\n",
       " 'model__min_samples_leaf': 1,\n",
       " 'model__min_samples_split': 2,\n",
       " 'model__min_weight_fraction_leaf': 0.0,\n",
       " 'model__presort': 'deprecated',\n",
       " 'model__random_state': None,\n",
       " 'model__splitter': 'best'}"
      ]
     },
     "execution_count": 43,
     "metadata": {},
     "output_type": "execute_result"
    }
   ],
   "source": [
    "pipe_ensemble.get_params()"
   ]
  },
  {
   "cell_type": "code",
   "execution_count": 44,
   "metadata": {
    "ExecuteTime": {
     "end_time": "2021-04-07T15:44:30.313594Z",
     "start_time": "2021-04-07T15:43:38.828991Z"
    }
   },
   "outputs": [
    {
     "data": {
      "text/plain": [
       "({'model__max_depth': 8, 'model__min_samples_split': 20}, -12.525828377662558)"
      ]
     },
     "execution_count": 44,
     "metadata": {},
     "output_type": "execute_result"
    }
   ],
   "source": [
    "#Tuning of the ensemble pipeline\n",
    "grid_search2 = GridSearchCV(\n",
    "    pipe_ensemble, \n",
    "    param_grid={\n",
    "        'model__min_samples_split': [20], #[1,2,10]\n",
    "        'model__max_depth': [8]},#[4,8,16] [6, 8, 10]\n",
    "    cv=5,\n",
    "    scoring=scoring)\n",
    "grid_search2.fit(X,y);\n",
    "grid_search2.best_params_ , grid_search2.best_score_"
   ]
  },
  {
   "cell_type": "code",
   "execution_count": 45,
   "metadata": {
    "ExecuteTime": {
     "end_time": "2021-04-07T15:44:30.323564Z",
     "start_time": "2021-04-07T15:44:30.317936Z"
    }
   },
   "outputs": [],
   "source": [
    "score_ensemble = grid_search2.best_score_"
   ]
  },
  {
   "cell_type": "markdown",
   "metadata": {},
   "source": [
    "🧪 **Run the following cells to save your results**"
   ]
  },
  {
   "cell_type": "code",
   "execution_count": 46,
   "metadata": {
    "ExecuteTime": {
     "end_time": "2021-04-07T15:44:31.079822Z",
     "start_time": "2021-04-07T15:44:30.328615Z"
    }
   },
   "outputs": [
    {
     "data": {
      "text/html": [
       "<style>div.sk-top-container {color: black;background-color: white;}div.sk-toggleable {background-color: white;}label.sk-toggleable__label {cursor: pointer;display: block;width: 100%;margin-bottom: 0;padding: 0.2em 0.3em;box-sizing: border-box;text-align: center;}div.sk-toggleable__content {max-height: 0;max-width: 0;overflow: hidden;text-align: left;background-color: #f0f8ff;}div.sk-toggleable__content pre {margin: 0.2em;color: black;border-radius: 0.25em;background-color: #f0f8ff;}input.sk-toggleable__control:checked~div.sk-toggleable__content {max-height: 200px;max-width: 100%;overflow: auto;}div.sk-estimator input.sk-toggleable__control:checked~label.sk-toggleable__label {background-color: #d4ebff;}div.sk-label input.sk-toggleable__control:checked~label.sk-toggleable__label {background-color: #d4ebff;}input.sk-hidden--visually {border: 0;clip: rect(1px 1px 1px 1px);clip: rect(1px, 1px, 1px, 1px);height: 1px;margin: -1px;overflow: hidden;padding: 0;position: absolute;width: 1px;}div.sk-estimator {font-family: monospace;background-color: #f0f8ff;margin: 0.25em 0.25em;border: 1px dotted black;border-radius: 0.25em;box-sizing: border-box;}div.sk-estimator:hover {background-color: #d4ebff;}div.sk-parallel-item::after {content: \"\";width: 100%;border-bottom: 1px solid gray;flex-grow: 1;}div.sk-label:hover label.sk-toggleable__label {background-color: #d4ebff;}div.sk-serial::before {content: \"\";position: absolute;border-left: 1px solid gray;box-sizing: border-box;top: 2em;bottom: 0;left: 50%;}div.sk-serial {display: flex;flex-direction: column;align-items: center;background-color: white;}div.sk-item {z-index: 1;}div.sk-parallel {display: flex;align-items: stretch;justify-content: center;background-color: white;}div.sk-parallel-item {display: flex;flex-direction: column;position: relative;background-color: white;}div.sk-parallel-item:first-child::after {align-self: flex-end;width: 50%;}div.sk-parallel-item:last-child::after {align-self: flex-start;width: 50%;}div.sk-parallel-item:only-child::after {width: 0;}div.sk-dashed-wrapped {border: 1px dashed gray;margin: 0.2em;box-sizing: border-box;padding-bottom: 0.1em;background-color: white;position: relative;}div.sk-label label {font-family: monospace;font-weight: bold;background-color: white;display: inline-block;line-height: 1.2em;}div.sk-label-container {position: relative;z-index: 2;text-align: center;}div.sk-container {display: inline-block;position: relative;}</style><div class=\"sk-top-container\"><div class=\"sk-container\"><div class=\"sk-item sk-dashed-wrapped\"><div class=\"sk-label-container\"><div class=\"sk-label sk-toggleable\"><input class=\"sk-toggleable__control sk-hidden--visually\" id=\"43a16d33-d28a-41ab-b639-b3a316cb1b46\" type=\"checkbox\" ><label class=\"sk-toggleable__label\" for=\"43a16d33-d28a-41ab-b639-b3a316cb1b46\">Pipeline</label><div class=\"sk-toggleable__content\"><pre>Pipeline(steps=[('preprocessor',\n",
       "                 ColumnTransformer(transformers=[('artist_preproc',\n",
       "                                                  Pipeline(steps=[('artist_popularity',\n",
       "                                                                   ArtistPopularityTransformer()),\n",
       "                                                                  ('scaler',\n",
       "                                                                   MinMaxScaler())]),\n",
       "                                                  ['artist']),\n",
       "                                                 ('year_preproc',\n",
       "                                                  Pipeline(steps=[('year',\n",
       "                                                                   FunctionTransformer(func=<function <lambda> at 0x7fd66983d3a0>)),\n",
       "                                                                  ('scaler',\n",
       "                                                                   MinMaxScaler())]),\n",
       "                                                  ['release_date']),\n",
       "                                                 ('other_preproc',\n",
       "                                                  ColumnTransformer(remainder='passthrough',\n",
       "                                                                    transformers=[('scaling',\n",
       "                                                                                   RobustScaler(),\n",
       "                                                                                   ['duration_ms',\n",
       "                                                                                    'loudness',\n",
       "                                                                                    'tempo']),\n",
       "                                                                                  ('encoding',\n",
       "                                                                                   OneHotEncoder(sparse=False),\n",
       "                                                                                   ['key'])]),\n",
       "                                                  ['acousticness',\n",
       "                                                   'danceability',\n",
       "                                                   'duration_ms', 'energy',\n",
       "                                                   'explicit',\n",
       "                                                   'instrumentalness', 'key',\n",
       "                                                   'liveness', 'loudness',\n",
       "                                                   'mode', 'speechiness',\n",
       "                                                   'tempo', 'valence'])])),\n",
       "                ('model', Ridge())])</pre></div></div></div><div class=\"sk-serial\"><div class=\"sk-item sk-dashed-wrapped\"><div class=\"sk-label-container\"><div class=\"sk-label sk-toggleable\"><input class=\"sk-toggleable__control sk-hidden--visually\" id=\"63d9cf48-abfd-4cfc-baef-c5adf7a59803\" type=\"checkbox\" ><label class=\"sk-toggleable__label\" for=\"63d9cf48-abfd-4cfc-baef-c5adf7a59803\">preprocessor: ColumnTransformer</label><div class=\"sk-toggleable__content\"><pre>ColumnTransformer(transformers=[('artist_preproc',\n",
       "                                 Pipeline(steps=[('artist_popularity',\n",
       "                                                  ArtistPopularityTransformer()),\n",
       "                                                 ('scaler', MinMaxScaler())]),\n",
       "                                 ['artist']),\n",
       "                                ('year_preproc',\n",
       "                                 Pipeline(steps=[('year',\n",
       "                                                  FunctionTransformer(func=<function <lambda> at 0x7fd66983d3a0>)),\n",
       "                                                 ('scaler', MinMaxScaler())]),\n",
       "                                 ['release_date']),\n",
       "                                ('other_preproc',\n",
       "                                 ColumnTransformer(remainder='passthrough',\n",
       "                                                   transformers=[('scaling',\n",
       "                                                                  RobustScaler(),\n",
       "                                                                  ['duration_ms',\n",
       "                                                                   'loudness',\n",
       "                                                                   'tempo']),\n",
       "                                                                 ('encoding',\n",
       "                                                                  OneHotEncoder(sparse=False),\n",
       "                                                                  ['key'])]),\n",
       "                                 ['acousticness', 'danceability', 'duration_ms',\n",
       "                                  'energy', 'explicit', 'instrumentalness',\n",
       "                                  'key', 'liveness', 'loudness', 'mode',\n",
       "                                  'speechiness', 'tempo', 'valence'])])</pre></div></div></div><div class=\"sk-parallel\"><div class=\"sk-parallel-item\"><div class=\"sk-item\"><div class=\"sk-label-container\"><div class=\"sk-label sk-toggleable\"><input class=\"sk-toggleable__control sk-hidden--visually\" id=\"a2f0b95a-f022-474d-bd04-f4f87bd75878\" type=\"checkbox\" ><label class=\"sk-toggleable__label\" for=\"a2f0b95a-f022-474d-bd04-f4f87bd75878\">artist_preproc</label><div class=\"sk-toggleable__content\"><pre>['artist']</pre></div></div></div><div class=\"sk-serial\"><div class=\"sk-item\"><div class=\"sk-serial\"><div class=\"sk-item\"><div class=\"sk-estimator sk-toggleable\"><input class=\"sk-toggleable__control sk-hidden--visually\" id=\"94bd6804-d783-45a3-8fba-43a2fc50cfec\" type=\"checkbox\" ><label class=\"sk-toggleable__label\" for=\"94bd6804-d783-45a3-8fba-43a2fc50cfec\">ArtistPopularityTransformer</label><div class=\"sk-toggleable__content\"><pre>ArtistPopularityTransformer()</pre></div></div></div><div class=\"sk-item\"><div class=\"sk-estimator sk-toggleable\"><input class=\"sk-toggleable__control sk-hidden--visually\" id=\"63d80710-9261-477f-a97c-f5c400551e8f\" type=\"checkbox\" ><label class=\"sk-toggleable__label\" for=\"63d80710-9261-477f-a97c-f5c400551e8f\">MinMaxScaler</label><div class=\"sk-toggleable__content\"><pre>MinMaxScaler()</pre></div></div></div></div></div></div></div></div><div class=\"sk-parallel-item\"><div class=\"sk-item\"><div class=\"sk-label-container\"><div class=\"sk-label sk-toggleable\"><input class=\"sk-toggleable__control sk-hidden--visually\" id=\"6605ebf9-cd43-4ce8-8eff-9d3a584b4df7\" type=\"checkbox\" ><label class=\"sk-toggleable__label\" for=\"6605ebf9-cd43-4ce8-8eff-9d3a584b4df7\">year_preproc</label><div class=\"sk-toggleable__content\"><pre>['release_date']</pre></div></div></div><div class=\"sk-serial\"><div class=\"sk-item\"><div class=\"sk-serial\"><div class=\"sk-item\"><div class=\"sk-estimator sk-toggleable\"><input class=\"sk-toggleable__control sk-hidden--visually\" id=\"fd3bdbe9-658e-4d17-9226-4a3b530fc602\" type=\"checkbox\" ><label class=\"sk-toggleable__label\" for=\"fd3bdbe9-658e-4d17-9226-4a3b530fc602\">FunctionTransformer</label><div class=\"sk-toggleable__content\"><pre>FunctionTransformer(func=<function <lambda> at 0x7fd66983d3a0>)</pre></div></div></div><div class=\"sk-item\"><div class=\"sk-estimator sk-toggleable\"><input class=\"sk-toggleable__control sk-hidden--visually\" id=\"eddaa05d-eaad-463c-b238-c8043ade18f7\" type=\"checkbox\" ><label class=\"sk-toggleable__label\" for=\"eddaa05d-eaad-463c-b238-c8043ade18f7\">MinMaxScaler</label><div class=\"sk-toggleable__content\"><pre>MinMaxScaler()</pre></div></div></div></div></div></div></div></div><div class=\"sk-parallel-item\"><div class=\"sk-item\"><div class=\"sk-label-container\"><div class=\"sk-label sk-toggleable\"><input class=\"sk-toggleable__control sk-hidden--visually\" id=\"0a70b3ec-a316-4886-9c45-7bc7c63342d9\" type=\"checkbox\" ><label class=\"sk-toggleable__label\" for=\"0a70b3ec-a316-4886-9c45-7bc7c63342d9\">other_preproc</label><div class=\"sk-toggleable__content\"><pre>['acousticness', 'danceability', 'duration_ms', 'energy', 'explicit', 'instrumentalness', 'key', 'liveness', 'loudness', 'mode', 'speechiness', 'tempo', 'valence']</pre></div></div></div><div class=\"sk-serial\"><div class=\"sk-item sk-dashed-wrapped\"><div class=\"sk-parallel\"><div class=\"sk-parallel-item\"><div class=\"sk-item\"><div class=\"sk-label-container\"><div class=\"sk-label sk-toggleable\"><input class=\"sk-toggleable__control sk-hidden--visually\" id=\"1c18854d-fb1a-4dfa-b795-632455e7c3d9\" type=\"checkbox\" ><label class=\"sk-toggleable__label\" for=\"1c18854d-fb1a-4dfa-b795-632455e7c3d9\">scaling</label><div class=\"sk-toggleable__content\"><pre>['duration_ms', 'loudness', 'tempo']</pre></div></div></div><div class=\"sk-serial\"><div class=\"sk-item\"><div class=\"sk-estimator sk-toggleable\"><input class=\"sk-toggleable__control sk-hidden--visually\" id=\"bcdf6e95-b91d-458c-9328-6669e6fc06db\" type=\"checkbox\" ><label class=\"sk-toggleable__label\" for=\"bcdf6e95-b91d-458c-9328-6669e6fc06db\">RobustScaler</label><div class=\"sk-toggleable__content\"><pre>RobustScaler()</pre></div></div></div></div></div></div><div class=\"sk-parallel-item\"><div class=\"sk-item\"><div class=\"sk-label-container\"><div class=\"sk-label sk-toggleable\"><input class=\"sk-toggleable__control sk-hidden--visually\" id=\"0fb9b47c-fd0d-4c48-9387-6be75626fe4a\" type=\"checkbox\" ><label class=\"sk-toggleable__label\" for=\"0fb9b47c-fd0d-4c48-9387-6be75626fe4a\">encoding</label><div class=\"sk-toggleable__content\"><pre>['key']</pre></div></div></div><div class=\"sk-serial\"><div class=\"sk-item\"><div class=\"sk-estimator sk-toggleable\"><input class=\"sk-toggleable__control sk-hidden--visually\" id=\"80f1de32-e5cd-4fbf-9195-00eb1c6c9cd3\" type=\"checkbox\" ><label class=\"sk-toggleable__label\" for=\"80f1de32-e5cd-4fbf-9195-00eb1c6c9cd3\">OneHotEncoder</label><div class=\"sk-toggleable__content\"><pre>OneHotEncoder(sparse=False)</pre></div></div></div></div></div></div></div></div></div></div></div></div></div><div class=\"sk-item\"><div class=\"sk-estimator sk-toggleable\"><input class=\"sk-toggleable__control sk-hidden--visually\" id=\"41115951-86f3-4443-b3b7-d4d8e6ae8324\" type=\"checkbox\" ><label class=\"sk-toggleable__label\" for=\"41115951-86f3-4443-b3b7-d4d8e6ae8324\">Ridge</label><div class=\"sk-toggleable__content\"><pre>Ridge()</pre></div></div></div></div></div></div></div>"
      ],
      "text/plain": [
       "Pipeline(steps=[('preprocessor',\n",
       "                 ColumnTransformer(transformers=[('artist_preproc',\n",
       "                                                  Pipeline(steps=[('artist_popularity',\n",
       "                                                                   ArtistPopularityTransformer()),\n",
       "                                                                  ('scaler',\n",
       "                                                                   MinMaxScaler())]),\n",
       "                                                  ['artist']),\n",
       "                                                 ('year_preproc',\n",
       "                                                  Pipeline(steps=[('year',\n",
       "                                                                   FunctionTransformer(func=<function <lambda> at 0x7fd66983d3a0>)),\n",
       "                                                                  ('scaler',\n",
       "                                                                   MinMaxScaler())]),\n",
       "                                                  ['release_date']),\n",
       "                                                 ('other_preproc',\n",
       "                                                  ColumnTransformer(remainder='passthrough',\n",
       "                                                                    transformers=[('scaling',\n",
       "                                                                                   RobustScaler(),\n",
       "                                                                                   ['duration_ms',\n",
       "                                                                                    'loudness',\n",
       "                                                                                    'tempo']),\n",
       "                                                                                  ('encoding',\n",
       "                                                                                   OneHotEncoder(sparse=False),\n",
       "                                                                                   ['key'])]),\n",
       "                                                  ['acousticness',\n",
       "                                                   'danceability',\n",
       "                                                   'duration_ms', 'energy',\n",
       "                                                   'explicit',\n",
       "                                                   'instrumentalness', 'key',\n",
       "                                                   'liveness', 'loudness',\n",
       "                                                   'mode', 'speechiness',\n",
       "                                                   'tempo', 'valence'])])),\n",
       "                ('model', Ridge())])"
      ]
     },
     "execution_count": 46,
     "metadata": {},
     "output_type": "execute_result"
    }
   ],
   "source": [
    "# Print below your best pipe for correction purpose\n",
    "from sklearn import set_config; set_config(display='diagram')\n",
    "pipe_linear"
   ]
  },
  {
   "cell_type": "code",
   "execution_count": 47,
   "metadata": {
    "ExecuteTime": {
     "end_time": "2021-04-07T15:44:31.890780Z",
     "start_time": "2021-04-07T15:44:31.084846Z"
    }
   },
   "outputs": [
    {
     "data": {
      "text/html": [
       "<style>div.sk-top-container {color: black;background-color: white;}div.sk-toggleable {background-color: white;}label.sk-toggleable__label {cursor: pointer;display: block;width: 100%;margin-bottom: 0;padding: 0.2em 0.3em;box-sizing: border-box;text-align: center;}div.sk-toggleable__content {max-height: 0;max-width: 0;overflow: hidden;text-align: left;background-color: #f0f8ff;}div.sk-toggleable__content pre {margin: 0.2em;color: black;border-radius: 0.25em;background-color: #f0f8ff;}input.sk-toggleable__control:checked~div.sk-toggleable__content {max-height: 200px;max-width: 100%;overflow: auto;}div.sk-estimator input.sk-toggleable__control:checked~label.sk-toggleable__label {background-color: #d4ebff;}div.sk-label input.sk-toggleable__control:checked~label.sk-toggleable__label {background-color: #d4ebff;}input.sk-hidden--visually {border: 0;clip: rect(1px 1px 1px 1px);clip: rect(1px, 1px, 1px, 1px);height: 1px;margin: -1px;overflow: hidden;padding: 0;position: absolute;width: 1px;}div.sk-estimator {font-family: monospace;background-color: #f0f8ff;margin: 0.25em 0.25em;border: 1px dotted black;border-radius: 0.25em;box-sizing: border-box;}div.sk-estimator:hover {background-color: #d4ebff;}div.sk-parallel-item::after {content: \"\";width: 100%;border-bottom: 1px solid gray;flex-grow: 1;}div.sk-label:hover label.sk-toggleable__label {background-color: #d4ebff;}div.sk-serial::before {content: \"\";position: absolute;border-left: 1px solid gray;box-sizing: border-box;top: 2em;bottom: 0;left: 50%;}div.sk-serial {display: flex;flex-direction: column;align-items: center;background-color: white;}div.sk-item {z-index: 1;}div.sk-parallel {display: flex;align-items: stretch;justify-content: center;background-color: white;}div.sk-parallel-item {display: flex;flex-direction: column;position: relative;background-color: white;}div.sk-parallel-item:first-child::after {align-self: flex-end;width: 50%;}div.sk-parallel-item:last-child::after {align-self: flex-start;width: 50%;}div.sk-parallel-item:only-child::after {width: 0;}div.sk-dashed-wrapped {border: 1px dashed gray;margin: 0.2em;box-sizing: border-box;padding-bottom: 0.1em;background-color: white;position: relative;}div.sk-label label {font-family: monospace;font-weight: bold;background-color: white;display: inline-block;line-height: 1.2em;}div.sk-label-container {position: relative;z-index: 2;text-align: center;}div.sk-container {display: inline-block;position: relative;}</style><div class=\"sk-top-container\"><div class=\"sk-container\"><div class=\"sk-item sk-dashed-wrapped\"><div class=\"sk-label-container\"><div class=\"sk-label sk-toggleable\"><input class=\"sk-toggleable__control sk-hidden--visually\" id=\"99c8d824-5bff-46fc-b2d0-9f065d23ab0d\" type=\"checkbox\" ><label class=\"sk-toggleable__label\" for=\"99c8d824-5bff-46fc-b2d0-9f065d23ab0d\">Pipeline</label><div class=\"sk-toggleable__content\"><pre>Pipeline(steps=[('preprocessor',\n",
       "                 ColumnTransformer(transformers=[('artist_preproc',\n",
       "                                                  Pipeline(steps=[('artist_popularity',\n",
       "                                                                   ArtistPopularityTransformer()),\n",
       "                                                                  ('scaler',\n",
       "                                                                   MinMaxScaler())]),\n",
       "                                                  ['artist']),\n",
       "                                                 ('year_preproc',\n",
       "                                                  Pipeline(steps=[('year',\n",
       "                                                                   FunctionTransformer(func=<function <lambda> at 0x7fd66983d3a0>)),\n",
       "                                                                  ('scaler',\n",
       "                                                                   MinMaxScaler())]),\n",
       "                                                  ['release_date']),\n",
       "                                                 ('other_prep...\n",
       "                                                  ColumnTransformer(remainder='passthrough',\n",
       "                                                                    transformers=[('scaling',\n",
       "                                                                                   RobustScaler(),\n",
       "                                                                                   ['duration_ms',\n",
       "                                                                                    'loudness',\n",
       "                                                                                    'tempo']),\n",
       "                                                                                  ('encoding',\n",
       "                                                                                   OneHotEncoder(sparse=False),\n",
       "                                                                                   ['key'])]),\n",
       "                                                  ['acousticness',\n",
       "                                                   'danceability',\n",
       "                                                   'duration_ms', 'energy',\n",
       "                                                   'explicit',\n",
       "                                                   'instrumentalness', 'key',\n",
       "                                                   'liveness', 'loudness',\n",
       "                                                   'mode', 'speechiness',\n",
       "                                                   'tempo', 'valence'])])),\n",
       "                ('model', DecisionTreeRegressor())])</pre></div></div></div><div class=\"sk-serial\"><div class=\"sk-item sk-dashed-wrapped\"><div class=\"sk-label-container\"><div class=\"sk-label sk-toggleable\"><input class=\"sk-toggleable__control sk-hidden--visually\" id=\"9ab38092-4d6e-4d16-aac5-a7bf2359f38c\" type=\"checkbox\" ><label class=\"sk-toggleable__label\" for=\"9ab38092-4d6e-4d16-aac5-a7bf2359f38c\">preprocessor: ColumnTransformer</label><div class=\"sk-toggleable__content\"><pre>ColumnTransformer(transformers=[('artist_preproc',\n",
       "                                 Pipeline(steps=[('artist_popularity',\n",
       "                                                  ArtistPopularityTransformer()),\n",
       "                                                 ('scaler', MinMaxScaler())]),\n",
       "                                 ['artist']),\n",
       "                                ('year_preproc',\n",
       "                                 Pipeline(steps=[('year',\n",
       "                                                  FunctionTransformer(func=<function <lambda> at 0x7fd66983d3a0>)),\n",
       "                                                 ('scaler', MinMaxScaler())]),\n",
       "                                 ['release_date']),\n",
       "                                ('other_preproc',\n",
       "                                 ColumnTransformer(remainder='passthrough',\n",
       "                                                   transformers=[('scaling',\n",
       "                                                                  RobustScaler(),\n",
       "                                                                  ['duration_ms',\n",
       "                                                                   'loudness',\n",
       "                                                                   'tempo']),\n",
       "                                                                 ('encoding',\n",
       "                                                                  OneHotEncoder(sparse=False),\n",
       "                                                                  ['key'])]),\n",
       "                                 ['acousticness', 'danceability', 'duration_ms',\n",
       "                                  'energy', 'explicit', 'instrumentalness',\n",
       "                                  'key', 'liveness', 'loudness', 'mode',\n",
       "                                  'speechiness', 'tempo', 'valence'])])</pre></div></div></div><div class=\"sk-parallel\"><div class=\"sk-parallel-item\"><div class=\"sk-item\"><div class=\"sk-label-container\"><div class=\"sk-label sk-toggleable\"><input class=\"sk-toggleable__control sk-hidden--visually\" id=\"0881cd77-0e52-4371-b8cd-d147f17fc980\" type=\"checkbox\" ><label class=\"sk-toggleable__label\" for=\"0881cd77-0e52-4371-b8cd-d147f17fc980\">artist_preproc</label><div class=\"sk-toggleable__content\"><pre>['artist']</pre></div></div></div><div class=\"sk-serial\"><div class=\"sk-item\"><div class=\"sk-serial\"><div class=\"sk-item\"><div class=\"sk-estimator sk-toggleable\"><input class=\"sk-toggleable__control sk-hidden--visually\" id=\"7f3e816b-7794-43fa-8906-97dd75e1b1bf\" type=\"checkbox\" ><label class=\"sk-toggleable__label\" for=\"7f3e816b-7794-43fa-8906-97dd75e1b1bf\">ArtistPopularityTransformer</label><div class=\"sk-toggleable__content\"><pre>ArtistPopularityTransformer()</pre></div></div></div><div class=\"sk-item\"><div class=\"sk-estimator sk-toggleable\"><input class=\"sk-toggleable__control sk-hidden--visually\" id=\"41861eae-fe6a-480a-b87f-561f261b2c4b\" type=\"checkbox\" ><label class=\"sk-toggleable__label\" for=\"41861eae-fe6a-480a-b87f-561f261b2c4b\">MinMaxScaler</label><div class=\"sk-toggleable__content\"><pre>MinMaxScaler()</pre></div></div></div></div></div></div></div></div><div class=\"sk-parallel-item\"><div class=\"sk-item\"><div class=\"sk-label-container\"><div class=\"sk-label sk-toggleable\"><input class=\"sk-toggleable__control sk-hidden--visually\" id=\"cac08a00-c69c-4743-939a-649f1ed11de2\" type=\"checkbox\" ><label class=\"sk-toggleable__label\" for=\"cac08a00-c69c-4743-939a-649f1ed11de2\">year_preproc</label><div class=\"sk-toggleable__content\"><pre>['release_date']</pre></div></div></div><div class=\"sk-serial\"><div class=\"sk-item\"><div class=\"sk-serial\"><div class=\"sk-item\"><div class=\"sk-estimator sk-toggleable\"><input class=\"sk-toggleable__control sk-hidden--visually\" id=\"cf0c0db1-b479-4064-9102-af08530afd4a\" type=\"checkbox\" ><label class=\"sk-toggleable__label\" for=\"cf0c0db1-b479-4064-9102-af08530afd4a\">FunctionTransformer</label><div class=\"sk-toggleable__content\"><pre>FunctionTransformer(func=<function <lambda> at 0x7fd66983d3a0>)</pre></div></div></div><div class=\"sk-item\"><div class=\"sk-estimator sk-toggleable\"><input class=\"sk-toggleable__control sk-hidden--visually\" id=\"1079c813-b783-47ef-9c8d-dfb743e79b62\" type=\"checkbox\" ><label class=\"sk-toggleable__label\" for=\"1079c813-b783-47ef-9c8d-dfb743e79b62\">MinMaxScaler</label><div class=\"sk-toggleable__content\"><pre>MinMaxScaler()</pre></div></div></div></div></div></div></div></div><div class=\"sk-parallel-item\"><div class=\"sk-item\"><div class=\"sk-label-container\"><div class=\"sk-label sk-toggleable\"><input class=\"sk-toggleable__control sk-hidden--visually\" id=\"63977903-0940-4453-adf3-268d0169f7d9\" type=\"checkbox\" ><label class=\"sk-toggleable__label\" for=\"63977903-0940-4453-adf3-268d0169f7d9\">other_preproc</label><div class=\"sk-toggleable__content\"><pre>['acousticness', 'danceability', 'duration_ms', 'energy', 'explicit', 'instrumentalness', 'key', 'liveness', 'loudness', 'mode', 'speechiness', 'tempo', 'valence']</pre></div></div></div><div class=\"sk-serial\"><div class=\"sk-item sk-dashed-wrapped\"><div class=\"sk-parallel\"><div class=\"sk-parallel-item\"><div class=\"sk-item\"><div class=\"sk-label-container\"><div class=\"sk-label sk-toggleable\"><input class=\"sk-toggleable__control sk-hidden--visually\" id=\"cdb673c2-270d-4b96-be71-3c6a8d570f87\" type=\"checkbox\" ><label class=\"sk-toggleable__label\" for=\"cdb673c2-270d-4b96-be71-3c6a8d570f87\">scaling</label><div class=\"sk-toggleable__content\"><pre>['duration_ms', 'loudness', 'tempo']</pre></div></div></div><div class=\"sk-serial\"><div class=\"sk-item\"><div class=\"sk-estimator sk-toggleable\"><input class=\"sk-toggleable__control sk-hidden--visually\" id=\"b4ce8b45-fbb5-40be-addd-855d037c56a5\" type=\"checkbox\" ><label class=\"sk-toggleable__label\" for=\"b4ce8b45-fbb5-40be-addd-855d037c56a5\">RobustScaler</label><div class=\"sk-toggleable__content\"><pre>RobustScaler()</pre></div></div></div></div></div></div><div class=\"sk-parallel-item\"><div class=\"sk-item\"><div class=\"sk-label-container\"><div class=\"sk-label sk-toggleable\"><input class=\"sk-toggleable__control sk-hidden--visually\" id=\"aa3f342b-d473-4d22-868b-f202523786d1\" type=\"checkbox\" ><label class=\"sk-toggleable__label\" for=\"aa3f342b-d473-4d22-868b-f202523786d1\">encoding</label><div class=\"sk-toggleable__content\"><pre>['key']</pre></div></div></div><div class=\"sk-serial\"><div class=\"sk-item\"><div class=\"sk-estimator sk-toggleable\"><input class=\"sk-toggleable__control sk-hidden--visually\" id=\"f088ae9e-6908-49fe-b559-9781e2ec56e8\" type=\"checkbox\" ><label class=\"sk-toggleable__label\" for=\"f088ae9e-6908-49fe-b559-9781e2ec56e8\">OneHotEncoder</label><div class=\"sk-toggleable__content\"><pre>OneHotEncoder(sparse=False)</pre></div></div></div></div></div></div></div></div></div></div></div></div></div><div class=\"sk-item\"><div class=\"sk-estimator sk-toggleable\"><input class=\"sk-toggleable__control sk-hidden--visually\" id=\"fd96295a-1811-46c6-86f8-1395502f4804\" type=\"checkbox\" ><label class=\"sk-toggleable__label\" for=\"fd96295a-1811-46c6-86f8-1395502f4804\">DecisionTreeRegressor</label><div class=\"sk-toggleable__content\"><pre>DecisionTreeRegressor()</pre></div></div></div></div></div></div></div>"
      ],
      "text/plain": [
       "Pipeline(steps=[('preprocessor',\n",
       "                 ColumnTransformer(transformers=[('artist_preproc',\n",
       "                                                  Pipeline(steps=[('artist_popularity',\n",
       "                                                                   ArtistPopularityTransformer()),\n",
       "                                                                  ('scaler',\n",
       "                                                                   MinMaxScaler())]),\n",
       "                                                  ['artist']),\n",
       "                                                 ('year_preproc',\n",
       "                                                  Pipeline(steps=[('year',\n",
       "                                                                   FunctionTransformer(func=<function <lambda> at 0x7fd66983d3a0>)),\n",
       "                                                                  ('scaler',\n",
       "                                                                   MinMaxScaler())]),\n",
       "                                                  ['release_date']),\n",
       "                                                 ('other_prep...\n",
       "                                                  ColumnTransformer(remainder='passthrough',\n",
       "                                                                    transformers=[('scaling',\n",
       "                                                                                   RobustScaler(),\n",
       "                                                                                   ['duration_ms',\n",
       "                                                                                    'loudness',\n",
       "                                                                                    'tempo']),\n",
       "                                                                                  ('encoding',\n",
       "                                                                                   OneHotEncoder(sparse=False),\n",
       "                                                                                   ['key'])]),\n",
       "                                                  ['acousticness',\n",
       "                                                   'danceability',\n",
       "                                                   'duration_ms', 'energy',\n",
       "                                                   'explicit',\n",
       "                                                   'instrumentalness', 'key',\n",
       "                                                   'liveness', 'loudness',\n",
       "                                                   'mode', 'speechiness',\n",
       "                                                   'tempo', 'valence'])])),\n",
       "                ('model', DecisionTreeRegressor())])"
      ]
     },
     "execution_count": 47,
     "metadata": {},
     "output_type": "execute_result"
    }
   ],
   "source": [
    "# Print below your best pipe for correction purpose\n",
    "pipe_ensemble"
   ]
  },
  {
   "cell_type": "code",
   "execution_count": 48,
   "metadata": {
    "ExecuteTime": {
     "end_time": "2021-04-07T15:44:31.904859Z",
     "start_time": "2021-04-07T15:44:31.894471Z"
    }
   },
   "outputs": [],
   "source": [
    "from nbresult import ChallengeResult\n",
    "\n",
    "ChallengeResult(\"model_tuning\",\n",
    "    scoring = scoring,\n",
    "    score_linear=score_linear,\n",
    "    score_ensemble=score_ensemble).write()"
   ]
  },
  {
   "cell_type": "markdown",
   "metadata": {},
   "source": [
    "## API \n",
    "\n",
    "Time to put a pipeline in production!\n",
    "\n",
    "👉 Go to https://github.com/lewagon/data-certification-api and follow instructions\n",
    "\n",
    "**This final part is independent from the above notebook**"
   ]
  },
  {
   "cell_type": "markdown",
   "metadata": {},
   "source": [
    "Wanna try the api ?"
   ]
  },
  {
   "cell_type": "markdown",
   "metadata": {},
   "source": [
    "https://data-certification-aco7pbafca-ew.a.run.app/predict?acousticness=0.654&danceability=0.499&duration_ms=219827&energy=0.19&explicit=0&id=0B6BeEUd6UwFlbsHMQKjob&instrumentalness=0.00409&key=7&liveness=0.0898&loudness=-16.435&mode=1&name=Back%20in%20the%20Goodle%20Days&release_date=1971&speechiness=0.0454&tempo=149.46&valence=0.43&artist=John%20Hartford"
   ]
  }
 ],
 "metadata": {
  "kernelspec": {
   "display_name": "Python 3",
   "language": "python",
   "name": "python3"
  },
  "language_info": {
   "codemirror_mode": {
    "name": "ipython",
    "version": 3
   },
   "file_extension": ".py",
   "mimetype": "text/x-python",
   "name": "python",
   "nbconvert_exporter": "python",
   "pygments_lexer": "ipython3",
   "version": "3.8.6"
  },
  "toc": {
   "base_numbering": 1,
   "nav_menu": {},
   "number_sections": true,
   "sideBar": true,
   "skip_h1_title": true,
   "title_cell": "Table of Contents",
   "title_sidebar": "Contents",
   "toc_cell": false,
   "toc_position": {
    "height": "calc(100% - 180px)",
    "left": "10px",
    "top": "150px",
    "width": "242px"
   },
   "toc_section_display": true,
   "toc_window_display": true
  },
  "varInspector": {
   "cols": {
    "lenName": 16,
    "lenType": 16,
    "lenVar": 40
   },
   "kernels_config": {
    "python": {
     "delete_cmd_postfix": "",
     "delete_cmd_prefix": "del ",
     "library": "var_list.py",
     "varRefreshCmd": "print(var_dic_list())"
    },
    "r": {
     "delete_cmd_postfix": ") ",
     "delete_cmd_prefix": "rm(",
     "library": "var_list.r",
     "varRefreshCmd": "cat(var_dic_list()) "
    }
   },
   "types_to_exclude": [
    "module",
    "function",
    "builtin_function_or_method",
    "instance",
    "_Feature"
   ],
   "window_display": false
  }
 },
 "nbformat": 4,
 "nbformat_minor": 4
}
