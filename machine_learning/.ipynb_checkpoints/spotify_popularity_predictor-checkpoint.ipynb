{
 "cells": [
  {
   "cell_type": "markdown",
   "metadata": {},
   "source": [
    "# Spotify Popularity Predictor (39%)"
   ]
  },
  {
   "cell_type": "markdown",
   "metadata": {},
   "source": [
    "The goal of this challenge is to create a model that predicts the popularity of a song based on its features.\n",
    "\n",
    "The dataset contains a list of tracks with the following characteristics:\n",
    "- `acousticness`: whether the track is acoustic\n",
    "- `danceability`: describes how suitable a track is for dancing\n",
    "- `duration_ms`: duration of the track in milliseconds\n",
    "- `energy`: represents a perceptual measure of intensity and activity\n",
    "- `explicit`: whether the track has explicit lyrics\n",
    "- `id`: id for the track\n",
    "- `instrumentalness`: predicts whether a track contains no vocals\n",
    "- `key`: the key the track is in\n",
    "- `liveness`: detects the presence of an audience in the recording\n",
    "- `loudness`: the overall loudness of a track in decibels\n",
    "- `mode`: modality of a track\n",
    "- `name`: name of the track\n",
    "- `popularity`: popularity of the track\n",
    "- `release_date`: release date\n",
    "- `speechiness`: detects the presence of spoken words in a track\n",
    "- `tempo`: overall estimated tempo of a track in beats per minute\n",
    "- `valence`: describes the musical positiveness conveyed by a track\n",
    "- `artist`: artist who performed the track"
   ]
  },
  {
   "cell_type": "markdown",
   "metadata": {},
   "source": [
    "# Model"
   ]
  },
  {
   "cell_type": "markdown",
   "metadata": {},
   "source": [
    "## Data collection\n",
    "\n",
    "📝 **Load the `spotify_popularity_train.csv` dataset from the provided URL**\n",
    "- Display the first few rows\n",
    "- Perform the basic cleaning operations (remove redundant lines, as well as those with missing values)\n",
    "- Store the result in a `DataFrame` named `data`"
   ]
  },
  {
   "cell_type": "code",
   "execution_count": 1,
   "metadata": {
    "ExecuteTime": {
     "end_time": "2021-04-07T07:03:55.976132Z",
     "start_time": "2021-04-07T07:03:55.970747Z"
    }
   },
   "outputs": [],
   "source": [
    "url = \"https://wagon-public-datasets.s3.amazonaws.com/certification_paris_2021Q1/spotify_popularity_train.csv\""
   ]
  },
  {
   "cell_type": "code",
   "execution_count": 11,
   "metadata": {
    "ExecuteTime": {
     "end_time": "2021-04-07T07:08:37.342219Z",
     "start_time": "2021-04-07T07:08:36.528591Z"
    }
   },
   "outputs": [],
   "source": [
    "import pandas as pd\n",
    "import requests\n",
    "import io\n",
    "\n",
    "s=requests.get(url).content\n",
    "data = pd.read_csv(io.StringIO(s.decode('utf-8')))"
   ]
  },
  {
   "cell_type": "code",
   "execution_count": 12,
   "metadata": {
    "ExecuteTime": {
     "end_time": "2021-04-07T07:08:37.641542Z",
     "start_time": "2021-04-07T07:08:37.589091Z"
    }
   },
   "outputs": [
    {
     "data": {
      "text/html": [
       "<div>\n",
       "<style scoped>\n",
       "    .dataframe tbody tr th:only-of-type {\n",
       "        vertical-align: middle;\n",
       "    }\n",
       "\n",
       "    .dataframe tbody tr th {\n",
       "        vertical-align: top;\n",
       "    }\n",
       "\n",
       "    .dataframe thead th {\n",
       "        text-align: right;\n",
       "    }\n",
       "</style>\n",
       "<table border=\"1\" class=\"dataframe\">\n",
       "  <thead>\n",
       "    <tr style=\"text-align: right;\">\n",
       "      <th></th>\n",
       "      <th>acousticness</th>\n",
       "      <th>danceability</th>\n",
       "      <th>duration_ms</th>\n",
       "      <th>energy</th>\n",
       "      <th>explicit</th>\n",
       "      <th>id</th>\n",
       "      <th>instrumentalness</th>\n",
       "      <th>key</th>\n",
       "      <th>liveness</th>\n",
       "      <th>loudness</th>\n",
       "      <th>mode</th>\n",
       "      <th>name</th>\n",
       "      <th>popularity</th>\n",
       "      <th>release_date</th>\n",
       "      <th>speechiness</th>\n",
       "      <th>tempo</th>\n",
       "      <th>valence</th>\n",
       "      <th>artist</th>\n",
       "    </tr>\n",
       "  </thead>\n",
       "  <tbody>\n",
       "    <tr>\n",
       "      <th>0</th>\n",
       "      <td>0.65400</td>\n",
       "      <td>0.499</td>\n",
       "      <td>219827</td>\n",
       "      <td>0.190</td>\n",
       "      <td>0</td>\n",
       "      <td>0B6BeEUd6UwFlbsHMQKjob</td>\n",
       "      <td>0.004090</td>\n",
       "      <td>7</td>\n",
       "      <td>0.0898</td>\n",
       "      <td>-16.435</td>\n",
       "      <td>1</td>\n",
       "      <td>Back in the Goodle Days</td>\n",
       "      <td>40</td>\n",
       "      <td>1971</td>\n",
       "      <td>0.0454</td>\n",
       "      <td>149.460</td>\n",
       "      <td>0.4300</td>\n",
       "      <td>John Hartford</td>\n",
       "    </tr>\n",
       "    <tr>\n",
       "      <th>1</th>\n",
       "      <td>0.00592</td>\n",
       "      <td>0.439</td>\n",
       "      <td>483948</td>\n",
       "      <td>0.808</td>\n",
       "      <td>0</td>\n",
       "      <td>5Gpx4lJy3vKmIvjwbiR5c8</td>\n",
       "      <td>0.140000</td>\n",
       "      <td>2</td>\n",
       "      <td>0.0890</td>\n",
       "      <td>-8.497</td>\n",
       "      <td>1</td>\n",
       "      <td>Worlds Which Break Us - Intro Mix</td>\n",
       "      <td>22</td>\n",
       "      <td>2015-02-02</td>\n",
       "      <td>0.0677</td>\n",
       "      <td>138.040</td>\n",
       "      <td>0.0587</td>\n",
       "      <td>Driftmoon</td>\n",
       "    </tr>\n",
       "    <tr>\n",
       "      <th>2</th>\n",
       "      <td>0.73400</td>\n",
       "      <td>0.523</td>\n",
       "      <td>245693</td>\n",
       "      <td>0.288</td>\n",
       "      <td>0</td>\n",
       "      <td>7MxuUYqrCIy93h1EEHrIrL</td>\n",
       "      <td>0.000000</td>\n",
       "      <td>0</td>\n",
       "      <td>0.0771</td>\n",
       "      <td>-11.506</td>\n",
       "      <td>1</td>\n",
       "      <td>I'm The Greatest Star</td>\n",
       "      <td>40</td>\n",
       "      <td>1968-09-01</td>\n",
       "      <td>0.2140</td>\n",
       "      <td>75.869</td>\n",
       "      <td>0.4640</td>\n",
       "      <td>Barbra Streisand</td>\n",
       "    </tr>\n",
       "    <tr>\n",
       "      <th>3</th>\n",
       "      <td>0.42900</td>\n",
       "      <td>0.681</td>\n",
       "      <td>130026</td>\n",
       "      <td>0.165</td>\n",
       "      <td>0</td>\n",
       "      <td>4GeYbfIx1vSQXTfQb1m8Th</td>\n",
       "      <td>0.000000</td>\n",
       "      <td>11</td>\n",
       "      <td>0.3940</td>\n",
       "      <td>-21.457</td>\n",
       "      <td>0</td>\n",
       "      <td>Kapitel 281 - Der Page und die Herzogin</td>\n",
       "      <td>1</td>\n",
       "      <td>1926</td>\n",
       "      <td>0.9460</td>\n",
       "      <td>145.333</td>\n",
       "      <td>0.2880</td>\n",
       "      <td>Georgette Heyer</td>\n",
       "    </tr>\n",
       "    <tr>\n",
       "      <th>4</th>\n",
       "      <td>0.56200</td>\n",
       "      <td>0.543</td>\n",
       "      <td>129813</td>\n",
       "      <td>0.575</td>\n",
       "      <td>0</td>\n",
       "      <td>2JPGGZwajjMk0vvhfC17RK</td>\n",
       "      <td>0.000004</td>\n",
       "      <td>2</td>\n",
       "      <td>0.1270</td>\n",
       "      <td>-7.374</td>\n",
       "      <td>1</td>\n",
       "      <td>Away from You</td>\n",
       "      <td>15</td>\n",
       "      <td>2008-02-11</td>\n",
       "      <td>0.0265</td>\n",
       "      <td>139.272</td>\n",
       "      <td>0.8010</td>\n",
       "      <td>Gerry &amp; The Pacemakers</td>\n",
       "    </tr>\n",
       "  </tbody>\n",
       "</table>\n",
       "</div>"
      ],
      "text/plain": [
       "   acousticness  danceability  duration_ms  energy  explicit  \\\n",
       "0       0.65400         0.499       219827   0.190         0   \n",
       "1       0.00592         0.439       483948   0.808         0   \n",
       "2       0.73400         0.523       245693   0.288         0   \n",
       "3       0.42900         0.681       130026   0.165         0   \n",
       "4       0.56200         0.543       129813   0.575         0   \n",
       "\n",
       "                       id  instrumentalness  key  liveness  loudness  mode  \\\n",
       "0  0B6BeEUd6UwFlbsHMQKjob          0.004090    7    0.0898   -16.435     1   \n",
       "1  5Gpx4lJy3vKmIvjwbiR5c8          0.140000    2    0.0890    -8.497     1   \n",
       "2  7MxuUYqrCIy93h1EEHrIrL          0.000000    0    0.0771   -11.506     1   \n",
       "3  4GeYbfIx1vSQXTfQb1m8Th          0.000000   11    0.3940   -21.457     0   \n",
       "4  2JPGGZwajjMk0vvhfC17RK          0.000004    2    0.1270    -7.374     1   \n",
       "\n",
       "                                      name  popularity release_date  \\\n",
       "0                  Back in the Goodle Days          40         1971   \n",
       "1        Worlds Which Break Us - Intro Mix          22   2015-02-02   \n",
       "2                    I'm The Greatest Star          40   1968-09-01   \n",
       "3  Kapitel 281 - Der Page und die Herzogin           1         1926   \n",
       "4                            Away from You          15   2008-02-11   \n",
       "\n",
       "   speechiness    tempo  valence                  artist  \n",
       "0       0.0454  149.460   0.4300           John Hartford  \n",
       "1       0.0677  138.040   0.0587               Driftmoon  \n",
       "2       0.2140   75.869   0.4640        Barbra Streisand  \n",
       "3       0.9460  145.333   0.2880         Georgette Heyer  \n",
       "4       0.0265  139.272   0.8010  Gerry & The Pacemakers  "
      ]
     },
     "execution_count": 12,
     "metadata": {},
     "output_type": "execute_result"
    }
   ],
   "source": [
    "data.head()"
   ]
  },
  {
   "cell_type": "code",
   "execution_count": 13,
   "metadata": {
    "ExecuteTime": {
     "end_time": "2021-04-07T07:08:50.058558Z",
     "start_time": "2021-04-07T07:08:50.048782Z"
    }
   },
   "outputs": [
    {
     "data": {
      "text/plain": [
       "(52317, 18)"
      ]
     },
     "execution_count": 13,
     "metadata": {},
     "output_type": "execute_result"
    }
   ],
   "source": [
    "data.shape"
   ]
  },
  {
   "cell_type": "code",
   "execution_count": 14,
   "metadata": {
    "ExecuteTime": {
     "end_time": "2021-04-07T07:08:54.220691Z",
     "start_time": "2021-04-07T07:08:54.096215Z"
    }
   },
   "outputs": [],
   "source": [
    "data = data.drop_duplicates()"
   ]
  },
  {
   "cell_type": "code",
   "execution_count": 15,
   "metadata": {
    "ExecuteTime": {
     "end_time": "2021-04-07T07:08:54.480319Z",
     "start_time": "2021-04-07T07:08:54.471085Z"
    }
   },
   "outputs": [
    {
     "data": {
      "text/plain": [
       "(52057, 18)"
      ]
     },
     "execution_count": 15,
     "metadata": {},
     "output_type": "execute_result"
    }
   ],
   "source": [
    "data.shape"
   ]
  },
  {
   "cell_type": "code",
   "execution_count": 16,
   "metadata": {
    "ExecuteTime": {
     "end_time": "2021-04-07T07:09:02.171410Z",
     "start_time": "2021-04-07T07:09:02.095876Z"
    }
   },
   "outputs": [
    {
     "name": "stdout",
     "output_type": "stream",
     "text": [
      "<class 'pandas.core.frame.DataFrame'>\n",
      "Int64Index: 52057 entries, 0 to 52316\n",
      "Data columns (total 18 columns):\n",
      " #   Column            Non-Null Count  Dtype  \n",
      "---  ------            --------------  -----  \n",
      " 0   acousticness      52057 non-null  float64\n",
      " 1   danceability      52057 non-null  float64\n",
      " 2   duration_ms       52057 non-null  int64  \n",
      " 3   energy            52057 non-null  float64\n",
      " 4   explicit          52057 non-null  int64  \n",
      " 5   id                52057 non-null  object \n",
      " 6   instrumentalness  52057 non-null  float64\n",
      " 7   key               52057 non-null  int64  \n",
      " 8   liveness          52057 non-null  float64\n",
      " 9   loudness          52057 non-null  float64\n",
      " 10  mode              52057 non-null  int64  \n",
      " 11  name              52057 non-null  object \n",
      " 12  popularity        52057 non-null  int64  \n",
      " 13  release_date      52057 non-null  object \n",
      " 14  speechiness       52057 non-null  float64\n",
      " 15  tempo             52057 non-null  float64\n",
      " 16  valence           52057 non-null  float64\n",
      " 17  artist            52053 non-null  object \n",
      "dtypes: float64(9), int64(5), object(4)\n",
      "memory usage: 7.5+ MB\n"
     ]
    }
   ],
   "source": [
    "data.info()"
   ]
  },
  {
   "cell_type": "code",
   "execution_count": 17,
   "metadata": {
    "ExecuteTime": {
     "end_time": "2021-04-07T07:09:36.661937Z",
     "start_time": "2021-04-07T07:09:36.607769Z"
    }
   },
   "outputs": [
    {
     "data": {
      "text/plain": [
       "artist              4\n",
       "danceability        0\n",
       "valence             0\n",
       "tempo               0\n",
       "speechiness         0\n",
       "release_date        0\n",
       "popularity          0\n",
       "name                0\n",
       "mode                0\n",
       "acousticness        0\n",
       "liveness            0\n",
       "key                 0\n",
       "instrumentalness    0\n",
       "id                  0\n",
       "explicit            0\n",
       "energy              0\n",
       "duration_ms         0\n",
       "loudness            0\n",
       "dtype: int64"
      ]
     },
     "execution_count": 17,
     "metadata": {},
     "output_type": "execute_result"
    }
   ],
   "source": [
    "data.isnull().sum().sort_values(ascending=False)"
   ]
  },
  {
   "cell_type": "code",
   "execution_count": 22,
   "metadata": {
    "ExecuteTime": {
     "end_time": "2021-04-07T07:10:59.377556Z",
     "start_time": "2021-04-07T07:10:59.351917Z"
    }
   },
   "outputs": [],
   "source": [
    "data = data[~data.artist.isnull()]"
   ]
  },
  {
   "cell_type": "code",
   "execution_count": 23,
   "metadata": {
    "ExecuteTime": {
     "end_time": "2021-04-07T07:11:03.953053Z",
     "start_time": "2021-04-07T07:11:03.944118Z"
    }
   },
   "outputs": [
    {
     "data": {
      "text/plain": [
       "(52053, 18)"
      ]
     },
     "execution_count": 23,
     "metadata": {},
     "output_type": "execute_result"
    }
   ],
   "source": [
    "data.shape"
   ]
  },
  {
   "cell_type": "markdown",
   "metadata": {},
   "source": [
    "🧪 **Run the following cell to save your results**"
   ]
  },
  {
   "cell_type": "code",
   "execution_count": 24,
   "metadata": {
    "ExecuteTime": {
     "end_time": "2021-04-07T07:11:28.673457Z",
     "start_time": "2021-04-07T07:11:28.647623Z"
    }
   },
   "outputs": [],
   "source": [
    "from nbresult import ChallengeResult\n",
    "\n",
    "ChallengeResult(\n",
    "    \"data_cleaning\",\n",
    "    shape=data.shape).write()"
   ]
  },
  {
   "cell_type": "markdown",
   "metadata": {},
   "source": [
    "## Simple model"
   ]
  },
  {
   "cell_type": "markdown",
   "metadata": {},
   "source": [
    "📝 **Which sklearn's scoring [metric](https://scikit-learn.org/stable/modules/model_evaluation.html) should we use if we want to:**\n",
    "- **Strongly penalize** largest errors\n",
    "- Measure errors **in the same unit** than `popularity` \n",
    "- Is better when greater (metric_good_model > metric_bad_model)\n",
    "\n",
    "👉 Store its exact name as `string` in the variable `scoring` below\n",
    "\n",
    "🚨 You must use this metric for the rest of the challenge"
   ]
  },
  {
   "cell_type": "code",
   "execution_count": 25,
   "metadata": {
    "ExecuteTime": {
     "end_time": "2021-04-07T07:22:07.739341Z",
     "start_time": "2021-04-07T07:22:07.733655Z"
    }
   },
   "outputs": [],
   "source": [
    "scoring = \"neg_root_mean_squared_error\""
   ]
  },
  {
   "cell_type": "markdown",
   "metadata": {},
   "source": [
    "**📝 Let's build a first simple linear model using only the numerical features in our dataset to start with**\n",
    "- Build `X_simple` keeping only numerical features\n",
    "- Build `y` your target containing the `popularity`"
   ]
  },
  {
   "cell_type": "code",
   "execution_count": 27,
   "metadata": {
    "ExecuteTime": {
     "end_time": "2021-04-07T07:22:55.917560Z",
     "start_time": "2021-04-07T07:22:55.845783Z"
    }
   },
   "outputs": [
    {
     "name": "stdout",
     "output_type": "stream",
     "text": [
      "<class 'pandas.core.frame.DataFrame'>\n",
      "Int64Index: 52053 entries, 0 to 52316\n",
      "Data columns (total 18 columns):\n",
      " #   Column            Non-Null Count  Dtype  \n",
      "---  ------            --------------  -----  \n",
      " 0   acousticness      52053 non-null  float64\n",
      " 1   danceability      52053 non-null  float64\n",
      " 2   duration_ms       52053 non-null  int64  \n",
      " 3   energy            52053 non-null  float64\n",
      " 4   explicit          52053 non-null  int64  \n",
      " 5   id                52053 non-null  object \n",
      " 6   instrumentalness  52053 non-null  float64\n",
      " 7   key               52053 non-null  int64  \n",
      " 8   liveness          52053 non-null  float64\n",
      " 9   loudness          52053 non-null  float64\n",
      " 10  mode              52053 non-null  int64  \n",
      " 11  name              52053 non-null  object \n",
      " 12  popularity        52053 non-null  int64  \n",
      " 13  release_date      52053 non-null  object \n",
      " 14  speechiness       52053 non-null  float64\n",
      " 15  tempo             52053 non-null  float64\n",
      " 16  valence           52053 non-null  float64\n",
      " 17  artist            52053 non-null  object \n",
      "dtypes: float64(9), int64(5), object(4)\n",
      "memory usage: 7.5+ MB\n"
     ]
    }
   ],
   "source": [
    "data.info()"
   ]
  },
  {
   "cell_type": "code",
   "execution_count": 28,
   "metadata": {
    "ExecuteTime": {
     "end_time": "2021-04-07T07:25:14.158820Z",
     "start_time": "2021-04-07T07:25:14.141846Z"
    }
   },
   "outputs": [],
   "source": [
    "X_simple = data.copy().drop(columns=['id','name','popularity','release_date','artist'])"
   ]
  },
  {
   "cell_type": "code",
   "execution_count": 30,
   "metadata": {
    "ExecuteTime": {
     "end_time": "2021-04-07T07:25:54.267452Z",
     "start_time": "2021-04-07T07:25:54.255302Z"
    }
   },
   "outputs": [],
   "source": [
    "y = data.copy().popularity"
   ]
  },
  {
   "cell_type": "markdown",
   "metadata": {},
   "source": [
    "### Holdout evaluation"
   ]
  },
  {
   "cell_type": "markdown",
   "metadata": {},
   "source": [
    "**📝 Create the 4 variables `X_train_simple` `y_train`, `X_test_simple`, `y_test` with a 50% split with random sampling**"
   ]
  },
  {
   "cell_type": "code",
   "execution_count": 32,
   "metadata": {
    "ExecuteTime": {
     "end_time": "2021-04-07T07:27:35.406565Z",
     "start_time": "2021-04-07T07:27:35.381428Z"
    }
   },
   "outputs": [],
   "source": [
    "from sklearn.model_selection import train_test_split\n",
    "\n",
    "X_train_simple, X_test_simple, y_train, y_test = train_test_split(X_simple, y, test_size=0.5)"
   ]
  },
  {
   "cell_type": "markdown",
   "metadata": {},
   "source": [
    "**📝 Fit and evaluate a basic linear model (do not fine tune it) with this holdout method**\n",
    "- Store your model true performance in a float variable `score_simple_holdout`"
   ]
  },
  {
   "cell_type": "code",
   "execution_count": 40,
   "metadata": {
    "ExecuteTime": {
     "end_time": "2021-04-07T07:39:14.396252Z",
     "start_time": "2021-04-07T07:39:14.388998Z"
    }
   },
   "outputs": [],
   "source": [
    "def NRMSE(pred, true):\n",
    "    return -((sum((pred-true)**2)/len(true))**0.5)"
   ]
  },
  {
   "cell_type": "code",
   "execution_count": 43,
   "metadata": {
    "ExecuteTime": {
     "end_time": "2021-04-07T07:40:06.739509Z",
     "start_time": "2021-04-07T07:40:06.660213Z"
    }
   },
   "outputs": [
    {
     "data": {
      "text/plain": [
       "-18.392316190680038"
      ]
     },
     "execution_count": 43,
     "metadata": {},
     "output_type": "execute_result"
    }
   ],
   "source": [
    "from sklearn.linear_model import LinearRegression\n",
    "\n",
    "model = LinearRegression()\n",
    "model.fit(X_train_simple, y_train)\n",
    "y_pred = model.predict(X_test_simple)\n",
    "score_simple_holdout = NRMSE(y_pred, y_test)\n",
    "score_simple_holdout"
   ]
  },
  {
   "cell_type": "markdown",
   "metadata": {},
   "source": [
    "### Cross-validation evaluation"
   ]
  },
  {
   "cell_type": "markdown",
   "metadata": {},
   "source": [
    "📝 **Let's be sure our score is representative**: \n",
    "- 5-times cross validate a basic linear model on the whole numeric dataset (`X_simple`, `y`)\n",
    "- Do not fine tune your model\n",
    "- Store your mean performance in a variable `score_simple_cv_mean` as a `float`\n",
    "- Store the standard deviation of your performances in a float variable `score_simple_cv_std`"
   ]
  },
  {
   "cell_type": "code",
   "execution_count": 46,
   "metadata": {
    "ExecuteTime": {
     "end_time": "2021-04-07T07:41:43.811803Z",
     "start_time": "2021-04-07T07:41:43.443708Z"
    }
   },
   "outputs": [
    {
     "data": {
      "text/plain": [
       "-18.360558551569433"
      ]
     },
     "execution_count": 46,
     "metadata": {},
     "output_type": "execute_result"
    }
   ],
   "source": [
    "from sklearn.model_selection import cross_val_score\n",
    "score_simple_cv_mean = cross_val_score(model, X_simple, y, cv=5, scoring=scoring).mean()\n",
    "score_simple_cv_mean"
   ]
  },
  {
   "cell_type": "code",
   "execution_count": 47,
   "metadata": {
    "ExecuteTime": {
     "end_time": "2021-04-07T07:44:57.021578Z",
     "start_time": "2021-04-07T07:44:57.011362Z"
    }
   },
   "outputs": [
    {
     "data": {
      "text/plain": [
       "18.360558551569433"
      ]
     },
     "execution_count": 47,
     "metadata": {},
     "output_type": "execute_result"
    }
   ],
   "source": [
    "score_simple_cv_std = -score_simple_cv_mean\n",
    "score_simple_cv_std "
   ]
  },
  {
   "cell_type": "markdown",
   "metadata": {},
   "source": [
    "🧪 **Run the following cell to save your results**"
   ]
  },
  {
   "cell_type": "code",
   "execution_count": 48,
   "metadata": {
    "ExecuteTime": {
     "end_time": "2021-04-07T07:44:59.682262Z",
     "start_time": "2021-04-07T07:44:59.675048Z"
    }
   },
   "outputs": [],
   "source": [
    "from nbresult import ChallengeResult\n",
    "\n",
    "ChallengeResult(\n",
    "    \"simple_model\",\n",
    "    scoring=scoring,\n",
    "    shape_train = X_train_simple.shape,\n",
    "    score_simple_holdout=score_simple_holdout,\n",
    "    score_simple_cv_mean=score_simple_cv_mean,\n",
    "    score_simple_cv_std=score_simple_cv_std,\n",
    ").write()"
   ]
  },
  {
   "cell_type": "markdown",
   "metadata": {},
   "source": [
    "## Feature engineering\n",
    "\n",
    "(From now on, we will stop using train/test split but cross-validation on the whole dataset instead)  \n",
    "\n",
    "Let's try to improve performance using the feature `release_date`"
   ]
  },
  {
   "cell_type": "markdown",
   "metadata": {},
   "source": [
    "**📝 Create `X_engineered` by adding a new column `year` to `X`, containing the release year of the track as `integer`**"
   ]
  },
  {
   "cell_type": "code",
   "execution_count": null,
   "metadata": {},
   "outputs": [],
   "source": []
  },
  {
   "cell_type": "markdown",
   "metadata": {},
   "source": [
    "📝 **Let's see how this impact the performance of our model.**\n",
    "- Retrain the same simple linear model on numerical values only, adding the new feature `year`\n",
    "- Save the mean cross-validated performance metric in a variable named `score_engineered` as a `float`\n",
    "- Do not fine tune the model yet"
   ]
  },
  {
   "cell_type": "code",
   "execution_count": null,
   "metadata": {},
   "outputs": [],
   "source": []
  },
  {
   "cell_type": "markdown",
   "metadata": {},
   "source": [
    "🧪 **Run the following cell to save your results**"
   ]
  },
  {
   "cell_type": "code",
   "execution_count": null,
   "metadata": {},
   "outputs": [],
   "source": [
    "from nbresult import ChallengeResult\n",
    "\n",
    "ChallengeResult(\"feature_engineering\",\n",
    "    cols = X_engineered.columns,\n",
    "    years = X_engineered.get(\"year\"),\n",
    "    score_engineered=score_engineered\n",
    ").write()"
   ]
  },
  {
   "cell_type": "markdown",
   "metadata": {},
   "source": [
    "## Pipelining\n",
    "\n",
    "Let's now look for maximum performance by creating a solid preprocessing pipeline.\n",
    "\n",
    "**📝 Create a sklearn preprocessing [pipeline](https://scikit-learn.org/stable/modules/generated/sklearn.pipeline.Pipeline.html) and store it as `preproc`**\n",
    "\n",
    "- Feel free to add any preprocessing steps you think of\n",
    "- You may want to integrate your feature engineering for `year`\n",
    "- You may also further improve it using the `ArtistPopularityTransformer` class given to you below\n",
    "- Don't add any model to it yet\n",
    "\n",
    "🚨 Advice: It is better for you to have a working pipeline (even simple one) rather than NO pipeline at all"
   ]
  },
  {
   "cell_type": "code",
   "execution_count": null,
   "metadata": {},
   "outputs": [],
   "source": [
    "# 👉 Do not hesitate to reload a clean new dataset if you need a fresh start.\n",
    "# X = \n",
    "# y = "
   ]
  },
  {
   "cell_type": "code",
   "execution_count": null,
   "metadata": {
    "slideshow": {
     "slide_type": "-"
    }
   },
   "outputs": [],
   "source": [
    "# We are giving you below a custom transformer that you may want to use in your pipeline (make sure you understanding it)\n",
    "\n",
    "from sklearn.base import BaseEstimator, TransformerMixin\n",
    "\n",
    "class ArtistPopularityTransformer(BaseEstimator, TransformerMixin):\n",
    "    \"\"\"\n",
    "    Compute, as a new feature of the test set, the mean popularity of \n",
    "    all songs made by the artist on the train set.\n",
    "    \"\"\"\n",
    "\n",
    "    def __init__(self):\n",
    "        pass\n",
    "\n",
    "    def fit(self, X, y=None):\n",
    "        \"\"\"\n",
    "        process artist mean popularity from artists songs popularity\n",
    "        process song global mean popularity\n",
    "        \"\"\"\n",
    "\n",
    "        # process artist popularity\n",
    "        self.artist_popularity = y.groupby(X.artist).agg(\"mean\")\n",
    "        self.artist_popularity.name = \"artist_popularity\"\n",
    "\n",
    "        # process mean popularity\n",
    "        self.mean_popularity = y.mean()\n",
    "\n",
    "        return self\n",
    "\n",
    "    def transform(self, X, y=None):\n",
    "        \"\"\"\n",
    "        apply artist mean popularity vs song global mean popularity to songs\n",
    "        \"\"\"\n",
    "\n",
    "        # inject artist popularity\n",
    "        X_copy = X.merge(self.artist_popularity, how=\"left\", left_on=\"artist\", right_index=True)\n",
    "\n",
    "        # fills popularity of unknown artists with song global mean popularity\n",
    "        X_copy.replace(np.nan, self.mean_popularity, inplace=True)\n",
    "\n",
    "        return X_copy[[\"artist_popularity\"]]"
   ]
  },
  {
   "cell_type": "code",
   "execution_count": null,
   "metadata": {},
   "outputs": [],
   "source": []
  },
  {
   "cell_type": "markdown",
   "metadata": {},
   "source": [
    "**📝 Store the number of columns/feature after preprocessing your inputs in a variable `col_number`**"
   ]
  },
  {
   "cell_type": "code",
   "execution_count": null,
   "metadata": {},
   "outputs": [],
   "source": []
  },
  {
   "cell_type": "markdown",
   "metadata": {},
   "source": [
    "🧪 **Run the following cells to save your results**"
   ]
  },
  {
   "cell_type": "code",
   "execution_count": null,
   "metadata": {},
   "outputs": [],
   "source": [
    "# Visually print your preproc\n",
    "from sklearn import set_config; set_config(display='diagram')\n",
    "preproc"
   ]
  },
  {
   "cell_type": "code",
   "execution_count": null,
   "metadata": {},
   "outputs": [],
   "source": [
    "# Save your preproc\n",
    "from nbresult import ChallengeResult\n",
    "\n",
    "ChallengeResult(\n",
    "    \"preprocessing\",\n",
    "    col_number=col_number,\n",
    "    first_observation = preproc.fit_transform(X, y)[0]\n",
    ").write()"
   ]
  },
  {
   "cell_type": "markdown",
   "metadata": {},
   "source": [
    "## Training\n",
    "\n",
    "📝 **Time to fine tune your models**\n",
    "\n",
    "- Add an **estimator** to your pipeline (only from Scikit-learn) \n",
    "\n",
    "- Train your pipeline and **fine-tune** (optimize) your estimator to maximize prediction score\n",
    "\n",
    "- You must try to fine tune at least 2 different models: \n",
    "    - create one pipeline with a **linear model** of your choice\n",
    "    - create one pipeline with an **ensemble model** of your choice\n",
    "\n",
    "Then, \n",
    "\n",
    "- Save your two best 5-time cross-validated scores as _float_: `score_linear` and `score_ensemble`\n",
    "\n",
    "- Save your two best trained pipelines as _Pipeline_ objects: `pipe_linear` and `pipe_ensemble`"
   ]
  },
  {
   "cell_type": "markdown",
   "metadata": {
    "slideshow": {
     "slide_type": "-"
    }
   },
   "source": [
    "### Linear"
   ]
  },
  {
   "cell_type": "code",
   "execution_count": null,
   "metadata": {},
   "outputs": [],
   "source": []
  },
  {
   "cell_type": "markdown",
   "metadata": {},
   "source": [
    "### Ensemble"
   ]
  },
  {
   "cell_type": "code",
   "execution_count": null,
   "metadata": {},
   "outputs": [],
   "source": []
  },
  {
   "cell_type": "markdown",
   "metadata": {},
   "source": [
    "🧪 **Run the following cells to save your results**"
   ]
  },
  {
   "cell_type": "code",
   "execution_count": null,
   "metadata": {},
   "outputs": [],
   "source": [
    "# Print below your best pipe for correction purpose\n",
    "from sklearn import set_config; set_config(display='diagram')\n",
    "pipe_linear"
   ]
  },
  {
   "cell_type": "code",
   "execution_count": null,
   "metadata": {},
   "outputs": [],
   "source": [
    "# Print below your best pipe for correction purpose\n",
    "pipe_ensemble"
   ]
  },
  {
   "cell_type": "code",
   "execution_count": null,
   "metadata": {},
   "outputs": [],
   "source": [
    "from nbresult import ChallengeResult\n",
    "\n",
    "ChallengeResult(\"model_tuning\",\n",
    "    scoring = scoring,\n",
    "    score_linear=score_linear,\n",
    "    score_ensemble=score_ensemble).write()"
   ]
  },
  {
   "cell_type": "markdown",
   "metadata": {},
   "source": [
    "## API \n",
    "\n",
    "Time to put a pipeline in production!\n",
    "\n",
    "👉 Go to https://github.com/lewagon/data-certification-api and follow instructions\n",
    "\n",
    "**This final part is independent from the above notebook**"
   ]
  },
  {
   "cell_type": "code",
   "execution_count": null,
   "metadata": {},
   "outputs": [],
   "source": []
  }
 ],
 "metadata": {
  "kernelspec": {
   "display_name": "Python 3",
   "language": "python",
   "name": "python3"
  },
  "language_info": {
   "codemirror_mode": {
    "name": "ipython",
    "version": 3
   },
   "file_extension": ".py",
   "mimetype": "text/x-python",
   "name": "python",
   "nbconvert_exporter": "python",
   "pygments_lexer": "ipython3",
   "version": "3.8.6"
  },
  "toc": {
   "base_numbering": 1,
   "nav_menu": {},
   "number_sections": true,
   "sideBar": true,
   "skip_h1_title": true,
   "title_cell": "Table of Contents",
   "title_sidebar": "Contents",
   "toc_cell": false,
   "toc_position": {
    "height": "calc(100% - 180px)",
    "left": "10px",
    "top": "150px",
    "width": "242px"
   },
   "toc_section_display": true,
   "toc_window_display": true
  },
  "varInspector": {
   "cols": {
    "lenName": 16,
    "lenType": 16,
    "lenVar": 40
   },
   "kernels_config": {
    "python": {
     "delete_cmd_postfix": "",
     "delete_cmd_prefix": "del ",
     "library": "var_list.py",
     "varRefreshCmd": "print(var_dic_list())"
    },
    "r": {
     "delete_cmd_postfix": ") ",
     "delete_cmd_prefix": "rm(",
     "library": "var_list.r",
     "varRefreshCmd": "cat(var_dic_list()) "
    }
   },
   "types_to_exclude": [
    "module",
    "function",
    "builtin_function_or_method",
    "instance",
    "_Feature"
   ],
   "window_display": false
  }
 },
 "nbformat": 4,
 "nbformat_minor": 4
}
